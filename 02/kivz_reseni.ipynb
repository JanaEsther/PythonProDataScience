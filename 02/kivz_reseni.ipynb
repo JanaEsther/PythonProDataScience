{
 "cells": [
  {
   "cell_type": "markdown",
   "metadata": {},
   "source": [
    "# Řešení kvízu ze čtvrté lekce\n",
    "\n",
    "## Část 1"
   ]
  },
  {
   "cell_type": "markdown",
   "metadata": {},
   "source": [
    "### Otázka 1\n",
    "\n",
    "Prvním úkolem je formulace hypotéz. Sestav nulovou a alternativní hypotézu. Naším cílem je ověřit, zda existuje rozdíl mezi průměrným hodnocením káv z Guatemaly a Tchaj-wanu.\n",
    "\n",
    "*- H0: Mezi průměrným hodnocením kávy z Guatemaly a z Tchaj-wanu není rozdíl.*\n",
    "*- H1: Mezi průměrným hodnocením kávy z Guatemaly a z Tchaj-wanu je rozdíl.*"
   ]
  },
  {
   "cell_type": "markdown",
   "metadata": {},
   "source": [
    "### Otázka 2\n",
    "\n",
    "Uvažuj hypotetickou situaci, že by výsledkem našeho testu bylo tvrzení, že mezi průměrným hodnocením káv je rozdíl. Ve skutečnosti mezi nimi žádný rozdíl není, v našem testování jsme tedy došli k chybnému závěru. Jak takovou chybu označujeme?\n",
    "\n",
    "*Chyba I. druhu*"
   ]
  },
  {
   "cell_type": "markdown",
   "metadata": {},
   "source": [
    "### Otázka 3\n",
    "\n",
    "Jak označujeme pravděpodobnost chyby I. druhu, kterou jsme při testování ochotni tolerovat?\n",
    "\n",
    "*hladina významnosti*"
   ]
  },
  {
   "cell_type": "markdown",
   "metadata": {},
   "source": [
    "### Otázka 4\n",
    "\n",
    "Uvažuj, že bychom hledali vhodný statistický test pro naše hypotézy. Které skupiny testů by se nám hodily?\n",
    "\n",
    "*Testy na porovnání střední hodnoty (průměru), Dvouvýběrové testy*\n",
    "\n",
    "**Zdůvodnění**:\n",
    "\n",
    "- Hypotéza porovnává dva výběry - jeden výběr se týká kávy z Guatemaly a druhý výběr se týká kávy z Tach-wanu.\n",
    "- Hypotéza porovnává dvě střední hodnoty (dva práměry). Z toho důvodu volíme test na porovnání střední hodnoty (průměru).\n",
    "- V hypotéze se nevyskytuje variabilita. Pokud bychom měli použít test na porovnání variability, bylo by to (například) pro test následující dvojice hypotéz:\n",
    "  - H0: Průměrná hodnocení kávy z Guatemaly a z Tchaj-wanu mají stejnou variabilitu.\n",
    "  - H1: Průměrná hodnocení kávy z Guatemaly a z Tchaj-wanu mají odlišnou variabilitu.\n",
    "- Protože porovnáváme dva výběry, nemůžeme použít jednovýběrový test."
   ]
  },
  {
   "cell_type": "markdown",
   "metadata": {},
   "source": [
    "### Otázka 5\n",
    "\n",
    "Uvažuj nyní hypotetickou situaci, že by nám vyšla p-hodnota 2 % a pracujeme s hladinou významnosti 5 %. Jak se rozhodneme o platnosti nulové hypotézy?\n",
    "\n",
    "*Nulovou hypotézu zamítáme*"
   ]
  },
  {
   "cell_type": "markdown",
   "metadata": {},
   "source": [
    "### Otázka 6\n",
    "\n",
    "O kolik se liší průměrné hodnocení káv v našich datech?\n",
    "\n",
    "*Káva z Tchaj-wanu má o cca 0.049 vyšší průměrné hodnocení.*"
   ]
  },
  {
   "cell_type": "markdown",
   "metadata": {},
   "source": [
    "### Otázka 7\n",
    "\n",
    "Nyní proveď test na základě dat v souboru a s využitím vhodné funkce modulu scipy. Jaká ti vyšla p-hodnota?\n",
    "\n",
    "*0.8884*"
   ]
  },
  {
   "cell_type": "markdown",
   "metadata": {},
   "source": [
    "### Otázka 8\n",
    "\n",
    "A jaký je závěr z našeho testování? Uvažuj hladinu významnosti 5 %.\n",
    "\n",
    "*Nulovou hypotézu nezamítáme"
   ]
  },
  {
   "cell_type": "markdown",
   "metadata": {},
   "source": [
    "### Otázka 9\n",
    "\n",
    "Změnil by se závěr testování (tj. rozhodnutí o zamítnutí nulové hypotézy), pokud bychom hladinu významnosti snížíli na 1 %?\n",
    "\n",
    "*Závěr testování by byl stejný*"
   ]
  },
  {
   "cell_type": "markdown",
   "metadata": {},
   "source": [
    "### Otázka 10\n",
    "\n",
    "Která z následujících vět nejlépe vystihuje výsledek našeho testu?\n",
    "\n",
    "*Rozdíl, který jsme mezi průměrnými hodnoceními káv z našich dat zjistili, není statisticky významný. Existuje významná pravděpodobnost, že zjištěný rozdíl mezi průměry je způsobený náhodou.*"
   ]
  },
  {
   "cell_type": "markdown",
   "metadata": {},
   "source": [
    "### Bonusová otázka\n",
    "\n",
    "Nyní uvažuj následující případ: Výrobci káv se rozhodli otestovat novou technologii pražení. Nejprve shromáždili data o hodnocení svých káv před zavedením nové technogolie. Poté technologii zavedli, nechali pomocí ní vyrobit nové vzorky kávy a ty opět nechali ohodnotit. U každého výrobce tedy máme hodnocení kávy před změnou technologie pražení a po změne. Nyní bychom měli otestovat, zda se změnilo průměrné hodnocení kávy po zavedení nové technologie pražení.\n",
    "\n",
    "Můžeme použít párový test?\n",
    "\n",
    "*Ano, je to možné*\n",
    "\n",
    "**Zdůvodnění**: Data, která bychom testovali, jsou párová. Vytvořili bychom páry - vždy pro stejného výrobce bychom dali do páru hodnocení pro starou technologii a hodnocení pro novou technologii. Z toho důvodu je možné použít párový test. V předchozí části jsme měli dvě různé skupiny výrobců, tam tedy o párový test nešlo."
   ]
  }
 ],
 "metadata": {
  "language_info": {
   "name": "python"
  }
 },
 "nbformat": 4,
 "nbformat_minor": 2
}
