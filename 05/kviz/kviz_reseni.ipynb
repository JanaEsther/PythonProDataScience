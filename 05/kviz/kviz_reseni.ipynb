{
 "cells": [
  {
   "cell_type": "markdown",
   "metadata": {},
   "source": [
    "# Řešení kvízu ze sedmé lekce\n",
    "\n",
    "## Část 1\n",
    "\n",
    "### Otázka 1\n",
    "\n",
    "Máme data o chování zákazníků v e-shopu (jaké produkty nakupují, jak často, v jakém množství) atd. Někdo nám zadá úkol rozřadit tyto zákazníky do skupin s využitím strojového učení. Nemáme ale žádná data o tom, jaký zákazník (zákaznice) patří do jaké skupiny. Je toto úloha, která spadá pod supervised learning?\n",
    "\n",
    "*Není, potřebovali bychom vědět alespoň pro část zákazníků, do které skupiny patří.*\n",
    "\n",
    "### Otázka 2\n",
    "\n",
    "Chceme potenciálního žadatele (žadatelky) o úvěr zařadit do jedné ze skupin: nízce rizikový(á), vysoce rizikový(á). O jaký typ úlohy jde?\n",
    "\n",
    "*klasifikační úloha*\n",
    "\n",
    "## Část 2\n",
    "\n",
    "Pro tuto část si stáhni data o pacientech, která se týkající charakteristik pacienta (např. věk, pohlaví), různé údaje z lékařského vyšetření a pravděpodobnost infarktu. Data najdeš zde. Predikovaná proměnná (label) je poslední, která má následující hodnoty:\n",
    "- 0 = nízká pravděpodobnost infarktu,\n",
    "- 1 = vysoká pravděpodobnost infarktu.\n",
    "\n",
    "Podrobných popis ostatních sloupců najdeš zde. Pro výběr správných odpovědí si načti data a vlož importy:"
   ]
  },
  {
   "cell_type": "code",
   "execution_count": 1,
   "metadata": {},
   "outputs": [],
   "source": [
    "import pandas as pd\n",
    "from sklearn.preprocessing import StandardScaler\n",
    "from sklearn.model_selection import train_test_split\n",
    "from sklearn.neighbors import KNeighborsClassifier\n",
    "import matplotlib.pyplot as plt\n",
    "from sklearn.metrics import ConfusionMatrixDisplay\n",
    "from sklearn.metrics import accuracy_score, precision_score, recall_score\n",
    "\n",
    "data = pd.read_csv(\"heart.csv\")\n",
    "data.head()\n",
    "X = data.drop(columns=[\"output\"])\n",
    "y = data[\"output\"]"
   ]
  },
  {
   "cell_type": "markdown",
   "metadata": {},
   "source": [
    "## Část 2\n",
    "\n",
    "### Otázka 3\n",
    "\n",
    "Uvažuj, že provedeš rozdělení na testovací a trénovací data níže popsaných způsobem a poté provedeš algoritmus K Nearest Neighbors, jako jsme si ukazovali na lekci.\n",
    "\n",
    "Pokud poté pustíš všechny příkazy v Jupyter notebooku, bude výsledky (např. hodnota metriky accuracy) stejná, nebo se bude lišit?"
   ]
  },
  {
   "cell_type": "code",
   "execution_count": 2,
   "metadata": {},
   "outputs": [],
   "source": [
    "X_train, X_test, y_train, y_test = train_test_split(\n",
    "    X, y, test_size=0.3\n",
    ")"
   ]
  },
  {
   "cell_type": "markdown",
   "metadata": {},
   "source": [
    "*Výsledky budou různé, protože data jsou rozdělena na testovací a trénovací jinak. Je třeba nastavit parametr random_state na nějaké číslo (např. 42).*"
   ]
  },
  {
   "cell_type": "markdown",
   "metadata": {},
   "source": [
    "### Otázka 4\n",
    "\n",
    "V čem se liší metody transform a fit_transform?"
   ]
  },
  {
   "cell_type": "code",
   "execution_count": 3,
   "metadata": {},
   "outputs": [],
   "source": [
    "scaler = StandardScaler()\n",
    "X_train = scaler.fit_transform(X_train)\n",
    "X_test = scaler.transform(X_test)"
   ]
  },
  {
   "cell_type": "markdown",
   "metadata": {},
   "source": [
    "### Otázka 5\n",
    "\n",
    "Proč vůbec standardizaci používáme? Nebylo by lepší, kdybychom nechali data v původních jednotkách?\n",
    "\n",
    "*Data v různých sloupcích mohou být v různých jednotkách, třeba v desetinných číslech, a jiné sloupce mají hodnoty v úplně jiném měřítku. To je z pohledu fungování požadované metody problém. Z hlediska metody nejbližšího souseda by byly hodnoty v řádu desetinných čísel blízko u sebe a naopak u sloupců v desítkách by byly body od sebe vzdálené moc daleko. Potom by tedy výsledky hodně ovlivňovaly hodnoty ve sloupcích s hodnotami v desetinných číslech na úkor hodnot ve sloupcích s hodnotami v řádu desítek. Potřebujeme tedy hodnoty převést na podobné jednotky.*\n",
    "\n",
    "### Otázka 6\n",
    "\n",
    "Pokud použijeme algoritmus K Nearest Neighbors, který parametr modelu můžeme optimalizovat?\n",
    "\n",
    "*parametr k, který říká, na kolik sousedů se podívá*\n",
    "\n",
    "### Otázka 7\n",
    "\n",
    "Vytvoř model s využitím algoritmu K Nearest Neighbors. Využij metodu train_test_split s parametrem random_state=42, do testovacích dat dej 30 % všech dat. Vytvoř si matici zámět. U kolika pacientů (pacientek) model chybně určil, že pravděpodobnost infarktu je u nich vysoká, ačkoli ve skutečnosti je u nich nízká?\n",
    "\n",
    "*6*\n",
    "\n",
    "### Otázka 8\n",
    "\n",
    "Která metrika říká procento lidí, u kterých model správně určil, do jaké skupiny patří?\n",
    "\n",
    "*accuracy*\n",
    "\n",
    "### Otázka 9\n",
    "\n",
    "Jaká hodnota této metriky ti vyšla?\n",
    "\n",
    "*0.8681318681*\n",
    "\n",
    "### Otázka 10\n",
    "\n",
    "Je nutné při výpočtu metrik recall a precision nastavovat parametr pos_label?\n",
    "\n",
    "*Ne, hodnoty 0 jsou automaticky považované za False a hodnoty 1 za True*\n",
    "\n",
    "### Otázka 11\n",
    "\n",
    "Co platí pro hodnoty metrik pro vyhodnocení modelů?\n",
    "\n",
    "*Čím vyšší hodnota, tím lepší. Nejvyšší možná hodnota je 1.*\n",
    "\n",
    "### Otázka 12\n",
    "\n",
    "Jaké je optimální hodnota parametru K pro metriku accuracy? Hledej v rozsahu 1 až 23.\n",
    "\n",
    "*5 nebo 7*"
   ]
  }
 ],
 "metadata": {
  "kernelspec": {
   "display_name": "venv",
   "language": "python",
   "name": "python3"
  },
  "language_info": {
   "codemirror_mode": {
    "name": "ipython",
    "version": 3
   },
   "file_extension": ".py",
   "mimetype": "text/x-python",
   "name": "python",
   "nbconvert_exporter": "python",
   "pygments_lexer": "ipython3",
   "version": "3.9.6"
  }
 },
 "nbformat": 4,
 "nbformat_minor": 2
}
