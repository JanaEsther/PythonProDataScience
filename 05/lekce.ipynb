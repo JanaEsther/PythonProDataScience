{
 "cells": [
  {
   "attachments": {},
   "cell_type": "markdown",
   "metadata": {},
   "source": [
    "# Lekce 5\n",
    "\n",
    "## Statistická rozdělení\n",
    "\n",
    "Vraťme se k našim datům o pacientkách. "
   ]
  },
  {
   "cell_type": "code",
   "execution_count": 4,
   "metadata": {},
   "outputs": [
    {
     "data": {
      "text/html": [
       "<div>\n",
       "<style scoped>\n",
       "    .dataframe tbody tr th:only-of-type {\n",
       "        vertical-align: middle;\n",
       "    }\n",
       "\n",
       "    .dataframe tbody tr th {\n",
       "        vertical-align: top;\n",
       "    }\n",
       "\n",
       "    .dataframe thead th {\n",
       "        text-align: right;\n",
       "    }\n",
       "</style>\n",
       "<table border=\"1\" class=\"dataframe\">\n",
       "  <thead>\n",
       "    <tr style=\"text-align: right;\">\n",
       "      <th></th>\n",
       "      <th>Pregnancies</th>\n",
       "      <th>Glucose</th>\n",
       "      <th>BloodPressure</th>\n",
       "      <th>SkinThickness</th>\n",
       "      <th>Insulin</th>\n",
       "      <th>BMI</th>\n",
       "      <th>DiabetesPedigreeFunction</th>\n",
       "      <th>Age</th>\n",
       "      <th>Outcome</th>\n",
       "    </tr>\n",
       "  </thead>\n",
       "  <tbody>\n",
       "    <tr>\n",
       "      <th>count</th>\n",
       "      <td>768.000000</td>\n",
       "      <td>768.000000</td>\n",
       "      <td>768.000000</td>\n",
       "      <td>768.000000</td>\n",
       "      <td>768.000000</td>\n",
       "      <td>768.000000</td>\n",
       "      <td>768.000000</td>\n",
       "      <td>768.000000</td>\n",
       "      <td>768.000000</td>\n",
       "    </tr>\n",
       "    <tr>\n",
       "      <th>mean</th>\n",
       "      <td>3.845052</td>\n",
       "      <td>120.894531</td>\n",
       "      <td>69.105469</td>\n",
       "      <td>20.536458</td>\n",
       "      <td>79.799479</td>\n",
       "      <td>31.992578</td>\n",
       "      <td>0.471876</td>\n",
       "      <td>33.240885</td>\n",
       "      <td>0.348958</td>\n",
       "    </tr>\n",
       "    <tr>\n",
       "      <th>std</th>\n",
       "      <td>3.369578</td>\n",
       "      <td>31.972618</td>\n",
       "      <td>19.355807</td>\n",
       "      <td>15.952218</td>\n",
       "      <td>115.244002</td>\n",
       "      <td>7.884160</td>\n",
       "      <td>0.331329</td>\n",
       "      <td>11.760232</td>\n",
       "      <td>0.476951</td>\n",
       "    </tr>\n",
       "    <tr>\n",
       "      <th>min</th>\n",
       "      <td>0.000000</td>\n",
       "      <td>0.000000</td>\n",
       "      <td>0.000000</td>\n",
       "      <td>0.000000</td>\n",
       "      <td>0.000000</td>\n",
       "      <td>0.000000</td>\n",
       "      <td>0.078000</td>\n",
       "      <td>21.000000</td>\n",
       "      <td>0.000000</td>\n",
       "    </tr>\n",
       "    <tr>\n",
       "      <th>25%</th>\n",
       "      <td>1.000000</td>\n",
       "      <td>99.000000</td>\n",
       "      <td>62.000000</td>\n",
       "      <td>0.000000</td>\n",
       "      <td>0.000000</td>\n",
       "      <td>27.300000</td>\n",
       "      <td>0.243750</td>\n",
       "      <td>24.000000</td>\n",
       "      <td>0.000000</td>\n",
       "    </tr>\n",
       "    <tr>\n",
       "      <th>50%</th>\n",
       "      <td>3.000000</td>\n",
       "      <td>117.000000</td>\n",
       "      <td>72.000000</td>\n",
       "      <td>23.000000</td>\n",
       "      <td>30.500000</td>\n",
       "      <td>32.000000</td>\n",
       "      <td>0.372500</td>\n",
       "      <td>29.000000</td>\n",
       "      <td>0.000000</td>\n",
       "    </tr>\n",
       "    <tr>\n",
       "      <th>75%</th>\n",
       "      <td>6.000000</td>\n",
       "      <td>140.250000</td>\n",
       "      <td>80.000000</td>\n",
       "      <td>32.000000</td>\n",
       "      <td>127.250000</td>\n",
       "      <td>36.600000</td>\n",
       "      <td>0.626250</td>\n",
       "      <td>41.000000</td>\n",
       "      <td>1.000000</td>\n",
       "    </tr>\n",
       "    <tr>\n",
       "      <th>max</th>\n",
       "      <td>17.000000</td>\n",
       "      <td>199.000000</td>\n",
       "      <td>122.000000</td>\n",
       "      <td>99.000000</td>\n",
       "      <td>846.000000</td>\n",
       "      <td>67.100000</td>\n",
       "      <td>2.420000</td>\n",
       "      <td>81.000000</td>\n",
       "      <td>1.000000</td>\n",
       "    </tr>\n",
       "  </tbody>\n",
       "</table>\n",
       "</div>"
      ],
      "text/plain": [
       "       Pregnancies     Glucose  BloodPressure  SkinThickness     Insulin   \n",
       "count   768.000000  768.000000     768.000000     768.000000  768.000000  \\\n",
       "mean      3.845052  120.894531      69.105469      20.536458   79.799479   \n",
       "std       3.369578   31.972618      19.355807      15.952218  115.244002   \n",
       "min       0.000000    0.000000       0.000000       0.000000    0.000000   \n",
       "25%       1.000000   99.000000      62.000000       0.000000    0.000000   \n",
       "50%       3.000000  117.000000      72.000000      23.000000   30.500000   \n",
       "75%       6.000000  140.250000      80.000000      32.000000  127.250000   \n",
       "max      17.000000  199.000000     122.000000      99.000000  846.000000   \n",
       "\n",
       "              BMI  DiabetesPedigreeFunction         Age     Outcome  \n",
       "count  768.000000                768.000000  768.000000  768.000000  \n",
       "mean    31.992578                  0.471876   33.240885    0.348958  \n",
       "std      7.884160                  0.331329   11.760232    0.476951  \n",
       "min      0.000000                  0.078000   21.000000    0.000000  \n",
       "25%     27.300000                  0.243750   24.000000    0.000000  \n",
       "50%     32.000000                  0.372500   29.000000    0.000000  \n",
       "75%     36.600000                  0.626250   41.000000    1.000000  \n",
       "max     67.100000                  2.420000   81.000000    1.000000  "
      ]
     },
     "execution_count": 4,
     "metadata": {},
     "output_type": "execute_result"
    }
   ],
   "source": [
    "import pandas as pd\n",
    "import seaborn as sns\n",
    "\n",
    "data = pd.read_csv(\"diabetes.csv\")\n",
    "data.describe()"
   ]
  },
  {
   "cell_type": "code",
   "execution_count": 6,
   "metadata": {},
   "outputs": [
    {
     "data": {
      "text/html": [
       "<div>\n",
       "<style scoped>\n",
       "    .dataframe tbody tr th:only-of-type {\n",
       "        vertical-align: middle;\n",
       "    }\n",
       "\n",
       "    .dataframe tbody tr th {\n",
       "        vertical-align: top;\n",
       "    }\n",
       "\n",
       "    .dataframe thead th {\n",
       "        text-align: right;\n",
       "    }\n",
       "</style>\n",
       "<table border=\"1\" class=\"dataframe\">\n",
       "  <thead>\n",
       "    <tr style=\"text-align: right;\">\n",
       "      <th></th>\n",
       "      <th>Pregnancies</th>\n",
       "      <th>Glucose</th>\n",
       "      <th>BloodPressure</th>\n",
       "      <th>SkinThickness</th>\n",
       "      <th>Insulin</th>\n",
       "      <th>BMI</th>\n",
       "      <th>DiabetesPedigreeFunction</th>\n",
       "      <th>Age</th>\n",
       "      <th>Outcome</th>\n",
       "    </tr>\n",
       "  </thead>\n",
       "  <tbody>\n",
       "    <tr>\n",
       "      <th>count</th>\n",
       "      <td>733.000000</td>\n",
       "      <td>733.000000</td>\n",
       "      <td>733.000000</td>\n",
       "      <td>733.000000</td>\n",
       "      <td>733.000000</td>\n",
       "      <td>733.000000</td>\n",
       "      <td>733.000000</td>\n",
       "      <td>733.000000</td>\n",
       "      <td>733.000000</td>\n",
       "    </tr>\n",
       "    <tr>\n",
       "      <th>mean</th>\n",
       "      <td>3.855389</td>\n",
       "      <td>121.042292</td>\n",
       "      <td>72.405184</td>\n",
       "      <td>21.444748</td>\n",
       "      <td>83.609823</td>\n",
       "      <td>32.292769</td>\n",
       "      <td>0.475861</td>\n",
       "      <td>33.361528</td>\n",
       "      <td>0.343793</td>\n",
       "    </tr>\n",
       "    <tr>\n",
       "      <th>std</th>\n",
       "      <td>3.358106</td>\n",
       "      <td>32.179943</td>\n",
       "      <td>12.382158</td>\n",
       "      <td>15.705756</td>\n",
       "      <td>116.606997</td>\n",
       "      <td>7.271540</td>\n",
       "      <td>0.334179</td>\n",
       "      <td>11.837077</td>\n",
       "      <td>0.475297</td>\n",
       "    </tr>\n",
       "    <tr>\n",
       "      <th>min</th>\n",
       "      <td>0.000000</td>\n",
       "      <td>0.000000</td>\n",
       "      <td>24.000000</td>\n",
       "      <td>0.000000</td>\n",
       "      <td>0.000000</td>\n",
       "      <td>0.000000</td>\n",
       "      <td>0.078000</td>\n",
       "      <td>21.000000</td>\n",
       "      <td>0.000000</td>\n",
       "    </tr>\n",
       "    <tr>\n",
       "      <th>25%</th>\n",
       "      <td>1.000000</td>\n",
       "      <td>99.000000</td>\n",
       "      <td>64.000000</td>\n",
       "      <td>0.000000</td>\n",
       "      <td>0.000000</td>\n",
       "      <td>27.400000</td>\n",
       "      <td>0.245000</td>\n",
       "      <td>24.000000</td>\n",
       "      <td>0.000000</td>\n",
       "    </tr>\n",
       "    <tr>\n",
       "      <th>50%</th>\n",
       "      <td>3.000000</td>\n",
       "      <td>117.000000</td>\n",
       "      <td>72.000000</td>\n",
       "      <td>24.000000</td>\n",
       "      <td>45.000000</td>\n",
       "      <td>32.300000</td>\n",
       "      <td>0.380000</td>\n",
       "      <td>29.000000</td>\n",
       "      <td>0.000000</td>\n",
       "    </tr>\n",
       "    <tr>\n",
       "      <th>75%</th>\n",
       "      <td>6.000000</td>\n",
       "      <td>141.000000</td>\n",
       "      <td>80.000000</td>\n",
       "      <td>33.000000</td>\n",
       "      <td>130.000000</td>\n",
       "      <td>36.600000</td>\n",
       "      <td>0.629000</td>\n",
       "      <td>41.000000</td>\n",
       "      <td>1.000000</td>\n",
       "    </tr>\n",
       "    <tr>\n",
       "      <th>max</th>\n",
       "      <td>17.000000</td>\n",
       "      <td>199.000000</td>\n",
       "      <td>122.000000</td>\n",
       "      <td>99.000000</td>\n",
       "      <td>846.000000</td>\n",
       "      <td>67.100000</td>\n",
       "      <td>2.420000</td>\n",
       "      <td>81.000000</td>\n",
       "      <td>1.000000</td>\n",
       "    </tr>\n",
       "  </tbody>\n",
       "</table>\n",
       "</div>"
      ],
      "text/plain": [
       "       Pregnancies     Glucose  BloodPressure  SkinThickness     Insulin   \n",
       "count   733.000000  733.000000     733.000000     733.000000  733.000000  \\\n",
       "mean      3.855389  121.042292      72.405184      21.444748   83.609823   \n",
       "std       3.358106   32.179943      12.382158      15.705756  116.606997   \n",
       "min       0.000000    0.000000      24.000000       0.000000    0.000000   \n",
       "25%       1.000000   99.000000      64.000000       0.000000    0.000000   \n",
       "50%       3.000000  117.000000      72.000000      24.000000   45.000000   \n",
       "75%       6.000000  141.000000      80.000000      33.000000  130.000000   \n",
       "max      17.000000  199.000000     122.000000      99.000000  846.000000   \n",
       "\n",
       "              BMI  DiabetesPedigreeFunction         Age     Outcome  \n",
       "count  733.000000                733.000000  733.000000  733.000000  \n",
       "mean    32.292769                  0.475861   33.361528    0.343793  \n",
       "std      7.271540                  0.334179   11.837077    0.475297  \n",
       "min      0.000000                  0.078000   21.000000    0.000000  \n",
       "25%     27.400000                  0.245000   24.000000    0.000000  \n",
       "50%     32.300000                  0.380000   29.000000    0.000000  \n",
       "75%     36.600000                  0.629000   41.000000    1.000000  \n",
       "max     67.100000                  2.420000   81.000000    1.000000  "
      ]
     },
     "execution_count": 6,
     "metadata": {},
     "output_type": "execute_result"
    }
   ],
   "source": [
    "data = data[data[\"BloodPressure\"] > 0]\n",
    "data.describe()"
   ]
  },
  {
   "cell_type": "code",
   "execution_count": 10,
   "metadata": {},
   "outputs": [
    {
     "data": {
      "text/plain": [
       "<Axes: xlabel='BloodPressure', ylabel='Count'>"
      ]
     },
     "execution_count": 10,
     "metadata": {},
     "output_type": "execute_result"
    },
    {
     "data": {
      "image/png": "[encoded data removed]",
      "text/plain": [
       "<Figure size 640x480 with 1 Axes>"
      ]
     },
     "metadata": {},
     "output_type": "display_data"
    }
   ],
   "source": [
    "sns.histplot(data=data, x=\"BloodPressure\")"
   ]
  },
  {
   "cell_type": "code",
   "execution_count": 12,
   "metadata": {},
   "outputs": [
    {
     "data": {
      "text/plain": [
       "<seaborn.axisgrid.FacetGrid at 0x2915f28bbd0>"
      ]
     },
     "execution_count": 12,
     "metadata": {},
     "output_type": "execute_result"
    },
    {
     "data": {
      "image/png": "[encoded data removed]",
      "text/plain": [
       "<Figure size 500x500 with 1 Axes>"
      ]
     },
     "metadata": {},
     "output_type": "display_data"
    }
   ],
   "source": [
    "sns.displot(data=data, x=\"BloodPressure\", kde=True)"
   ]
  },
  {
   "cell_type": "markdown",
   "metadata": {},
   "source": [
    "Pokud máme funkci hustoty, je to nejlepší možný popis jakýchkoli dat. Postupem času bylo zjištěno, že hustoty mnohých dat mají podobný tvar. Například níže máme čtyři funkce, které jsou sice různé (mají různě vysoké maximum a jsou různé \"roztažené\"), ale tvar mají podobný. Všechny čtyři hustoty mají stejné tzv. **statistické rozdělení**. To znamená, že všechny čtyři hustoty lze popsat stejnou matematickou funkcí, která se liší pouze proměnnými (konkrétně průměrem a rozptylem). Statistické rozdělení těchto hustot označujeme jako **normální (Gaussovo) rozdělení**.\n",
    "\n",
    "![](https://upload.wikimedia.org/wikipedia/commons/7/74/Normal_Distribution_PDF.svg)\n",
    "\n",
    "Normální rozdělení má spousta \"jevů\", které se vyskytují v přírodě, například délka, výška nebo hmotnost živé tkáně, krevní tlak lidí atd. Používá se také ve financích na oceňování opcí (např. v Black–Scholesově modelu). Normální rozdělení mají často i chyby měření při experimentech.\n",
    "\n",
    "Vedle normálního rozdělení existuje spousta dalších. Jedním z nich je například exponenciální rozdělení. Exponenciální rozdělení často má délka intervalu mezi dvěma náhodnými událostmi, například příchozími telefonáty v call centru, nebo čas rozpadu radioaktivní částice.\n",
    "\n",
    "![](https://upload.wikimedia.org/wikipedia/commons/0/02/Exponential_probability_density.svg)\n",
    "\n",
    "Rovnoměrné rozdělení má pro každé dva stejně široké intervaly stejnou pravděpodobnost, jeho hustota je konstantní funkce. Pro rovnoměrné rozdělení uvažujeme krajní hodnoty *a* a *b*, mimo tyto krajní hodnoty je pravděpodobnost 0.\n",
    "\n",
    "![](https://upload.wikimedia.org/wikipedia/commons/9/96/Uniform_Distribution_PDF_SVG.svg)\n",
    "\n",
    "Rovnoměrné rozdělení existuje ve verzi pro celá i desetinná čísla, pro celá čísla bychom neměli graf hustoty čárový graf, ale graf by se skládal z \"teček\". Rovnoměrné rozdělení mají (resp. by měly mít) jevy, které souvisí s hazardními hrami. U hracích kostek či rulety by měla být pravděpodobnost padnutí každého z čísel stejná.\n",
    "\n",
    "![](images/Uniform_discrete_pmf_svg.svg)"
   ]
  },
  {
   "cell_type": "markdown",
   "metadata": {},
   "source": [
    "## Ověření předpokladů testu\n",
    "\n"
   ]
  },
  {
   "attachments": {},
   "cell_type": "markdown",
   "metadata": {},
   "source": [
    "## Přehled statistických testů v Pythonu\n",
    "\n",
    "Tato část vám pomůže s výběrem vhodného testu pro vaše projekty.\n",
    "\n",
    "Při výběru testu je možné použít i rozhodovací stromy, zde je příklad [jednoho z nich](strom_1.png). Zde [druhý](strom_2.png), poněkud složitější.\n",
    "\n",
    "### Testy s jedním statistickým souborem\n",
    "\n",
    "Tyto testy porovnávají jeden statistický soubor (jeden sloupec tabulky) oproti nějaké skutečnosti.\n",
    "\n",
    "#### Testy na průměr\n",
    "\n",
    "Testy na průměr porovnávají průměr souboru dat s nějakou námi definovanou hodnotou. U testů na průměr můžeme alternativní hypotézu formulovat pomocí znaménka není rovno, menší než nebo větší než.\n",
    "\n",
    "Níže jsou příklady dvojic hypotéz. Pro test hypotézy můžeme využít následující testy:\n",
    "\n",
    "* [t-test](https://docs.scipy.org/doc/scipy/reference/generated/scipy.stats.ttest_1samp.html#scipy.stats.ttest_1samp), který předpokládá, že data mají normální rozdělení.\n",
    "\n",
    "* H0: Průměrná výška basketbalistek v České republice je 180 cm\n",
    "* H1: Průměrná výška basketbalistek v České republice je více než 180 cm"
   ]
  },
  {
   "cell_type": "code",
   "execution_count": 8,
   "metadata": {},
   "outputs": [
    {
     "name": "stdout",
     "output_type": "stream",
     "text": [
      "TtestResult(statistic=-0.7936270159024009, pvalue=0.44783036238501905, df=9)\n"
     ]
    }
   ],
   "source": [
    "import pandas\n",
    "from scipy import stats\n",
    "\n",
    "data = [170, 180, 175, 183, 178, 182, 185, 176, 179, 181]\n",
    "data = pandas.DataFrame(data, columns=[\"sloupec_1\"])\n",
    "res = stats.ttest_1samp(data[\"sloupec_1\"], 180)\n",
    "print(res)"
   ]
  },
  {
   "attachments": {},
   "cell_type": "markdown",
   "metadata": {},
   "source": [
    "* H0: Průměrná chyba při výrobě součástky do motoru je 0.1 mm\n",
    "* H1: Průměrná chyba při výrobě součástky do motoru je méně než 0.1 mm\n",
    "\n",
    "Zde v alternativní hypotéze říkáme to, že průměrná chyba je menší, proto využíváme parametr `alternative` (do něj píšeme stejné znaménko jako v alternativní hypotéze, tj. `less` nebo `greater`)."
   ]
  },
  {
   "cell_type": "code",
   "execution_count": 18,
   "metadata": {},
   "outputs": [
    {
     "name": "stdout",
     "output_type": "stream",
     "text": [
      "TtestResult(statistic=2.905487990874554, pvalue=0.00871943045417174, df=9)\n"
     ]
    }
   ],
   "source": [
    "data = [0.12, 0.10, 0.11, 0.13, 0.09, 0.11, 0.12, 0.10, 0.11, 0.12]\n",
    "data = pandas.DataFrame(data, columns=[\"sloupec_1\"])\n",
    "res = stats.ttest_1samp(data[\"sloupec_1\"], 0.1, alternative=\"less\")\n",
    "print(res)"
   ]
  },
  {
   "attachments": {},
   "cell_type": "markdown",
   "metadata": {},
   "source": [
    "* H0: Průměrné zpoždění vlaku z Prahy do Plzně s odjezdem v 18:38 je 5 minut\n",
    "* H1: Průměrné zpoždění vlaku z Prahy do Plzně s odjezdem v 18:38 není 5 minut (tj. je méně nebo více než 5 minut)"
   ]
  },
  {
   "cell_type": "code",
   "execution_count": 19,
   "metadata": {},
   "outputs": [
    {
     "name": "stdout",
     "output_type": "stream",
     "text": [
      "TtestResult(statistic=103.94469683442252, pvalue=0.9999999999999982, df=9)\n"
     ]
    }
   ],
   "source": [
    "data = [5.1, 4.9, 5.2, 4.8, 5.0, 5.1, 4.9, 5.2, 4.8, 5.0]\n",
    "data = pandas.DataFrame(data, columns=[\"sloupec_1\"])\n",
    "res = stats.ttest_1samp(data[\"sloupec_1\"], 0.1, alternative=\"less\")\n",
    "print(res)"
   ]
  },
  {
   "attachments": {},
   "cell_type": "markdown",
   "metadata": {},
   "source": [
    "#### Testy na rozdělení\n",
    "\n",
    "Příklad hypotéz:\n",
    "\n",
    "* H0: Ceny domů mají normální rozdělení\n",
    "* H1: Ceny domů nemají normální rozdělení\n",
    "\n",
    "Pro test hypotézy můžeme využít následující testy:\n",
    "\n",
    "* [Shapiro-Wilk test](https://docs.scipy.org/doc/scipy/reference/generated/scipy.stats.shapiro.html#scipy.stats.shapiro)\n",
    "* Kombinace D'Agostinova and Pearsonova testu, který provádí funkce [normaltest](https://docs.scipy.org/doc/scipy/reference/generated/scipy.stats.normaltest.html#scipy.stats.normaltest)."
   ]
  },
  {
   "cell_type": "code",
   "execution_count": 24,
   "metadata": {},
   "outputs": [
    {
     "data": {
      "text/plain": [
       "ShapiroResult(statistic=0.9605264663696289, pvalue=0.42506101727485657)"
      ]
     },
     "execution_count": 24,
     "metadata": {},
     "output_type": "execute_result"
    }
   ],
   "source": [
    "data = [0.74590569, 1.74565776, 0.58570378, 0.95159044, 0.58572699, 1.20722768, 0.38527559, 1.70051498, 1.10369079, 1.18765377, 1.7503144, \n",
    "        0.40093026, 1.2216318,  1.45744714, 1.95942974, 1.08444009, 1.07266436, 0.88722675, 0.48954167, 1.50261749, 1.27005193, 1.026523, 1.44374599, 1.54176153, 0.51657773]\n",
    "data = pandas.DataFrame(data, columns=[\"sloupec_1\"])\n",
    "res = stats.shapiro(data[\"sloupec_1\"])\n",
    "res"
   ]
  },
  {
   "cell_type": "code",
   "execution_count": 25,
   "metadata": {},
   "outputs": [
    {
     "data": {
      "text/plain": [
       "NormaltestResult(statistic=1.8353668908225964, pvalue=0.39944330233531283)"
      ]
     },
     "execution_count": 25,
     "metadata": {},
     "output_type": "execute_result"
    }
   ],
   "source": [
    "res = stats.normaltest(data[\"sloupec_1\"])\n",
    "res"
   ]
  },
  {
   "attachments": {},
   "cell_type": "markdown",
   "metadata": {},
   "source": [
    "Pokud v hypotéze potřebujeme ověřit, zda data mají nějaké jiné rozdělení, můžeme použít [Kolmogorov-Smirnov test](https://docs.scipy.org/doc/scipy/reference/generated/scipy.stats.kstest.html#scipy.stats.kstest).\n",
    "\n",
    "### Testy se dvěma statistickými soubory\n",
    "\n",
    "Tyto testy porovnávají dva různé statistické soubory.\n",
    "\n",
    "#### Testy na průměr\n",
    "\n",
    "U testu na průměr máme k dispozici poměrně hodně testů.\n",
    "\n",
    "Uvažujme nejprve párová pozorování. Párovými pozorování myslíme, že **každému pozorování z jednoho souboru** můžeme **přiřadit jiné pozorování podle nějakého logického klíče**. Například uvažujme školení pracovníků pracující u výrobní linky. Pokud máme data o rychlosti montáže pracovníků před školením (tj. počet smontovaných výrobků za jednotku času) a po školení, můžeme použít párování, protože rychlost před školením a po školení pro jednoho pracovníka tvoří párové pozorování. Pokud bychom chtěli porovnat rychlost pracovníků v jiných směnách nebo jiných závodech, nejedná se o párová pozorování.\n",
    "\n",
    "Příklad hypotéz:\n",
    "\n",
    "* H0: Rychlost montáže pracovníků před školením byla stejná jako po školení\n",
    "* H1: Rychlost montáže pracovníků před školením byla jiná než je po školení\n",
    "\n",
    "Pro test hypotézy můžeme použít [párový t-test](https://docs.scipy.org/doc/scipy/reference/generated/scipy.stats.ttest_rel.html#scipy.stats.ttest_rel). Test předpokládá, že data mají normální rozdělení."
   ]
  },
  {
   "cell_type": "code",
   "execution_count": 40,
   "metadata": {},
   "outputs": [
    {
     "data": {
      "text/plain": [
       "TtestResult(statistic=-25.03753938346132, pvalue=5.020951754927011e-13, df=14)"
      ]
     },
     "execution_count": 40,
     "metadata": {},
     "output_type": "execute_result"
    }
   ],
   "source": [
    "data = [\n",
    "    [10.5, 12.2],  # Pracovník 1\n",
    "    [9.8, 11.4],   # Pracovník 2\n",
    "    [10.2, 11.7],  # Pracovník 3\n",
    "    [10.1, 12.3],  # Pracovník 4\n",
    "    [9.9, 11.6],   # Pracovník 5\n",
    "    [10.6, 12.1],  # Pracovník 6\n",
    "    [9.7, 11.9],   # Pracovník 7\n",
    "    [10.3, 12.0],  # Pracovník 8\n",
    "    [9.6, 11.8],   # Pracovník 9\n",
    "    [10.4, 12.4],  # Pracovník 10\n",
    "    [10.0, 12.5],  # Pracovník 11\n",
    "    [9.5, 11.3],   # Pracovník 12\n",
    "    [10.7, 12.6],  # Pracovník 13\n",
    "    [9.4, 11.2],   # Pracovník 14\n",
    "    [10.8, 12.7]   # Pracovník 15\n",
    "]\n",
    "data = pandas.DataFrame(data, columns=[\"sloupec_1\", \"sloupec_2\"])\n",
    "res = stats.ttest_rel(data[\"sloupec_1\"], data[\"sloupec_2\"])\n",
    "res"
   ]
  },
  {
   "attachments": {},
   "cell_type": "markdown",
   "metadata": {},
   "source": [
    "Pro nepárové testy můžeme mít následující hypotézy:\n",
    "\n",
    "* H0: Rychlost montáže pracovníků v obou sledovaných směnách je stejná\n",
    "* H1: Rychlost montáže pracovníků v obou sledovaných směnách je různá\n",
    "\n",
    "Pro test hypotézy můžeme použít [t-test](https://docs.scipy.org/doc/scipy/reference/generated/scipy.stats.ttest_ind.html#scipy.stats.ttest_ind). Test předpokládám, že data mají normální rozdělení. U testu existují dvě varianty - jedna předpokládá, že data mají stejný rozptyl, druhá uvažuje, že soubory mají různé rozptyly."
   ]
  },
  {
   "cell_type": "code",
   "execution_count": 45,
   "metadata": {},
   "outputs": [
    {
     "data": {
      "text/plain": [
       "Ttest_indResult(statistic=-1.1295989413722716, pvalue=0.26822987045185975)"
      ]
     },
     "execution_count": 45,
     "metadata": {},
     "output_type": "execute_result"
    }
   ],
   "source": [
    "data = [[12.2, 12.4], [11.4, 11.5], [11.7, 11.8], [12.3, 12.2], [11.6, 11.7], \n",
    "                        [12.1, 12.3], [11.9, 11.8], [12.0, 12.1], [11.8, 11.7], [12.4, 12.5], \n",
    "                        [11.9, 12.4], [12.7, 11.4], [10.3, 12.7], [9.11, 11.3], [12.5, 12.6]]\n",
    "data = pandas.DataFrame(data, columns=[\"sloupec_1\", \"sloupec_2\"])\n",
    "res = stats.ttest_ind(data[\"sloupec_1\"], data[\"sloupec_2\"])\n",
    "res"
   ]
  },
  {
   "attachments": {},
   "cell_type": "markdown",
   "metadata": {},
   "source": [
    "#### Testy na rozdělení\n",
    "\n",
    "Testy na rozdělení umožňují porovnat, zda mají dva statistické soubory stejné rozdělení, tj. zda mají stejnou distrubuční funkci. Opět rozlišujeme párový a nepárový test.\n",
    "\n",
    "Pro párový test můžeme formulovat hypotézy:\n",
    "\n",
    "* H0: Rozdělení rychlosti montáže pracovníků po školení je stejná jako před školením\n",
    "* H1: Rozdělení rychlosti montáže pracovníků po školení je jiná než před školením\n",
    "\n",
    "Pro test můžeme použít [Wilcoxonův test](https://docs.scipy.org/doc/scipy/reference/generated/scipy.stats.wilcoxon.html#scipy.stats.wilcoxon). Test je neparametrický, tj. nevyžaduje normální rozdělení."
   ]
  },
  {
   "cell_type": "code",
   "execution_count": 47,
   "metadata": {},
   "outputs": [
    {
     "data": {
      "text/plain": [
       "WilcoxonResult(statistic=0.0, pvalue=6.103515625e-05)"
      ]
     },
     "execution_count": 47,
     "metadata": {},
     "output_type": "execute_result"
    }
   ],
   "source": [
    "scaled_data = [\n",
    "    [18.4, 11.7], # Pracovník 1\n",
    "    [11.8, 14.0], # Pracovník 2\n",
    "    [14.8, 8.7], # Pracovník 3\n",
    "    [13.2, 12.5], # Pracovník 4\n",
    "    [16.3, 12.3], # Pracovník 5\n",
    "    [9.6, 11.9], # Pracovník 6\n",
    "    [14.5, 8.4], # Pracovník 7\n",
    "    [13.0, 10.4], # Pracovník 8\n",
    "    [11.8, 15.7], # Pracovník 9\n",
    "    [11.4, 13.6], # Pracovník 10\n",
    "    [9.2, 9.8], # Pracovník 11\n",
    "    [13.2, 11.5], # Pracovník 12\n",
    "    [12.0, 9.9], # Pracovník 13\n",
    "    [11.7, 12.9], # Pracovník 14\n",
    "    [13.1, 11.2] # Pracovník 15\n",
    "]\n",
    "\n",
    "data = pandas.DataFrame(data, columns=[\"sloupec_1\", \"sloupec_2\"])\n",
    "res = stats.wilcoxon(data[\"sloupec_1\"], data[\"sloupec_2\"])\n",
    "res"
   ]
  },
  {
   "attachments": {},
   "cell_type": "markdown",
   "metadata": {},
   "source": [
    "Pro nepárová pozorování můžeme formulovat hypotézy:\n",
    "\n",
    "* H0: Rozdělení rychlosti montáže v obou sledovaných směnách jsou stejná\n",
    "* H1: Rozdělení rychlosti montáže v obou sledovaných směnách jsou různá\n",
    "\n",
    "Pro otestování můžeme použít [Mann–Whitney test](https://docs.scipy.org/doc/scipy/reference/generated/scipy.stats.mannwhitneyu.html#scipy.stats.mannwhitneyu). Test je neparametrický, tj. nevyžaduje normální rozdělení."
   ]
  },
  {
   "cell_type": "code",
   "execution_count": 48,
   "metadata": {},
   "outputs": [
    {
     "data": {
      "text/plain": [
       "MannwhitneyuResult(statistic=99.0, pvalue=0.5889500869266057)"
      ]
     },
     "execution_count": 48,
     "metadata": {},
     "output_type": "execute_result"
    }
   ],
   "source": [
    "data = [[12.2, 12.4], [11.4, 11.5], [11.7, 11.8], [12.3, 12.2], [11.6, 11.7], \n",
    "                        [12.1, 12.3], [11.9, 11.8], [12.0, 12.1], [11.8, 11.7], [12.4, 12.5], \n",
    "                        [11.9, 12.4], [12.7, 11.4], [10.3, 12.7], [9.11, 11.3], [12.5, 12.6]]\n",
    "data = pandas.DataFrame(data, columns=[\"sloupec_1\", \"sloupec_2\"])\n",
    "res = stats.mannwhitneyu(data[\"sloupec_1\"], data[\"sloupec_2\"])\n",
    "res"
   ]
  },
  {
   "attachments": {},
   "cell_type": "markdown",
   "metadata": {},
   "source": [
    "#### Testy závislosti kategoriálních dat\n",
    "\n",
    "Kategoriální data jsou taková, která obecně není číslo, ale text (v řeči programování řetězec). Kategoriální proměnnou tedy může být oblíbený programovací jazyk, předmět na škole, nápoj, nejvyšší dosažené vzdělání, zda je člověk kuřák atd. Kategoriální proměnné můžeme porovnat mezi sebou a rozhodnout, zda je mezi nimi závislost.\n",
    "\n",
    "Hypotézy mohou být například následující:\n",
    "\n",
    "* H0: Oblíbený předmět nezávisí na pohlaví\n",
    "* H1: Oblíbený předmět závisí na pohlaví\n",
    "\n",
    "Pro test hypotézy můžeme použít [chí-kvadrát test nezávislosti](https://docs.scipy.org/doc/scipy/reference/generated/scipy.stats.chi2_contingency.html). Test je založený na použití kontingenční (pivot) tabulky."
   ]
  },
  {
   "cell_type": "code",
   "execution_count": 52,
   "metadata": {},
   "outputs": [
    {
     "data": {
      "text/plain": [
       "Chi2ContingencyResult(statistic=1.4818062200956932, pvalue=0.47668322366030635, dof=2, expected_freq=array([[9.95238095, 7.85714286, 4.19047619],\n",
       "       [9.04761905, 7.14285714, 3.80952381]]))"
      ]
     },
     "execution_count": 52,
     "metadata": {},
     "output_type": "execute_result"
    }
   ],
   "source": [
    "data = [    \n",
    "    ['female', 'coffee'],\n",
    "    ['female', 'juice'],\n",
    "    ['male', 'juice'],\n",
    "    ['female', 'tea'],\n",
    "    ['female', 'coffee'],\n",
    "    ['male', 'juice'],\n",
    "    ['female', 'coffee'],\n",
    "    ['male', 'coffee'],\n",
    "    ['male', 'tea'],\n",
    "    ['female', 'coffee'],\n",
    "    ['male', 'coffee'],\n",
    "    ['male', 'coffee'],\n",
    "    ['female', 'juice'],\n",
    "    ['female', 'tea'],\n",
    "    ['female', 'coffee'],\n",
    "    ['female', 'tea'],\n",
    "    ['female', 'juice'],\n",
    "    ['male', 'juice'],\n",
    "    ['male', 'tea'],\n",
    "    ['female', 'coffee'],\n",
    "    ['male', 'coffee'],\n",
    "    ['male', 'coffee'],\n",
    "    ['female', 'coffee'],\n",
    "    ['male', 'coffee'],\n",
    "    ['female', 'coffee'],\n",
    "    ['female', 'coffee'],\n",
    "    ['male', 'tea'],\n",
    "    ['male', 'juice'],\n",
    "    ['male', 'juice'],\n",
    "    ['female', 'coffee'],\n",
    "    ['female', 'juice'],\n",
    "    ['male', 'coffee'],\n",
    "    ['female', 'juice'],\n",
    "    ['male', 'juice'],\n",
    "    ['female', 'coffee'],\n",
    "    ['female', 'tea'],\n",
    "    ['male', 'juice'],\n",
    "    ['female', 'juice'],\n",
    "    ['female', 'tea'],\n",
    "    ['male', 'juice'],\n",
    "    ['male', 'coffee'],\n",
    "    ['male', 'juice']\n",
    "]\n",
    "data = pandas.DataFrame(data, columns=[\"sloupec_1\", \"sloupec_2\"])\n",
    "# Pro použití testu musíme vytvořit kontingenční tabulku\n",
    "data = pandas.pivot_table(data, \"sloupec_1\", \"sloupec_1\", \"sloupec_2\",aggfunc=len)\n",
    "res = stats.chi2_contingency(data)\n",
    "res"
   ]
  },
  {
   "attachments": {},
   "cell_type": "markdown",
   "metadata": {},
   "source": [
    "#### Test statistické významnosti korelace\n",
    "\n",
    "Test řeší, zda je zjištěná korelace statisticky významná. \n",
    "\n",
    "Uvažujme následující hypotézy:\n",
    "\n",
    "H0: Cena domu a obytná plocha domu nejsou statisticky závislé\n",
    "H1: Cena domu a obytná plocha domu jsou statisticky závislé\n",
    "\n",
    "Pokud mají data normální rozdělení, lze využít test založený na [Pearsonově korelačním koeficientu](https://docs.scipy.org/doc/scipy/reference/generated/scipy.stats.pearsonr.html#scipy.stats.pearsonr). Pokud data nemají normální rozdělení, můžeme využít test s využitím [Spearmanova koeficientu](https://docs.scipy.org/doc/scipy/reference/generated/scipy.stats.spearmanr.html#scipy.stats.spearmanr) nebo [Kendallova tau](https://docs.scipy.org/doc/scipy/reference/generated/scipy.stats.kendalltau.html#scipy.stats.kendalltau)."
   ]
  },
  {
   "cell_type": "code",
   "execution_count": 53,
   "metadata": {},
   "outputs": [
    {
     "data": {
      "text/plain": [
       "PearsonRResult(statistic=0.7205163006738732, pvalue=1.9398503205014947e-233)"
      ]
     },
     "execution_count": 53,
     "metadata": {},
     "output_type": "execute_result"
    }
   ],
   "source": [
    "# Pearson \n",
    "# Takto zjistíme výsledek, i když na tato konkrétní data bychom test založení na Pearsonově koeficientu používat neměli, data nemají normální rozdělení.\n",
    "\n",
    "data = pandas.read_csv(\"house_prices.csv\")\n",
    "res = stats.pearsonr(data[\"SalePrice\"], data[\"GrLivArea\"])\n",
    "res"
   ]
  },
  {
   "cell_type": "code",
   "execution_count": 54,
   "metadata": {},
   "outputs": [
    {
     "data": {
      "text/plain": [
       "SignificanceResult(statistic=0.7312378789702222, pvalue=7.801875110918258e-244)"
      ]
     },
     "execution_count": 54,
     "metadata": {},
     "output_type": "execute_result"
    }
   ],
   "source": [
    "# Spearman\n",
    "data = pandas.read_csv(\"house_prices.csv\")\n",
    "res = stats.spearmanr(data[\"SalePrice\"], data[\"GrLivArea\"])\n",
    "res"
   ]
  },
  {
   "cell_type": "code",
   "execution_count": 55,
   "metadata": {},
   "outputs": [
    {
     "data": {
      "text/plain": [
       "SignificanceResult(statistic=0.543863812013887, pvalue=1.995410251143093e-211)"
      ]
     },
     "execution_count": 55,
     "metadata": {},
     "output_type": "execute_result"
    }
   ],
   "source": [
    "# Kendall tau\n",
    "data = pandas.read_csv(\"house_prices.csv\")\n",
    "res = stats.kendalltau(data[\"SalePrice\"], data[\"GrLivArea\"])\n",
    "res"
   ]
  },
  {
   "attachments": {},
   "cell_type": "markdown",
   "metadata": {},
   "source": [
    "### Testy se třemi a více statistickými soubory\n",
    "\n",
    "#### Test na průměr\n",
    "\n",
    "Test na průměr umožňuje porovnat, zda jsou průměry hodnot různé u tří a více souborů.\n",
    "\n",
    "Pro test můžeme formulovat hypotézy:\n",
    "\n",
    "* H0: Průměrný čas montáže je stejný u pracovníků všech tří směn\n",
    "* H1: Průměrný čas montáže různý alespoň dvě směny\n",
    "\n",
    "Uvažujme, že máme ranní, odpolední a noční směnu. Test nám pouze řekne, zda je mezi směnami nějaký rozdíl, ale nevíme přesně jaký. Může tedy být například stejný průměr ranní a odpolední směny a noční se od nich liší, může být stejný průměr ranní a noční směny a odpolední se od nich liší nebo může mít každá směna průměr odlišný od ostatních.\n",
    "\n",
    "Pokud mají všechny soubory normální rozdělení, můžeme použít [ANOVA test](https://docs.scipy.org/doc/scipy/reference/generated/scipy.stats.f_oneway.html#scipy.stats.f_oneway). Pokud data nemají normální rozdělení, je možné využít neparametrický [Kruskall-Wallis test](https://docs.scipy.org/doc/scipy/reference/generated/scipy.stats.kruskal.html#scipy.stats.kruskal).\n"
   ]
  }
 ],
 "metadata": {
  "kernelspec": {
   "display_name": "venv",
   "language": "python",
   "name": "python3"
  },
  "language_info": {
   "codemirror_mode": {
    "name": "ipython",
    "version": 3
   },
   "file_extension": ".py",
   "mimetype": "text/x-python",
   "name": "python",
   "nbconvert_exporter": "python",
   "pygments_lexer": "ipython3",
   "version": "3.11.2"
  },
  "orig_nbformat": 4
 },
 "nbformat": 4,
 "nbformat_minor": 2
}
