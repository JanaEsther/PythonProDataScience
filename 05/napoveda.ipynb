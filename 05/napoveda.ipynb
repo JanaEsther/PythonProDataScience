{
 "cells": [
  {
   "attachments": {},
   "cell_type": "markdown",
   "metadata": {},
   "source": [
    "Výběr testu provedeme na základě následujících informací:\n",
    "\n",
    "- máme dva soubory,\n",
    "- chceme porovat jejich rozdělení,\n",
    "- data nejsou párová (jsou to dvě různé skupiny lidí).\n",
    "\n",
    "Budeme mít následující hypotézy:\n",
    "\n",
    "- H0: Rozdělení výsledků studentů se vztahem a studentů bez vztahu jsou stejná\n",
    "- H1: Rozdělení výsledků studentů se vztahem a studentů bez vztahu jsou různá\n",
    "\n",
    "Výsledek testu by ti měl vyjít přibližně `MannwhitneyuResult(statistic=15423.0, pvalue=0.06952998588160815)`. Výsledkem je, že na hladině významnosti 5 % nezamítáme H0, tj. neprokázali jsme, že by výsledky těch dvou skupin měly různé rozdělení."
   ]
  }
 ],
 "metadata": {
  "language_info": {
   "name": "python"
  },
  "orig_nbformat": 4
 },
 "nbformat": 4,
 "nbformat_minor": 2
}
