{
 "cells": [
  {
   "cell_type": "code",
   "execution_count": 3,
   "metadata": {},
   "outputs": [
    {
     "name": "stderr",
     "output_type": "stream",
     "text": [
      "C:\\Users\\Jana Obendraufova\\AppData\\Local\\Temp\\ipykernel_12512\\1207742809.py:1: DeprecationWarning: \n",
      "Pyarrow will become a required dependency of pandas in the next major release of pandas (pandas 3.0),\n",
      "(to allow more performant data types, such as the Arrow string type, and better interoperability with other libraries)\n",
      "but was not found to be installed on your system.\n",
      "If this would cause problems for you,\n",
      "please provide us feedback at https://github.com/pandas-dev/pandas/issues/54466\n",
      "        \n",
      "  import pandas as pd\n"
     ]
    },
    {
     "data": {
      "text/plain": [
       "['#A1C9F4',\n",
       " '#FFB482',\n",
       " '#8DE5A1',\n",
       " '#FF9F9B',\n",
       " '#D0BBFF',\n",
       " '#DEBB9B',\n",
       " '#FAB0E4',\n",
       " '#CFCFCF',\n",
       " '#FFFEA3',\n",
       " '#B9F2F0']"
      ]
     },
     "execution_count": 3,
     "metadata": {},
     "output_type": "execute_result"
    }
   ],
   "source": [
    "import pandas as pd\n",
    "import matplotlib.pyplot as plt\n",
    "import seaborn as sns\n",
    "sns.color_palette(palette=\"pastel\", n_colors=None, desat=None, as_cmap=True)\n",
    "\n",
    "\n"
   ]
  },
  {
   "cell_type": "code",
   "execution_count": null,
   "metadata": {},
   "outputs": [],
   "source": []
  },
  {
   "cell_type": "code",
   "execution_count": 4,
   "metadata": {},
   "outputs": [
    {
     "data": {
      "text/html": [
       "<div>\n",
       "<style scoped>\n",
       "    .dataframe tbody tr th:only-of-type {\n",
       "        vertical-align: middle;\n",
       "    }\n",
       "\n",
       "    .dataframe tbody tr th {\n",
       "        vertical-align: top;\n",
       "    }\n",
       "\n",
       "    .dataframe thead th {\n",
       "        text-align: right;\n",
       "    }\n",
       "</style>\n",
       "<table border=\"1\" class=\"dataframe\">\n",
       "  <thead>\n",
       "    <tr style=\"text-align: right;\">\n",
       "      <th></th>\n",
       "      <th>Survived</th>\n",
       "      <th>Pclass</th>\n",
       "      <th>Name</th>\n",
       "      <th>Sex</th>\n",
       "      <th>Age</th>\n",
       "      <th>Siblings/Spouses Aboard</th>\n",
       "      <th>Parents/Children Aboard</th>\n",
       "      <th>Fare</th>\n",
       "    </tr>\n",
       "  </thead>\n",
       "  <tbody>\n",
       "    <tr>\n",
       "      <th>0</th>\n",
       "      <td>0</td>\n",
       "      <td>3</td>\n",
       "      <td>Mr. Owen Harris Braund</td>\n",
       "      <td>male</td>\n",
       "      <td>22.0</td>\n",
       "      <td>1</td>\n",
       "      <td>0</td>\n",
       "      <td>7.2500</td>\n",
       "    </tr>\n",
       "    <tr>\n",
       "      <th>1</th>\n",
       "      <td>1</td>\n",
       "      <td>1</td>\n",
       "      <td>Mrs. John Bradley (Florence Briggs Thayer) Cum...</td>\n",
       "      <td>female</td>\n",
       "      <td>38.0</td>\n",
       "      <td>1</td>\n",
       "      <td>0</td>\n",
       "      <td>71.2833</td>\n",
       "    </tr>\n",
       "    <tr>\n",
       "      <th>2</th>\n",
       "      <td>1</td>\n",
       "      <td>3</td>\n",
       "      <td>Miss. Laina Heikkinen</td>\n",
       "      <td>female</td>\n",
       "      <td>26.0</td>\n",
       "      <td>0</td>\n",
       "      <td>0</td>\n",
       "      <td>7.9250</td>\n",
       "    </tr>\n",
       "    <tr>\n",
       "      <th>3</th>\n",
       "      <td>1</td>\n",
       "      <td>1</td>\n",
       "      <td>Mrs. Jacques Heath (Lily May Peel) Futrelle</td>\n",
       "      <td>female</td>\n",
       "      <td>35.0</td>\n",
       "      <td>1</td>\n",
       "      <td>0</td>\n",
       "      <td>53.1000</td>\n",
       "    </tr>\n",
       "    <tr>\n",
       "      <th>4</th>\n",
       "      <td>0</td>\n",
       "      <td>3</td>\n",
       "      <td>Mr. William Henry Allen</td>\n",
       "      <td>male</td>\n",
       "      <td>35.0</td>\n",
       "      <td>0</td>\n",
       "      <td>0</td>\n",
       "      <td>8.0500</td>\n",
       "    </tr>\n",
       "    <tr>\n",
       "      <th>5</th>\n",
       "      <td>0</td>\n",
       "      <td>3</td>\n",
       "      <td>Mr. James Moran</td>\n",
       "      <td>male</td>\n",
       "      <td>27.0</td>\n",
       "      <td>0</td>\n",
       "      <td>0</td>\n",
       "      <td>8.4583</td>\n",
       "    </tr>\n",
       "    <tr>\n",
       "      <th>6</th>\n",
       "      <td>0</td>\n",
       "      <td>1</td>\n",
       "      <td>Mr. Timothy J McCarthy</td>\n",
       "      <td>male</td>\n",
       "      <td>54.0</td>\n",
       "      <td>0</td>\n",
       "      <td>0</td>\n",
       "      <td>51.8625</td>\n",
       "    </tr>\n",
       "    <tr>\n",
       "      <th>7</th>\n",
       "      <td>0</td>\n",
       "      <td>3</td>\n",
       "      <td>Master. Gosta Leonard Palsson</td>\n",
       "      <td>male</td>\n",
       "      <td>2.0</td>\n",
       "      <td>3</td>\n",
       "      <td>1</td>\n",
       "      <td>21.0750</td>\n",
       "    </tr>\n",
       "    <tr>\n",
       "      <th>8</th>\n",
       "      <td>1</td>\n",
       "      <td>3</td>\n",
       "      <td>Mrs. Oscar W (Elisabeth Vilhelmina Berg) Johnson</td>\n",
       "      <td>female</td>\n",
       "      <td>27.0</td>\n",
       "      <td>0</td>\n",
       "      <td>2</td>\n",
       "      <td>11.1333</td>\n",
       "    </tr>\n",
       "    <tr>\n",
       "      <th>9</th>\n",
       "      <td>1</td>\n",
       "      <td>2</td>\n",
       "      <td>Mrs. Nicholas (Adele Achem) Nasser</td>\n",
       "      <td>female</td>\n",
       "      <td>14.0</td>\n",
       "      <td>1</td>\n",
       "      <td>0</td>\n",
       "      <td>30.0708</td>\n",
       "    </tr>\n",
       "    <tr>\n",
       "      <th>10</th>\n",
       "      <td>1</td>\n",
       "      <td>3</td>\n",
       "      <td>Miss. Marguerite Rut Sandstrom</td>\n",
       "      <td>female</td>\n",
       "      <td>4.0</td>\n",
       "      <td>1</td>\n",
       "      <td>1</td>\n",
       "      <td>16.7000</td>\n",
       "    </tr>\n",
       "  </tbody>\n",
       "</table>\n",
       "</div>"
      ],
      "text/plain": [
       "    Survived  Pclass                                               Name  \\\n",
       "0          0       3                             Mr. Owen Harris Braund   \n",
       "1          1       1  Mrs. John Bradley (Florence Briggs Thayer) Cum...   \n",
       "2          1       3                              Miss. Laina Heikkinen   \n",
       "3          1       1        Mrs. Jacques Heath (Lily May Peel) Futrelle   \n",
       "4          0       3                            Mr. William Henry Allen   \n",
       "5          0       3                                    Mr. James Moran   \n",
       "6          0       1                             Mr. Timothy J McCarthy   \n",
       "7          0       3                      Master. Gosta Leonard Palsson   \n",
       "8          1       3   Mrs. Oscar W (Elisabeth Vilhelmina Berg) Johnson   \n",
       "9          1       2                 Mrs. Nicholas (Adele Achem) Nasser   \n",
       "10         1       3                     Miss. Marguerite Rut Sandstrom   \n",
       "\n",
       "       Sex   Age  Siblings/Spouses Aboard  Parents/Children Aboard     Fare  \n",
       "0     male  22.0                        1                        0   7.2500  \n",
       "1   female  38.0                        1                        0  71.2833  \n",
       "2   female  26.0                        0                        0   7.9250  \n",
       "3   female  35.0                        1                        0  53.1000  \n",
       "4     male  35.0                        0                        0   8.0500  \n",
       "5     male  27.0                        0                        0   8.4583  \n",
       "6     male  54.0                        0                        0  51.8625  \n",
       "7     male   2.0                        3                        1  21.0750  \n",
       "8   female  27.0                        0                        2  11.1333  \n",
       "9   female  14.0                        1                        0  30.0708  \n",
       "10  female   4.0                        1                        1  16.7000  "
      ]
     },
     "execution_count": 4,
     "metadata": {},
     "output_type": "execute_result"
    }
   ],
   "source": [
    "\n",
    "\n",
    "data = pd.read_csv(\"titanic.csv\")\n",
    "data.head(11)"
   ]
  },
  {
   "cell_type": "code",
   "execution_count": 5,
   "metadata": {},
   "outputs": [
    {
     "data": {
      "text/plain": [
       "80"
      ]
     },
     "execution_count": 5,
     "metadata": {},
     "output_type": "execute_result"
    }
   ],
   "source": [
    "zahynuli_prvni_trida = data[(data[\"Pclass\"] == 1) & (data[\"Survived\"]== 0)]\n",
    "zahynuli_prvni_trida.shape[0]"
   ]
  },
  {
   "cell_type": "code",
   "execution_count": 6,
   "metadata": {},
   "outputs": [
    {
     "data": {
      "text/plain": [
       "Index(['Survived', 'Pclass', 'Name', 'Sex', 'Age', 'Siblings/Spouses Aboard',\n",
       "       'Parents/Children Aboard', 'Fare'],\n",
       "      dtype='object')"
      ]
     },
     "execution_count": 6,
     "metadata": {},
     "output_type": "execute_result"
    }
   ],
   "source": [
    "data.columns"
   ]
  },
  {
   "cell_type": "code",
   "execution_count": 7,
   "metadata": {},
   "outputs": [
    {
     "data": {
      "text/plain": [
       "887"
      ]
     },
     "execution_count": 7,
     "metadata": {},
     "output_type": "execute_result"
    }
   ],
   "source": [
    "cestujici_pocet = data.shape[0]\n",
    "cestujici_pocet \n"
   ]
  },
  {
   "cell_type": "code",
   "execution_count": 8,
   "metadata": {},
   "outputs": [
    {
     "data": {
      "text/plain": [
       "216"
      ]
     },
     "execution_count": 8,
     "metadata": {},
     "output_type": "execute_result"
    }
   ],
   "source": [
    "prvni_trida = data[data[\"Pclass\"] == 1]\n",
    "prvni_trida.shape[0]"
   ]
  },
  {
   "cell_type": "code",
   "execution_count": 9,
   "metadata": {},
   "outputs": [
    {
     "data": {
      "text/plain": [
       "136"
      ]
     },
     "execution_count": 9,
     "metadata": {},
     "output_type": "execute_result"
    }
   ],
   "source": [
    "prezili_prvni_trida = data[(data[\"Pclass\"] == 1)&(data[\"Survived\"] == 1)]\n",
    "prezili_prvni_trida.shape[0]"
   ]
  },
  {
   "cell_type": "code",
   "execution_count": 122,
   "metadata": {},
   "outputs": [
    {
     "data": {
      "text/plain": [
       "184"
      ]
     },
     "execution_count": 122,
     "metadata": {},
     "output_type": "execute_result"
    }
   ],
   "source": [
    "druha_trida = data[data[\"Pclass\"] == 2]\n",
    "druha_trida.shape[0]"
   ]
  },
  {
   "cell_type": "markdown",
   "metadata": {},
   "source": [
    " "
   ]
  },
  {
   "cell_type": "code",
   "execution_count": 123,
   "metadata": {},
   "outputs": [
    {
     "data": {
      "text/plain": [
       "97"
      ]
     },
     "execution_count": 123,
     "metadata": {},
     "output_type": "execute_result"
    }
   ],
   "source": [
    "zahynuli_druha_trida = data[(data [\"Pclass\"] == 2) &(data[\"Survived\"] == 0 )]\n",
    "zahynuli_druha_trida.shape[0]"
   ]
  },
  {
   "cell_type": "code",
   "execution_count": 124,
   "metadata": {},
   "outputs": [
    {
     "data": {
      "text/plain": [
       "87"
      ]
     },
     "execution_count": 124,
     "metadata": {},
     "output_type": "execute_result"
    }
   ],
   "source": [
    "prezili = data[\"Survived\"] == 1\n",
    "prezili_druha_trida = data[(data[\"Pclass\"] == 2) & (data[\"Survived\"] == 1)]\n",
    "prezili_druha_trida.shape[0]"
   ]
  },
  {
   "cell_type": "code",
   "execution_count": 125,
   "metadata": {},
   "outputs": [
    {
     "data": {
      "text/plain": [
       "487"
      ]
     },
     "execution_count": 125,
     "metadata": {},
     "output_type": "execute_result"
    }
   ],
   "source": [
    "treti_trida = data[data[\"Pclass\"] == 3]\n",
    "treti_trida.shape[0]"
   ]
  },
  {
   "cell_type": "code",
   "execution_count": 126,
   "metadata": {},
   "outputs": [
    {
     "data": {
      "text/plain": [
       "119"
      ]
     },
     "execution_count": 126,
     "metadata": {},
     "output_type": "execute_result"
    }
   ],
   "source": [
    "prezili = data[\"Survived\"] == 1\n",
    "prezili_treti_trida = data[(data[\"Pclass\"] == 3) &  (data[\"Survived\"] == 1)]\n",
    "prezili_treti_trida.shape[0]"
   ]
  },
  {
   "cell_type": "code",
   "execution_count": 33,
   "metadata": {},
   "outputs": [
    {
     "data": {
      "text/plain": [
       "368"
      ]
     },
     "execution_count": 33,
     "metadata": {},
     "output_type": "execute_result"
    }
   ],
   "source": [
    "zahynuli_treti_trida = data[(data[\"Pclass\"] == 3) & (data[\"Survived\"] == 0)]\n",
    "zahynuli_treti_trida.shape[0]"
   ]
  },
  {
   "cell_type": "code",
   "execution_count": 127,
   "metadata": {},
   "outputs": [
    {
     "name": "stdout",
     "output_type": "stream",
     "text": [
      "     Survived  Pclass                                               Name  \\\n",
      "1           1       1  Mrs. John Bradley (Florence Briggs Thayer) Cum...   \n",
      "2           1       3                              Miss. Laina Heikkinen   \n",
      "3           1       1        Mrs. Jacques Heath (Lily May Peel) Futrelle   \n",
      "8           1       3   Mrs. Oscar W (Elisabeth Vilhelmina Berg) Johnson   \n",
      "9           1       2                 Mrs. Nicholas (Adele Achem) Nasser   \n",
      "..        ...     ...                                                ...   \n",
      "871         1       3                           Miss. Adele Kiamie Najib   \n",
      "875         1       1       Mrs. Thomas Jr (Lily Alexenia Wilson) Potter   \n",
      "876         1       2        Mrs. William (Imanita Parrish Hall) Shelley   \n",
      "883         1       1                        Miss. Margaret Edith Graham   \n",
      "885         1       1                               Mr. Karl Howell Behr   \n",
      "\n",
      "        Sex   Age  Siblings/Spouses Aboard  Parents/Children Aboard     Fare  \n",
      "1    female  38.0                        1                        0  71.2833  \n",
      "2    female  26.0                        0                        0   7.9250  \n",
      "3    female  35.0                        1                        0  53.1000  \n",
      "8    female  27.0                        0                        2  11.1333  \n",
      "9    female  14.0                        1                        0  30.0708  \n",
      "..      ...   ...                      ...                      ...      ...  \n",
      "871  female  15.0                        0                        0   7.2250  \n",
      "875  female  56.0                        0                        1  83.1583  \n",
      "876  female  25.0                        0                        1  26.0000  \n",
      "883  female  19.0                        0                        0  30.0000  \n",
      "885    male  26.0                        0                        0  30.0000  \n",
      "\n",
      "[342 rows x 8 columns]\n"
     ]
    }
   ],
   "source": [
    "prezili = data[data[\"Survived\"] == 1]\n",
    "print(prezili)\n"
   ]
  },
  {
   "cell_type": "code",
   "execution_count": 13,
   "metadata": {},
   "outputs": [
    {
     "data": {
      "text/plain": [
       "342"
      ]
     },
     "execution_count": 13,
     "metadata": {},
     "output_type": "execute_result"
    }
   ],
   "source": [
    "prezili.shape[0]"
   ]
  },
  {
   "cell_type": "code",
   "execution_count": 128,
   "metadata": {},
   "outputs": [
    {
     "data": {
      "text/plain": [
       "<Axes: xlabel='Pclass', ylabel='count'>"
      ]
     },
     "execution_count": 128,
     "metadata": {},
     "output_type": "execute_result"
    },
    {
     "data": {
      "image/png": "[encoded data removed]",
      "text/plain": [
       "<Figure size 640x480 with 1 Axes>"
      ]
     },
     "metadata": {},
     "output_type": "display_data"
    }
   ],
   "source": [
    "sns.countplot(x='Pclass', hue='Survived', data=data, palette=\"viridis\")"
   ]
  },
  {
   "cell_type": "code",
   "execution_count": 11,
   "metadata": {},
   "outputs": [
    {
     "data": {
      "text/plain": [
       "<Axes: xlabel='Count', ylabel='Age'>"
      ]
     },
     "execution_count": 11,
     "metadata": {},
     "output_type": "execute_result"
    },
    {
     "data": {
      "image/png": "[encoded data removed]",
      "text/plain": [
       "<Figure size 640x480 with 1 Axes>"
      ]
     },
     "metadata": {},
     "output_type": "display_data"
    }
   ],
   "source": [
    "sns.histplot(data=data, y='Age', hue='Survived',palette='flare', multiple='stack')"
   ]
  },
  {
   "cell_type": "code",
   "execution_count": null,
   "metadata": {},
   "outputs": [],
   "source": []
  },
  {
   "cell_type": "code",
   "execution_count": 13,
   "metadata": {},
   "outputs": [
    {
     "data": {
      "text/html": [
       "<div>\n",
       "<style scoped>\n",
       "    .dataframe tbody tr th:only-of-type {\n",
       "        vertical-align: middle;\n",
       "    }\n",
       "\n",
       "    .dataframe tbody tr th {\n",
       "        vertical-align: top;\n",
       "    }\n",
       "\n",
       "    .dataframe thead th {\n",
       "        text-align: right;\n",
       "    }\n",
       "</style>\n",
       "<table border=\"1\" class=\"dataframe\">\n",
       "  <thead>\n",
       "    <tr style=\"text-align: right;\">\n",
       "      <th></th>\n",
       "      <th>name</th>\n",
       "      <th>gender</th>\n",
       "      <th>age</th>\n",
       "      <th>class</th>\n",
       "      <th>embarked</th>\n",
       "      <th>country</th>\n",
       "      <th>ticketno</th>\n",
       "      <th>fare</th>\n",
       "      <th>sibsp</th>\n",
       "      <th>parch</th>\n",
       "      <th>survived</th>\n",
       "    </tr>\n",
       "  </thead>\n",
       "  <tbody>\n",
       "    <tr>\n",
       "      <th>0</th>\n",
       "      <td>Abbing, Mr. Anthony</td>\n",
       "      <td>male</td>\n",
       "      <td>42.000000</td>\n",
       "      <td>3rd</td>\n",
       "      <td>S</td>\n",
       "      <td>United States</td>\n",
       "      <td>5547.0</td>\n",
       "      <td>7.1100</td>\n",
       "      <td>0.0</td>\n",
       "      <td>0.0</td>\n",
       "      <td>no</td>\n",
       "    </tr>\n",
       "    <tr>\n",
       "      <th>1</th>\n",
       "      <td>Abbott, Mr. Eugene Joseph</td>\n",
       "      <td>male</td>\n",
       "      <td>13.000000</td>\n",
       "      <td>3rd</td>\n",
       "      <td>S</td>\n",
       "      <td>United States</td>\n",
       "      <td>2673.0</td>\n",
       "      <td>20.0500</td>\n",
       "      <td>0.0</td>\n",
       "      <td>2.0</td>\n",
       "      <td>no</td>\n",
       "    </tr>\n",
       "    <tr>\n",
       "      <th>2</th>\n",
       "      <td>Abbott, Mr. Rossmore Edward</td>\n",
       "      <td>male</td>\n",
       "      <td>16.000000</td>\n",
       "      <td>3rd</td>\n",
       "      <td>S</td>\n",
       "      <td>United States</td>\n",
       "      <td>2673.0</td>\n",
       "      <td>20.0500</td>\n",
       "      <td>1.0</td>\n",
       "      <td>1.0</td>\n",
       "      <td>no</td>\n",
       "    </tr>\n",
       "    <tr>\n",
       "      <th>3</th>\n",
       "      <td>Abbott, Mrs. Rhoda Mary 'Rosa'</td>\n",
       "      <td>female</td>\n",
       "      <td>39.000000</td>\n",
       "      <td>3rd</td>\n",
       "      <td>S</td>\n",
       "      <td>England</td>\n",
       "      <td>2673.0</td>\n",
       "      <td>20.0500</td>\n",
       "      <td>1.0</td>\n",
       "      <td>1.0</td>\n",
       "      <td>yes</td>\n",
       "    </tr>\n",
       "    <tr>\n",
       "      <th>4</th>\n",
       "      <td>Abelseth, Miss. Karen Marie</td>\n",
       "      <td>female</td>\n",
       "      <td>16.000000</td>\n",
       "      <td>3rd</td>\n",
       "      <td>S</td>\n",
       "      <td>Norway</td>\n",
       "      <td>348125.0</td>\n",
       "      <td>7.1300</td>\n",
       "      <td>0.0</td>\n",
       "      <td>0.0</td>\n",
       "      <td>yes</td>\n",
       "    </tr>\n",
       "    <tr>\n",
       "      <th>5</th>\n",
       "      <td>Abelseth, Mr. Olaus Jørgensen</td>\n",
       "      <td>male</td>\n",
       "      <td>25.000000</td>\n",
       "      <td>3rd</td>\n",
       "      <td>S</td>\n",
       "      <td>United States</td>\n",
       "      <td>348122.0</td>\n",
       "      <td>7.1300</td>\n",
       "      <td>0.0</td>\n",
       "      <td>0.0</td>\n",
       "      <td>yes</td>\n",
       "    </tr>\n",
       "    <tr>\n",
       "      <th>6</th>\n",
       "      <td>Abelson, Mr. Samuel</td>\n",
       "      <td>male</td>\n",
       "      <td>30.000000</td>\n",
       "      <td>2nd</td>\n",
       "      <td>C</td>\n",
       "      <td>France</td>\n",
       "      <td>3381.0</td>\n",
       "      <td>24.0000</td>\n",
       "      <td>1.0</td>\n",
       "      <td>0.0</td>\n",
       "      <td>no</td>\n",
       "    </tr>\n",
       "    <tr>\n",
       "      <th>7</th>\n",
       "      <td>Abelson, Mrs. Hannah</td>\n",
       "      <td>female</td>\n",
       "      <td>28.000000</td>\n",
       "      <td>2nd</td>\n",
       "      <td>C</td>\n",
       "      <td>France</td>\n",
       "      <td>3381.0</td>\n",
       "      <td>24.0000</td>\n",
       "      <td>1.0</td>\n",
       "      <td>0.0</td>\n",
       "      <td>yes</td>\n",
       "    </tr>\n",
       "    <tr>\n",
       "      <th>8</th>\n",
       "      <td>Abī-Al-Munà, Mr. Nāsīf Qāsim</td>\n",
       "      <td>male</td>\n",
       "      <td>27.000000</td>\n",
       "      <td>3rd</td>\n",
       "      <td>C</td>\n",
       "      <td>Lebanon</td>\n",
       "      <td>2699.0</td>\n",
       "      <td>18.1509</td>\n",
       "      <td>0.0</td>\n",
       "      <td>0.0</td>\n",
       "      <td>yes</td>\n",
       "    </tr>\n",
       "    <tr>\n",
       "      <th>9</th>\n",
       "      <td>Abrahamsson, Mr. Abraham August Johannes</td>\n",
       "      <td>male</td>\n",
       "      <td>20.000000</td>\n",
       "      <td>3rd</td>\n",
       "      <td>S</td>\n",
       "      <td>Finland</td>\n",
       "      <td>3101284.0</td>\n",
       "      <td>7.1806</td>\n",
       "      <td>0.0</td>\n",
       "      <td>0.0</td>\n",
       "      <td>yes</td>\n",
       "    </tr>\n",
       "    <tr>\n",
       "      <th>10</th>\n",
       "      <td>Ådahl, Mr. Mauritz</td>\n",
       "      <td>male</td>\n",
       "      <td>30.000000</td>\n",
       "      <td>3rd</td>\n",
       "      <td>S</td>\n",
       "      <td>Sweden</td>\n",
       "      <td>7076.0</td>\n",
       "      <td>7.0500</td>\n",
       "      <td>0.0</td>\n",
       "      <td>0.0</td>\n",
       "      <td>no</td>\n",
       "    </tr>\n",
       "    <tr>\n",
       "      <th>11</th>\n",
       "      <td>Adams, Mr. John</td>\n",
       "      <td>male</td>\n",
       "      <td>27.000000</td>\n",
       "      <td>3rd</td>\n",
       "      <td>S</td>\n",
       "      <td>England</td>\n",
       "      <td>341826.0</td>\n",
       "      <td>8.0100</td>\n",
       "      <td>0.0</td>\n",
       "      <td>0.0</td>\n",
       "      <td>no</td>\n",
       "    </tr>\n",
       "    <tr>\n",
       "      <th>12</th>\n",
       "      <td>Ahlin, Mrs. Johanna Persdotter</td>\n",
       "      <td>female</td>\n",
       "      <td>40.000000</td>\n",
       "      <td>3rd</td>\n",
       "      <td>S</td>\n",
       "      <td>Sweden</td>\n",
       "      <td>7546.0</td>\n",
       "      <td>9.0906</td>\n",
       "      <td>1.0</td>\n",
       "      <td>0.0</td>\n",
       "      <td>no</td>\n",
       "    </tr>\n",
       "    <tr>\n",
       "      <th>13</th>\n",
       "      <td>Aks, Master. Frank Philip</td>\n",
       "      <td>male</td>\n",
       "      <td>0.833333</td>\n",
       "      <td>3rd</td>\n",
       "      <td>S</td>\n",
       "      <td>England</td>\n",
       "      <td>392091.0</td>\n",
       "      <td>9.0700</td>\n",
       "      <td>0.0</td>\n",
       "      <td>1.0</td>\n",
       "      <td>yes</td>\n",
       "    </tr>\n",
       "    <tr>\n",
       "      <th>14</th>\n",
       "      <td>Aks, Mrs. Leah</td>\n",
       "      <td>female</td>\n",
       "      <td>18.000000</td>\n",
       "      <td>3rd</td>\n",
       "      <td>S</td>\n",
       "      <td>England</td>\n",
       "      <td>392091.0</td>\n",
       "      <td>9.0700</td>\n",
       "      <td>0.0</td>\n",
       "      <td>1.0</td>\n",
       "      <td>yes</td>\n",
       "    </tr>\n",
       "    <tr>\n",
       "      <th>15</th>\n",
       "      <td>Aldworth, Mr. Augustus Henry</td>\n",
       "      <td>male</td>\n",
       "      <td>35.000000</td>\n",
       "      <td>2nd</td>\n",
       "      <td>S</td>\n",
       "      <td>England</td>\n",
       "      <td>248744.0</td>\n",
       "      <td>13.0000</td>\n",
       "      <td>0.0</td>\n",
       "      <td>0.0</td>\n",
       "      <td>no</td>\n",
       "    </tr>\n",
       "    <tr>\n",
       "      <th>16</th>\n",
       "      <td>Alexander, Mr. William Albert</td>\n",
       "      <td>male</td>\n",
       "      <td>25.000000</td>\n",
       "      <td>3rd</td>\n",
       "      <td>S</td>\n",
       "      <td>England</td>\n",
       "      <td>3474.0</td>\n",
       "      <td>7.1709</td>\n",
       "      <td>0.0</td>\n",
       "      <td>0.0</td>\n",
       "      <td>no</td>\n",
       "    </tr>\n",
       "    <tr>\n",
       "      <th>17</th>\n",
       "      <td>Alhomäki, Mr. Ilmari Rudolf</td>\n",
       "      <td>male</td>\n",
       "      <td>19.000000</td>\n",
       "      <td>3rd</td>\n",
       "      <td>S</td>\n",
       "      <td>Finland</td>\n",
       "      <td>3101287.0</td>\n",
       "      <td>7.1806</td>\n",
       "      <td>0.0</td>\n",
       "      <td>0.0</td>\n",
       "      <td>no</td>\n",
       "    </tr>\n",
       "    <tr>\n",
       "      <th>18</th>\n",
       "      <td>Ali, Mr. Ahmed</td>\n",
       "      <td>male</td>\n",
       "      <td>24.000000</td>\n",
       "      <td>3rd</td>\n",
       "      <td>S</td>\n",
       "      <td>Argentina</td>\n",
       "      <td>3101311.0</td>\n",
       "      <td>7.0100</td>\n",
       "      <td>0.0</td>\n",
       "      <td>0.0</td>\n",
       "      <td>no</td>\n",
       "    </tr>\n",
       "    <tr>\n",
       "      <th>19</th>\n",
       "      <td>Ali, Mr. William</td>\n",
       "      <td>male</td>\n",
       "      <td>25.000000</td>\n",
       "      <td>3rd</td>\n",
       "      <td>S</td>\n",
       "      <td>Argentina</td>\n",
       "      <td>3101312.0</td>\n",
       "      <td>7.0100</td>\n",
       "      <td>0.0</td>\n",
       "      <td>0.0</td>\n",
       "      <td>no</td>\n",
       "    </tr>\n",
       "  </tbody>\n",
       "</table>\n",
       "</div>"
      ],
      "text/plain": [
       "                                        name  gender        age class  \\\n",
       "0                        Abbing, Mr. Anthony    male  42.000000   3rd   \n",
       "1                  Abbott, Mr. Eugene Joseph    male  13.000000   3rd   \n",
       "2                Abbott, Mr. Rossmore Edward    male  16.000000   3rd   \n",
       "3             Abbott, Mrs. Rhoda Mary 'Rosa'  female  39.000000   3rd   \n",
       "4                Abelseth, Miss. Karen Marie  female  16.000000   3rd   \n",
       "5              Abelseth, Mr. Olaus Jørgensen    male  25.000000   3rd   \n",
       "6                        Abelson, Mr. Samuel    male  30.000000   2nd   \n",
       "7                       Abelson, Mrs. Hannah  female  28.000000   2nd   \n",
       "8               Abī-Al-Munà, Mr. Nāsīf Qāsim    male  27.000000   3rd   \n",
       "9   Abrahamsson, Mr. Abraham August Johannes    male  20.000000   3rd   \n",
       "10                        Ådahl, Mr. Mauritz    male  30.000000   3rd   \n",
       "11                           Adams, Mr. John    male  27.000000   3rd   \n",
       "12            Ahlin, Mrs. Johanna Persdotter  female  40.000000   3rd   \n",
       "13                 Aks, Master. Frank Philip    male   0.833333   3rd   \n",
       "14                            Aks, Mrs. Leah  female  18.000000   3rd   \n",
       "15              Aldworth, Mr. Augustus Henry    male  35.000000   2nd   \n",
       "16             Alexander, Mr. William Albert    male  25.000000   3rd   \n",
       "17               Alhomäki, Mr. Ilmari Rudolf    male  19.000000   3rd   \n",
       "18                            Ali, Mr. Ahmed    male  24.000000   3rd   \n",
       "19                          Ali, Mr. William    male  25.000000   3rd   \n",
       "\n",
       "   embarked        country   ticketno     fare  sibsp  parch survived  \n",
       "0         S  United States     5547.0   7.1100    0.0    0.0       no  \n",
       "1         S  United States     2673.0  20.0500    0.0    2.0       no  \n",
       "2         S  United States     2673.0  20.0500    1.0    1.0       no  \n",
       "3         S        England     2673.0  20.0500    1.0    1.0      yes  \n",
       "4         S         Norway   348125.0   7.1300    0.0    0.0      yes  \n",
       "5         S  United States   348122.0   7.1300    0.0    0.0      yes  \n",
       "6         C         France     3381.0  24.0000    1.0    0.0       no  \n",
       "7         C         France     3381.0  24.0000    1.0    0.0      yes  \n",
       "8         C        Lebanon     2699.0  18.1509    0.0    0.0      yes  \n",
       "9         S        Finland  3101284.0   7.1806    0.0    0.0      yes  \n",
       "10        S         Sweden     7076.0   7.0500    0.0    0.0       no  \n",
       "11        S        England   341826.0   8.0100    0.0    0.0       no  \n",
       "12        S         Sweden     7546.0   9.0906    1.0    0.0       no  \n",
       "13        S        England   392091.0   9.0700    0.0    1.0      yes  \n",
       "14        S        England   392091.0   9.0700    0.0    1.0      yes  \n",
       "15        S        England   248744.0  13.0000    0.0    0.0       no  \n",
       "16        S        England     3474.0   7.1709    0.0    0.0       no  \n",
       "17        S        Finland  3101287.0   7.1806    0.0    0.0       no  \n",
       "18        S      Argentina  3101311.0   7.0100    0.0    0.0       no  \n",
       "19        S      Argentina  3101312.0   7.0100    0.0    0.0       no  "
      ]
     },
     "execution_count": 13,
     "metadata": {},
     "output_type": "execute_result"
    }
   ],
   "source": [
    "data = pd.read_csv(\"titanic2.csv\")\n",
    "data.head(20)"
   ]
  },
  {
   "cell_type": "code",
   "execution_count": 14,
   "metadata": {},
   "outputs": [
    {
     "data": {
      "text/plain": [
       "array(['United States', 'England', 'Norway', 'France', 'Lebanon',\n",
       "       'Finland', 'Sweden', 'Argentina', 'Canada', 'Denmark',\n",
       "       'Northern Ireland', 'Bulgaria', 'Switzerland', 'Channel Islands',\n",
       "       'Bosnia', 'Hungary', nan, 'Ireland', 'Italy', 'India', 'Wales',\n",
       "       'South Africa', 'Croatia (Modern)', 'Scotland', 'Siam', 'Uruguay',\n",
       "       'Belgium', 'Poland', 'Australia', 'Peru', 'Spain', 'Egypt',\n",
       "       'Japan', 'Syria', 'Russia', 'Slovenia', 'Greece', 'Turkey',\n",
       "       'China/Hong Kong', 'Austria', 'Latvia', 'Yugoslavia',\n",
       "       'Slovakia (Modern day)', 'Germany', 'Croatia', 'Cuba',\n",
       "       'Netherlands', 'Mexico', 'Guyana'], dtype=object)"
      ]
     },
     "execution_count": 14,
     "metadata": {},
     "output_type": "execute_result"
    }
   ],
   "source": [
    "data[\"country\"].unique()"
   ]
  },
  {
   "cell_type": "code",
   "execution_count": 104,
   "metadata": {},
   "outputs": [
    {
     "data": {
      "text/plain": [
       "3"
      ]
     },
     "execution_count": 104,
     "metadata": {},
     "output_type": "execute_result"
    }
   ],
   "source": [
    "Poland = data[data[\"country\"] == \"Poland\"]\n",
    "Poland.shape[0]"
   ]
  },
  {
   "cell_type": "code",
   "execution_count": null,
   "metadata": {},
   "outputs": [],
   "source": []
  },
  {
   "cell_type": "code",
   "execution_count": 109,
   "metadata": {},
   "outputs": [
    {
     "data": {
      "text/html": [
       "<div>\n",
       "<style scoped>\n",
       "    .dataframe tbody tr th:only-of-type {\n",
       "        vertical-align: middle;\n",
       "    }\n",
       "\n",
       "    .dataframe tbody tr th {\n",
       "        vertical-align: top;\n",
       "    }\n",
       "\n",
       "    .dataframe thead th {\n",
       "        text-align: right;\n",
       "    }\n",
       "</style>\n",
       "<table border=\"1\" class=\"dataframe\">\n",
       "  <thead>\n",
       "    <tr style=\"text-align: right;\">\n",
       "      <th></th>\n",
       "      <th>name</th>\n",
       "      <th>gender</th>\n",
       "      <th>age</th>\n",
       "      <th>class</th>\n",
       "      <th>embarked</th>\n",
       "      <th>country</th>\n",
       "      <th>ticketno</th>\n",
       "      <th>fare</th>\n",
       "      <th>sibsp</th>\n",
       "      <th>parch</th>\n",
       "      <th>survived</th>\n",
       "    </tr>\n",
       "  </thead>\n",
       "  <tbody>\n",
       "  </tbody>\n",
       "</table>\n",
       "</div>"
      ],
      "text/plain": [
       "Empty DataFrame\n",
       "Columns: [name, gender, age, class, embarked, country, ticketno, fare, sibsp, parch, survived]\n",
       "Index: []"
      ]
     },
     "execution_count": 109,
     "metadata": {},
     "output_type": "execute_result"
    }
   ],
   "source": [
    "Austria_survived = data[(data[\"country\"] == \"Austria\")&(data[\"survived\"] == 0)]\n",
    "Austria_survived"
   ]
  },
  {
   "cell_type": "code",
   "execution_count": null,
   "metadata": {},
   "outputs": [],
   "source": []
  },
  {
   "cell_type": "code",
   "execution_count": 103,
   "metadata": {},
   "outputs": [
    {
     "data": {
      "text/plain": [
       "1"
      ]
     },
     "execution_count": 103,
     "metadata": {},
     "output_type": "execute_result"
    }
   ],
   "source": [
    "Slovaci = data[data[\"country\"] == \"Slovakia (Modern day)\"]\n",
    "Slovaci.shape[0]\n"
   ]
  },
  {
   "cell_type": "code",
   "execution_count": 68,
   "metadata": {},
   "outputs": [],
   "source": [
    "import pandas as pd\n",
    "data = pd.read_csv(\"sales_actual.csv\")"
   ]
  },
  {
   "cell_type": "code",
   "execution_count": 69,
   "metadata": {},
   "outputs": [
    {
     "data": {
      "text/html": [
       "<div>\n",
       "<style scoped>\n",
       "    .dataframe tbody tr th:only-of-type {\n",
       "        vertical-align: middle;\n",
       "    }\n",
       "\n",
       "    .dataframe tbody tr th {\n",
       "        vertical-align: top;\n",
       "    }\n",
       "\n",
       "    .dataframe thead th {\n",
       "        text-align: right;\n",
       "    }\n",
       "</style>\n",
       "<table border=\"1\" class=\"dataframe\">\n",
       "  <thead>\n",
       "    <tr style=\"text-align: right;\">\n",
       "      <th></th>\n",
       "      <th>date</th>\n",
       "      <th>company</th>\n",
       "      <th>country</th>\n",
       "      <th>contract_value</th>\n",
       "      <th>sales_manager</th>\n",
       "    </tr>\n",
       "  </thead>\n",
       "  <tbody>\n",
       "    <tr>\n",
       "      <th>0</th>\n",
       "      <td>2021-11-09</td>\n",
       "      <td>Allard LLC Inc</td>\n",
       "      <td>Canada</td>\n",
       "      <td>374511.0</td>\n",
       "      <td>Jones Leon</td>\n",
       "    </tr>\n",
       "    <tr>\n",
       "      <th>1</th>\n",
       "      <td>2023-01-03</td>\n",
       "      <td>Asselin and Sons Group</td>\n",
       "      <td>Canada</td>\n",
       "      <td>170005.2</td>\n",
       "      <td>Jones Leon</td>\n",
       "    </tr>\n",
       "    <tr>\n",
       "      <th>2</th>\n",
       "      <td>2023-01-19</td>\n",
       "      <td>Audet Group Ltd</td>\n",
       "      <td>Canada</td>\n",
       "      <td>465253.2</td>\n",
       "      <td>Jones Leon</td>\n",
       "    </tr>\n",
       "    <tr>\n",
       "      <th>3</th>\n",
       "      <td>2022-07-14</td>\n",
       "      <td>Audet-Cyr Group</td>\n",
       "      <td>Canada</td>\n",
       "      <td>747392.1</td>\n",
       "      <td>Jones Leon</td>\n",
       "    </tr>\n",
       "    <tr>\n",
       "      <th>4</th>\n",
       "      <td>2021-02-16</td>\n",
       "      <td>Beauchamp Inc Group</td>\n",
       "      <td>Canada</td>\n",
       "      <td>140489.0</td>\n",
       "      <td>Jones Leon</td>\n",
       "    </tr>\n",
       "    <tr>\n",
       "      <th>5</th>\n",
       "      <td>2023-02-17</td>\n",
       "      <td>Beaudry, Proulx and Boudreau Group</td>\n",
       "      <td>Canada</td>\n",
       "      <td>156922.8</td>\n",
       "      <td>Jones Leon</td>\n",
       "    </tr>\n",
       "    <tr>\n",
       "      <th>6</th>\n",
       "      <td>2023-01-16</td>\n",
       "      <td>Beaulieu-Rivard Inc</td>\n",
       "      <td>Canada</td>\n",
       "      <td>561734.4</td>\n",
       "      <td>Jones Leon</td>\n",
       "    </tr>\n",
       "    <tr>\n",
       "      <th>7</th>\n",
       "      <td>2022-12-21</td>\n",
       "      <td>Beauregard, Tanguay and Drouin Ltd</td>\n",
       "      <td>Canada</td>\n",
       "      <td>845618.8</td>\n",
       "      <td>Morgan Sarah</td>\n",
       "    </tr>\n",
       "    <tr>\n",
       "      <th>8</th>\n",
       "      <td>2021-02-08</td>\n",
       "      <td>Bernard-Béland Inc</td>\n",
       "      <td>Canada</td>\n",
       "      <td>651471.0</td>\n",
       "      <td>Jones Leon</td>\n",
       "    </tr>\n",
       "    <tr>\n",
       "      <th>9</th>\n",
       "      <td>2021-04-02</td>\n",
       "      <td>Blais Inc PLC</td>\n",
       "      <td>Canada</td>\n",
       "      <td>466183.0</td>\n",
       "      <td>Morgan Sarah</td>\n",
       "    </tr>\n",
       "  </tbody>\n",
       "</table>\n",
       "</div>"
      ],
      "text/plain": [
       "         date                             company country  contract_value  \\\n",
       "0  2021-11-09                      Allard LLC Inc  Canada        374511.0   \n",
       "1  2023-01-03              Asselin and Sons Group  Canada        170005.2   \n",
       "2  2023-01-19                     Audet Group Ltd  Canada        465253.2   \n",
       "3  2022-07-14                     Audet-Cyr Group  Canada        747392.1   \n",
       "4  2021-02-16                 Beauchamp Inc Group  Canada        140489.0   \n",
       "5  2023-02-17  Beaudry, Proulx and Boudreau Group  Canada        156922.8   \n",
       "6  2023-01-16                 Beaulieu-Rivard Inc  Canada        561734.4   \n",
       "7  2022-12-21  Beauregard, Tanguay and Drouin Ltd  Canada        845618.8   \n",
       "8  2021-02-08                  Bernard-Béland Inc  Canada        651471.0   \n",
       "9  2021-04-02                       Blais Inc PLC  Canada        466183.0   \n",
       "\n",
       "  sales_manager  \n",
       "0    Jones Leon  \n",
       "1    Jones Leon  \n",
       "2    Jones Leon  \n",
       "3    Jones Leon  \n",
       "4    Jones Leon  \n",
       "5    Jones Leon  \n",
       "6    Jones Leon  \n",
       "7  Morgan Sarah  \n",
       "8    Jones Leon  \n",
       "9  Morgan Sarah  "
      ]
     },
     "execution_count": 69,
     "metadata": {},
     "output_type": "execute_result"
    }
   ],
   "source": [
    "data.head(10)"
   ]
  },
  {
   "cell_type": "code",
   "execution_count": 82,
   "metadata": {},
   "outputs": [
    {
     "data": {
      "text/plain": [
       "582"
      ]
     },
     "execution_count": 82,
     "metadata": {},
     "output_type": "execute_result"
    }
   ],
   "source": [
    "data.shape[0]"
   ]
  },
  {
   "cell_type": "code",
   "execution_count": 81,
   "metadata": {},
   "outputs": [
    {
     "data": {
      "text/plain": [
       "Index(['date', 'company', 'country', 'contract_value', 'sales_manager'], dtype='object')"
      ]
     },
     "execution_count": 81,
     "metadata": {},
     "output_type": "execute_result"
    }
   ],
   "source": [
    "data.columns"
   ]
  },
  {
   "cell_type": "code",
   "execution_count": 78,
   "metadata": {},
   "outputs": [
    {
     "data": {
      "text/plain": [
       "sales_manager\n",
       "Jones Leon       217\n",
       "Morgan Sarah     181\n",
       "Thomas Denise    151\n",
       "Watts Emily       33\n",
       "Name: count, dtype: int64"
      ]
     },
     "execution_count": 78,
     "metadata": {},
     "output_type": "execute_result"
    }
   ],
   "source": [
    "data[\"sales_manager\"].value_counts()"
   ]
  },
  {
   "cell_type": "code",
   "execution_count": 80,
   "metadata": {},
   "outputs": [
    {
     "data": {
      "text/plain": [
       "sales_manager\n",
       "Watts Emily       33\n",
       "Thomas Denise    151\n",
       "Morgan Sarah     181\n",
       "Jones Leon       217\n",
       "Name: count, dtype: int64"
      ]
     },
     "execution_count": 80,
     "metadata": {},
     "output_type": "execute_result"
    }
   ],
   "source": [
    "data[\"sales_manager\"].value_counts(ascending=True)\n"
   ]
  },
  {
   "cell_type": "code",
   "execution_count": 91,
   "metadata": {},
   "outputs": [
    {
     "data": {
      "text/plain": [
       "<Axes: xlabel='sales_manager', ylabel='count'>"
      ]
     },
     "execution_count": 91,
     "metadata": {},
     "output_type": "execute_result"
    },
    {
     "data": {
      "image/png": "[encoded data removed]",
      "text/plain": [
       "<Figure size 640x480 with 1 Axes>"
      ]
     },
     "metadata": {},
     "output_type": "display_data"
    }
   ],
   "source": [
    "sns.countplot(data=data, x=\"sales_manager\", order=data[\"sales_manager\"].value_counts().index,hue='sales_manager',palette='viridis')"
   ]
  },
  {
   "cell_type": "code",
   "execution_count": 72,
   "metadata": {},
   "outputs": [
    {
     "data": {
      "text/plain": [
       "0       Jones Leon\n",
       "195     Jones Leon\n",
       "196     Jones Leon\n",
       "197     Jones Leon\n",
       "199     Jones Leon\n",
       "          ...     \n",
       "557    Watts Emily\n",
       "533    Watts Emily\n",
       "559    Watts Emily\n",
       "444    Watts Emily\n",
       "419    Watts Emily\n",
       "Name: sales_manager, Length: 582, dtype: object"
      ]
     },
     "execution_count": 72,
     "metadata": {},
     "output_type": "execute_result"
    }
   ],
   "source": [
    "data[\"sales_manager\"].sort_values()"
   ]
  },
  {
   "cell_type": "code",
   "execution_count": 71,
   "metadata": {},
   "outputs": [
    {
     "data": {
      "text/plain": [
       "array(['Jones Leon', 'Morgan Sarah', 'Thomas Denise', 'Watts Emily'],\n",
       "      dtype=object)"
      ]
     },
     "execution_count": 71,
     "metadata": {},
     "output_type": "execute_result"
    }
   ],
   "source": [
    "data[\"sales_manager\"].unique()"
   ]
  },
  {
   "cell_type": "code",
   "execution_count": 62,
   "metadata": {},
   "outputs": [
    {
     "data": {
      "text/plain": [
       "array(['Canada', 'France', 'Italy', 'Netherlands', 'USA',\n",
       "       'United Kingdom'], dtype=object)"
      ]
     },
     "execution_count": 62,
     "metadata": {},
     "output_type": "execute_result"
    }
   ],
   "source": [
    "data[\"country\"].unique()"
   ]
  },
  {
   "cell_type": "code",
   "execution_count": null,
   "metadata": {},
   "outputs": [],
   "source": []
  },
  {
   "cell_type": "markdown",
   "metadata": {},
   "source": []
  }
 ],
 "metadata": {
  "kernelspec": {
   "display_name": "Python 3",
   "language": "python",
   "name": "python3"
  },
  "language_info": {
   "codemirror_mode": {
    "name": "ipython",
    "version": 3
   },
   "file_extension": ".py",
   "mimetype": "text/x-python",
   "name": "python",
   "nbconvert_exporter": "python",
   "pygments_lexer": "ipython3",
   "version": "3.12.2"
  }
 },
 "nbformat": 4,
 "nbformat_minor": 2
}
