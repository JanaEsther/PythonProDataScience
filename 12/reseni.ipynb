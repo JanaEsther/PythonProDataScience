{
 "cells": [
  {
   "cell_type": "code",
   "execution_count": 1,
   "metadata": {},
   "outputs": [],
   "source": [
    "import pandas\n",
    "from sklearn.feature_extraction.text import TfidfVectorizer\n",
    "from sklearn.metrics import accuracy_score, f1_score, classification_report\n",
    "from sklearn.model_selection import train_test_split\n",
    "from sklearn.neighbors import KNeighborsClassifier\n",
    "from sklearn.svm import LinearSVC\n",
    "from sklearn.cluster import KMeans\n",
    "import matplotlib.pyplot as plt\n",
    "from sklearn.manifold import TSNE\n",
    "from sklearn.decomposition import PCA\n",
    "\n",
    "data = pandas.read_csv(\"reviews.csv\")"
   ]
  },
  {
   "cell_type": "markdown",
   "metadata": {},
   "source": [
    "**Zadání:** V tomto cvičení zkus naimplementovat klasifikátor, který rozpozná pozitivní recenzi produktu od negativní. Pracuj se souborem [reviews.csv](reviews.csv). Soubor obsahuje text recenze, a výstupní proměnnou `label` se dvěma hodnotami, `neg` a `pos`. Můžeš si všimnout, že data už nějakým čištěním prošla. Porovnej alespoň dva algoritmy. Jaké je nejlepší f1-score, kterého jsi dosáhl/a?"
   ]
  },
  {
   "cell_type": "markdown",
   "metadata": {},
   "source": [
    "V tomto cvičení zkus naimplementovat klasifikátor, který rozpozná pozitivní recenzi produktu od negativní. Pracuj se souborem [reviews.csv](reviews.csv). Soubor obsahuje text recenze, a výstupní proměnnou `label` se dvěma hodnotami, `neg` a `pos`. Můžeš si všimnout, že data už nějakým čištěním prošla. Porovnej alespoň dva algoritmy. Jaké je nejlepší f1-score, kterého jsi dosáhl/a?"
   ]
  },
  {
   "cell_type": "code",
   "execution_count": 2,
   "metadata": {},
   "outputs": [
    {
     "name": "stdout",
     "output_type": "stream",
     "text": [
      "0.8206666666666667\n",
      "0.8181203515889114\n"
     ]
    }
   ],
   "source": [
    "X = data[\"review\"]\n",
    "y = data[\"label\"]\n",
    "\n",
    "X_train, X_test, y_train, y_test = train_test_split(X, y, stratify=y, random_state=42)\n",
    "X_train_text = X_train\n",
    "X_train_text = X_train_text.reset_index(drop=True)\n",
    "# Použijeme TfidfVectorizer s anglickými stop words, samostatná slova a dvojice slov\n",
    "vec = TfidfVectorizer(stop_words=\"english\", ngram_range=(1, 2))\n",
    "X_train = vec.fit_transform(X_train)\n",
    "X_test_vec = vec.transform(X_test)\n",
    "\n",
    "# Jako algoritmus využijeme Support Vector Machine\n",
    "clf = LinearSVC()\n",
    "clf.fit(X_train, y_train)\n",
    "y_pred = clf.predict(X_test_vec)\n",
    "print(accuracy_score(y_test, y_pred))\n",
    "print(f1_score(y_test, y_pred, pos_label=\"pos\"))"
   ]
  },
  {
   "cell_type": "markdown",
   "metadata": {},
   "source": [
    "Výsledný model má accuracy 82.1 % a f1-score 81.8 %\n",
    "\n",
    "Můžeme si vyzkoušet funkci `classification_report`, která vypíše všechny metriky jako tabulku."
   ]
  },
  {
   "cell_type": "code",
   "execution_count": 3,
   "metadata": {},
   "outputs": [
    {
     "name": "stdout",
     "output_type": "stream",
     "text": [
      "              precision    recall  f1-score   support\n",
      "\n",
      "         neg       0.82      0.83      0.82       758\n",
      "         pos       0.82      0.82      0.82       742\n",
      "\n",
      "    accuracy                           0.82      1500\n",
      "   macro avg       0.82      0.82      0.82      1500\n",
      "weighted avg       0.82      0.82      0.82      1500\n",
      "\n"
     ]
    }
   ],
   "source": [
    "report_2 = classification_report(y_test, y_pred)\n",
    "print(report_2)"
   ]
  },
  {
   "cell_type": "markdown",
   "metadata": {},
   "source": [
    "Vedle SVM můžeme vyzkoušet i algoritmus K Nearest Neighbors, který dosahuje nižší accuracy i f1-score (obojí kolem 65 %)."
   ]
  },
  {
   "cell_type": "code",
   "execution_count": 4,
   "metadata": {},
   "outputs": [
    {
     "name": "stdout",
     "output_type": "stream",
     "text": [
      "0.648\n",
      "0.6562499999999999\n"
     ]
    }
   ],
   "source": [
    "clf_2 = KNeighborsClassifier()\n",
    "clf_2.fit(X_train, y_train)\n",
    "y_pred_knn = clf_2.predict(X_test_vec)\n",
    "print(accuracy_score(y_test, y_pred_knn))\n",
    "print(f1_score(y_test, y_pred_knn, pos_label=\"pos\"))"
   ]
  },
  {
   "cell_type": "markdown",
   "metadata": {},
   "source": [
    "**Bonus 1:** Identifikuj ty recenze, které tvůj model označil špatně. Na pár z nich se podívej, a zkus odvodit, proč model chyboval."
   ]
  },
  {
   "cell_type": "markdown",
   "metadata": {},
   "source": [
    "Vytvoříme si nyní pandas tabulku `df_vysledek`, do které si uložíme text recenze a skutečnou a predikovanou hodnotu label. Můžeme použít dva způsoby: První z nich je vytvoření celé tabulky najednou, a to s využitím slovníku, do kterého vložíme jednotlivé sloupce."
   ]
  },
  {
   "cell_type": "code",
   "execution_count": 5,
   "metadata": {},
   "outputs": [
    {
     "data": {
      "text/html": [
       "<div>\n",
       "<style scoped>\n",
       "    .dataframe tbody tr th:only-of-type {\n",
       "        vertical-align: middle;\n",
       "    }\n",
       "\n",
       "    .dataframe tbody tr th {\n",
       "        vertical-align: top;\n",
       "    }\n",
       "\n",
       "    .dataframe thead th {\n",
       "        text-align: right;\n",
       "    }\n",
       "</style>\n",
       "<table border=\"1\" class=\"dataframe\">\n",
       "  <thead>\n",
       "    <tr style=\"text-align: right;\">\n",
       "      <th></th>\n",
       "      <th>text</th>\n",
       "      <th>y_test</th>\n",
       "      <th>y_pred</th>\n",
       "    </tr>\n",
       "  </thead>\n",
       "  <tbody>\n",
       "    <tr>\n",
       "      <th>0</th>\n",
       "      <td>it 's a pretty convinient bag.i put a canon re...</td>\n",
       "      <td>pos</td>\n",
       "      <td>pos</td>\n",
       "    </tr>\n",
       "    <tr>\n",
       "      <th>1</th>\n",
       "      <td>got this camera because a friend had a similar...</td>\n",
       "      <td>pos</td>\n",
       "      <td>pos</td>\n",
       "    </tr>\n",
       "    <tr>\n",
       "      <th>2</th>\n",
       "      <td>made another bull**** album . honestly i did n...</td>\n",
       "      <td>neg</td>\n",
       "      <td>neg</td>\n",
       "    </tr>\n",
       "    <tr>\n",
       "      <th>3</th>\n",
       "      <td>this record is one of the best that has found ...</td>\n",
       "      <td>pos</td>\n",
       "      <td>pos</td>\n",
       "    </tr>\n",
       "    <tr>\n",
       "      <th>4</th>\n",
       "      <td>we have had this camera for about a year . we ...</td>\n",
       "      <td>neg</td>\n",
       "      <td>neg</td>\n",
       "    </tr>\n",
       "    <tr>\n",
       "      <th>...</th>\n",
       "      <td>...</td>\n",
       "      <td>...</td>\n",
       "      <td>...</td>\n",
       "    </tr>\n",
       "    <tr>\n",
       "      <th>1495</th>\n",
       "      <td>i was one of those that never got a chance to ...</td>\n",
       "      <td>pos</td>\n",
       "      <td>pos</td>\n",
       "    </tr>\n",
       "    <tr>\n",
       "      <th>1496</th>\n",
       "      <td>i purchased this item because of a recommendat...</td>\n",
       "      <td>neg</td>\n",
       "      <td>pos</td>\n",
       "    </tr>\n",
       "    <tr>\n",
       "      <th>1497</th>\n",
       "      <td>for quite sometime lured by media publicity i ...</td>\n",
       "      <td>neg</td>\n",
       "      <td>neg</td>\n",
       "    </tr>\n",
       "    <tr>\n",
       "      <th>1498</th>\n",
       "      <td>even though a set looked exactly like on a pic...</td>\n",
       "      <td>neg</td>\n",
       "      <td>pos</td>\n",
       "    </tr>\n",
       "    <tr>\n",
       "      <th>1499</th>\n",
       "      <td>...wandering through the dorms in the 1970 's ...</td>\n",
       "      <td>pos</td>\n",
       "      <td>pos</td>\n",
       "    </tr>\n",
       "  </tbody>\n",
       "</table>\n",
       "<p>1500 rows × 3 columns</p>\n",
       "</div>"
      ],
      "text/plain": [
       "                                                   text y_test y_pred\n",
       "0     it 's a pretty convinient bag.i put a canon re...    pos    pos\n",
       "1     got this camera because a friend had a similar...    pos    pos\n",
       "2     made another bull**** album . honestly i did n...    neg    neg\n",
       "3     this record is one of the best that has found ...    pos    pos\n",
       "4     we have had this camera for about a year . we ...    neg    neg\n",
       "...                                                 ...    ...    ...\n",
       "1495  i was one of those that never got a chance to ...    pos    pos\n",
       "1496  i purchased this item because of a recommendat...    neg    pos\n",
       "1497  for quite sometime lured by media publicity i ...    neg    neg\n",
       "1498  even though a set looked exactly like on a pic...    neg    pos\n",
       "1499  ...wandering through the dorms in the 1970 's ...    pos    pos\n",
       "\n",
       "[1500 rows x 3 columns]"
      ]
     },
     "execution_count": 5,
     "metadata": {},
     "output_type": "execute_result"
    }
   ],
   "source": [
    "df_vysledek = pandas.DataFrame({\"text\": X_test, \"y_test\": y_test, \"y_pred\": y_pred}).reset_index(drop=True)\n",
    "df_vysledek"
   ]
  },
  {
   "cell_type": "markdown",
   "metadata": {},
   "source": [
    "Nyní si vytvoříme tabulku, do které vložíme pouze ty řádky, které se predikovaný a skutečný label liší."
   ]
  },
  {
   "cell_type": "code",
   "execution_count": 6,
   "metadata": {},
   "outputs": [
    {
     "data": {
      "text/html": [
       "<div>\n",
       "<style scoped>\n",
       "    .dataframe tbody tr th:only-of-type {\n",
       "        vertical-align: middle;\n",
       "    }\n",
       "\n",
       "    .dataframe tbody tr th {\n",
       "        vertical-align: top;\n",
       "    }\n",
       "\n",
       "    .dataframe thead th {\n",
       "        text-align: right;\n",
       "    }\n",
       "</style>\n",
       "<table border=\"1\" class=\"dataframe\">\n",
       "  <thead>\n",
       "    <tr style=\"text-align: right;\">\n",
       "      <th></th>\n",
       "      <th>index</th>\n",
       "      <th>text</th>\n",
       "      <th>y_test</th>\n",
       "      <th>y_pred</th>\n",
       "    </tr>\n",
       "  </thead>\n",
       "  <tbody>\n",
       "    <tr>\n",
       "      <th>0</th>\n",
       "      <td>11</td>\n",
       "      <td>margaux with an x is about a young lady who se...</td>\n",
       "      <td>neg</td>\n",
       "      <td>pos</td>\n",
       "    </tr>\n",
       "    <tr>\n",
       "      <th>1</th>\n",
       "      <td>13</td>\n",
       "      <td>has any one tried the compatible battery from ...</td>\n",
       "      <td>pos</td>\n",
       "      <td>neg</td>\n",
       "    </tr>\n",
       "    <tr>\n",
       "      <th>2</th>\n",
       "      <td>21</td>\n",
       "      <td>i do n't know , but. . i could n't get myself ...</td>\n",
       "      <td>neg</td>\n",
       "      <td>pos</td>\n",
       "    </tr>\n",
       "    <tr>\n",
       "      <th>3</th>\n",
       "      <td>29</td>\n",
       "      <td>this was required reading for my british liter...</td>\n",
       "      <td>neg</td>\n",
       "      <td>pos</td>\n",
       "    </tr>\n",
       "    <tr>\n",
       "      <th>4</th>\n",
       "      <td>31</td>\n",
       "      <td>i have now seen several gerry anderson project...</td>\n",
       "      <td>neg</td>\n",
       "      <td>pos</td>\n",
       "    </tr>\n",
       "  </tbody>\n",
       "</table>\n",
       "</div>"
      ],
      "text/plain": [
       "   index                                               text y_test y_pred\n",
       "0     11  margaux with an x is about a young lady who se...    neg    pos\n",
       "1     13  has any one tried the compatible battery from ...    pos    neg\n",
       "2     21  i do n't know , but. . i could n't get myself ...    neg    pos\n",
       "3     29  this was required reading for my british liter...    neg    pos\n",
       "4     31  i have now seen several gerry anderson project...    neg    pos"
      ]
     },
     "execution_count": 6,
     "metadata": {},
     "output_type": "execute_result"
    }
   ],
   "source": [
    "df_vysledek_incorrect = df_vysledek[df_vysledek[\"y_test\"] != df_vysledek[\"y_pred\"]]\n",
    "df_vysledek_incorrect.to_csv(\"errors.csv\", index=False)\n",
    "df_vysledek_incorrect = df_vysledek_incorrect.reset_index()\n",
    "df_vysledek_incorrect.head()"
   ]
  },
  {
   "cell_type": "markdown",
   "metadata": {},
   "source": [
    "Druhá možnost je trochu pracnější a spočívá ve vytvoření tabulky postupně - začneme se sloupcem `X_test` a postupně přidáme zbývající dva."
   ]
  },
  {
   "cell_type": "code",
   "execution_count": 7,
   "metadata": {},
   "outputs": [
    {
     "data": {
      "text/html": [
       "<div>\n",
       "<style scoped>\n",
       "    .dataframe tbody tr th:only-of-type {\n",
       "        vertical-align: middle;\n",
       "    }\n",
       "\n",
       "    .dataframe tbody tr th {\n",
       "        vertical-align: top;\n",
       "    }\n",
       "\n",
       "    .dataframe thead th {\n",
       "        text-align: right;\n",
       "    }\n",
       "</style>\n",
       "<table border=\"1\" class=\"dataframe\">\n",
       "  <thead>\n",
       "    <tr style=\"text-align: right;\">\n",
       "      <th></th>\n",
       "      <th>text</th>\n",
       "      <th>y_test</th>\n",
       "      <th>y_pred</th>\n",
       "    </tr>\n",
       "  </thead>\n",
       "  <tbody>\n",
       "    <tr>\n",
       "      <th>256</th>\n",
       "      <td>it 's a pretty convinient bag.i put a canon re...</td>\n",
       "      <td>pos</td>\n",
       "      <td>pos</td>\n",
       "    </tr>\n",
       "    <tr>\n",
       "      <th>1773</th>\n",
       "      <td>got this camera because a friend had a similar...</td>\n",
       "      <td>pos</td>\n",
       "      <td>pos</td>\n",
       "    </tr>\n",
       "    <tr>\n",
       "      <th>4967</th>\n",
       "      <td>made another bull**** album . honestly i did n...</td>\n",
       "      <td>neg</td>\n",
       "      <td>neg</td>\n",
       "    </tr>\n",
       "    <tr>\n",
       "      <th>4298</th>\n",
       "      <td>this record is one of the best that has found ...</td>\n",
       "      <td>pos</td>\n",
       "      <td>pos</td>\n",
       "    </tr>\n",
       "    <tr>\n",
       "      <th>2385</th>\n",
       "      <td>we have had this camera for about a year . we ...</td>\n",
       "      <td>neg</td>\n",
       "      <td>neg</td>\n",
       "    </tr>\n",
       "    <tr>\n",
       "      <th>...</th>\n",
       "      <td>...</td>\n",
       "      <td>...</td>\n",
       "      <td>...</td>\n",
       "    </tr>\n",
       "    <tr>\n",
       "      <th>3681</th>\n",
       "      <td>i was one of those that never got a chance to ...</td>\n",
       "      <td>pos</td>\n",
       "      <td>pos</td>\n",
       "    </tr>\n",
       "    <tr>\n",
       "      <th>4421</th>\n",
       "      <td>i purchased this item because of a recommendat...</td>\n",
       "      <td>neg</td>\n",
       "      <td>pos</td>\n",
       "    </tr>\n",
       "    <tr>\n",
       "      <th>4442</th>\n",
       "      <td>for quite sometime lured by media publicity i ...</td>\n",
       "      <td>neg</td>\n",
       "      <td>neg</td>\n",
       "    </tr>\n",
       "    <tr>\n",
       "      <th>189</th>\n",
       "      <td>even though a set looked exactly like on a pic...</td>\n",
       "      <td>neg</td>\n",
       "      <td>pos</td>\n",
       "    </tr>\n",
       "    <tr>\n",
       "      <th>2002</th>\n",
       "      <td>...wandering through the dorms in the 1970 's ...</td>\n",
       "      <td>pos</td>\n",
       "      <td>pos</td>\n",
       "    </tr>\n",
       "  </tbody>\n",
       "</table>\n",
       "<p>1500 rows × 3 columns</p>\n",
       "</div>"
      ],
      "text/plain": [
       "                                                   text y_test y_pred\n",
       "256   it 's a pretty convinient bag.i put a canon re...    pos    pos\n",
       "1773  got this camera because a friend had a similar...    pos    pos\n",
       "4967  made another bull**** album . honestly i did n...    neg    neg\n",
       "4298  this record is one of the best that has found ...    pos    pos\n",
       "2385  we have had this camera for about a year . we ...    neg    neg\n",
       "...                                                 ...    ...    ...\n",
       "3681  i was one of those that never got a chance to ...    pos    pos\n",
       "4421  i purchased this item because of a recommendat...    neg    pos\n",
       "4442  for quite sometime lured by media publicity i ...    neg    neg\n",
       "189   even though a set looked exactly like on a pic...    neg    pos\n",
       "2002  ...wandering through the dorms in the 1970 's ...    pos    pos\n",
       "\n",
       "[1500 rows x 3 columns]"
      ]
     },
     "execution_count": 7,
     "metadata": {},
     "output_type": "execute_result"
    }
   ],
   "source": [
    "df_vysledek = pandas.DataFrame(X_test)\n",
    "df_vysledek = df_vysledek.rename(columns={\"review\": \"text\"})\n",
    "df_vysledek[\"y_test\"] = y_test\n",
    "df_vysledek[\"y_pred\"] = y_pred\n",
    "df_vysledek"
   ]
  },
  {
   "cell_type": "markdown",
   "metadata": {},
   "source": [
    "Vytvoření tabulky se řádky, kde se náš model mýlil, je úplně stejné."
   ]
  },
  {
   "cell_type": "code",
   "execution_count": 8,
   "metadata": {},
   "outputs": [
    {
     "data": {
      "text/html": [
       "<div>\n",
       "<style scoped>\n",
       "    .dataframe tbody tr th:only-of-type {\n",
       "        vertical-align: middle;\n",
       "    }\n",
       "\n",
       "    .dataframe tbody tr th {\n",
       "        vertical-align: top;\n",
       "    }\n",
       "\n",
       "    .dataframe thead th {\n",
       "        text-align: right;\n",
       "    }\n",
       "</style>\n",
       "<table border=\"1\" class=\"dataframe\">\n",
       "  <thead>\n",
       "    <tr style=\"text-align: right;\">\n",
       "      <th></th>\n",
       "      <th>index</th>\n",
       "      <th>text</th>\n",
       "      <th>y_test</th>\n",
       "      <th>y_pred</th>\n",
       "    </tr>\n",
       "  </thead>\n",
       "  <tbody>\n",
       "    <tr>\n",
       "      <th>0</th>\n",
       "      <td>1133</td>\n",
       "      <td>margaux with an x is about a young lady who se...</td>\n",
       "      <td>neg</td>\n",
       "      <td>pos</td>\n",
       "    </tr>\n",
       "    <tr>\n",
       "      <th>1</th>\n",
       "      <td>3116</td>\n",
       "      <td>has any one tried the compatible battery from ...</td>\n",
       "      <td>pos</td>\n",
       "      <td>neg</td>\n",
       "    </tr>\n",
       "    <tr>\n",
       "      <th>2</th>\n",
       "      <td>69</td>\n",
       "      <td>i do n't know , but. . i could n't get myself ...</td>\n",
       "      <td>neg</td>\n",
       "      <td>pos</td>\n",
       "    </tr>\n",
       "    <tr>\n",
       "      <th>3</th>\n",
       "      <td>4763</td>\n",
       "      <td>this was required reading for my british liter...</td>\n",
       "      <td>neg</td>\n",
       "      <td>pos</td>\n",
       "    </tr>\n",
       "    <tr>\n",
       "      <th>4</th>\n",
       "      <td>1518</td>\n",
       "      <td>i have now seen several gerry anderson project...</td>\n",
       "      <td>neg</td>\n",
       "      <td>pos</td>\n",
       "    </tr>\n",
       "  </tbody>\n",
       "</table>\n",
       "</div>"
      ],
      "text/plain": [
       "   index                                               text y_test y_pred\n",
       "0   1133  margaux with an x is about a young lady who se...    neg    pos\n",
       "1   3116  has any one tried the compatible battery from ...    pos    neg\n",
       "2     69  i do n't know , but. . i could n't get myself ...    neg    pos\n",
       "3   4763  this was required reading for my british liter...    neg    pos\n",
       "4   1518  i have now seen several gerry anderson project...    neg    pos"
      ]
     },
     "execution_count": 8,
     "metadata": {},
     "output_type": "execute_result"
    }
   ],
   "source": [
    "df_vysledek_incorrect = df_vysledek[df_vysledek[\"y_test\"] != df_vysledek[\"y_pred\"]]\n",
    "df_vysledek_incorrect.to_csv(\"errors.csv\", index=False)\n",
    "df_vysledek_incorrect = df_vysledek_incorrect.reset_index()\n",
    "df_vysledek_incorrect.head()"
   ]
  },
  {
   "cell_type": "markdown",
   "metadata": {},
   "source": [
    "Podívejme se nyní na příklad recenze, která byla ohodnocená špatně. Recenze se ve výsledném souboru nachází na řádku č. 3 (při počítání od 0). Text je níže. Z textu je zřejmné, že autor nebo autorka se snažil(a) napsat recenzi velmi zdvořile, což asi náš model zmátlo.\n",
    "\n",
    "*this was required reading for my british literature class . it 's the only novel in the class that i struggled with and only struggled from boredom . it is entirely possible that i just do not understand the genius that is forster , but i did not enjoy this novel . a lover of forster or modernist writing might enjoy it more . it must be a classic for a reason .*\n",
    "\n",
    "Podívejme se ale na data důkladněji. Vytvořme si pandas tabulku s hodnotami koeficientů."
   ]
  },
  {
   "cell_type": "code",
   "execution_count": 9,
   "metadata": {},
   "outputs": [
    {
     "data": {
      "text/html": [
       "<div>\n",
       "<style scoped>\n",
       "    .dataframe tbody tr th:only-of-type {\n",
       "        vertical-align: middle;\n",
       "    }\n",
       "\n",
       "    .dataframe tbody tr th {\n",
       "        vertical-align: top;\n",
       "    }\n",
       "\n",
       "    .dataframe thead th {\n",
       "        text-align: right;\n",
       "    }\n",
       "</style>\n",
       "<table border=\"1\" class=\"dataframe\">\n",
       "  <thead>\n",
       "    <tr style=\"text-align: right;\">\n",
       "      <th></th>\n",
       "      <th>coef</th>\n",
       "      <th>words</th>\n",
       "    </tr>\n",
       "  </thead>\n",
       "  <tbody>\n",
       "    <tr>\n",
       "      <th>0</th>\n",
       "      <td>0.068115</td>\n",
       "      <td>00</td>\n",
       "    </tr>\n",
       "    <tr>\n",
       "      <th>1</th>\n",
       "      <td>-0.019711</td>\n",
       "      <td>00 00</td>\n",
       "    </tr>\n",
       "    <tr>\n",
       "      <th>2</th>\n",
       "      <td>0.143954</td>\n",
       "      <td>00 22</td>\n",
       "    </tr>\n",
       "    <tr>\n",
       "      <th>3</th>\n",
       "      <td>-0.026372</td>\n",
       "      <td>00 8mp</td>\n",
       "    </tr>\n",
       "    <tr>\n",
       "      <th>4</th>\n",
       "      <td>-0.036801</td>\n",
       "      <td>00 avoid</td>\n",
       "    </tr>\n",
       "    <tr>\n",
       "      <th>...</th>\n",
       "      <td>...</td>\n",
       "      <td>...</td>\n",
       "    </tr>\n",
       "    <tr>\n",
       "      <th>248472</th>\n",
       "      <td>0.017760</td>\n",
       "      <td>áron solace</td>\n",
       "    </tr>\n",
       "    <tr>\n",
       "      <th>248473</th>\n",
       "      <td>0.017760</td>\n",
       "      <td>áron tamás</td>\n",
       "    </tr>\n",
       "    <tr>\n",
       "      <th>248474</th>\n",
       "      <td>0.017760</td>\n",
       "      <td>áron undergoes</td>\n",
       "    </tr>\n",
       "    <tr>\n",
       "      <th>248475</th>\n",
       "      <td>0.017760</td>\n",
       "      <td>árpád</td>\n",
       "    </tr>\n",
       "    <tr>\n",
       "      <th>248476</th>\n",
       "      <td>0.017760</td>\n",
       "      <td>árpád sopsits</td>\n",
       "    </tr>\n",
       "  </tbody>\n",
       "</table>\n",
       "<p>248477 rows × 2 columns</p>\n",
       "</div>"
      ],
      "text/plain": [
       "            coef           words\n",
       "0       0.068115              00\n",
       "1      -0.019711           00 00\n",
       "2       0.143954           00 22\n",
       "3      -0.026372          00 8mp\n",
       "4      -0.036801        00 avoid\n",
       "...          ...             ...\n",
       "248472  0.017760     áron solace\n",
       "248473  0.017760      áron tamás\n",
       "248474  0.017760  áron undergoes\n",
       "248475  0.017760           árpád\n",
       "248476  0.017760   árpád sopsits\n",
       "\n",
       "[248477 rows x 2 columns]"
      ]
     },
     "execution_count": 9,
     "metadata": {},
     "output_type": "execute_result"
    }
   ],
   "source": [
    "df_coef = pandas.DataFrame(clf.coef_.T, columns=[\"coef\"])\n",
    "df_coef[\"words\"] = vec.get_feature_names_out()\n",
    "df_coef"
   ]
  },
  {
   "cell_type": "markdown",
   "metadata": {},
   "source": [
    "Dále si vytvoříme pole pouze s textem této recenze a pomocí `TfidfVectorizer` z něj uděláme číselné pole. To převedeme na pandas tabulku."
   ]
  },
  {
   "cell_type": "code",
   "execution_count": 10,
   "metadata": {},
   "outputs": [
    {
     "data": {
      "text/html": [
       "<div>\n",
       "<style scoped>\n",
       "    .dataframe tbody tr th:only-of-type {\n",
       "        vertical-align: middle;\n",
       "    }\n",
       "\n",
       "    .dataframe tbody tr th {\n",
       "        vertical-align: top;\n",
       "    }\n",
       "\n",
       "    .dataframe thead th {\n",
       "        text-align: right;\n",
       "    }\n",
       "</style>\n",
       "<table border=\"1\" class=\"dataframe\">\n",
       "  <thead>\n",
       "    <tr style=\"text-align: right;\">\n",
       "      <th></th>\n",
       "      <th>coef</th>\n",
       "    </tr>\n",
       "  </thead>\n",
       "  <tbody>\n",
       "    <tr>\n",
       "      <th>26569</th>\n",
       "      <td>0.195791</td>\n",
       "    </tr>\n",
       "    <tr>\n",
       "      <th>28616</th>\n",
       "      <td>0.156212</td>\n",
       "    </tr>\n",
       "    <tr>\n",
       "      <th>40302</th>\n",
       "      <td>0.271575</td>\n",
       "    </tr>\n",
       "    <tr>\n",
       "      <th>40381</th>\n",
       "      <td>0.118607</td>\n",
       "    </tr>\n",
       "    <tr>\n",
       "      <th>58475</th>\n",
       "      <td>0.069224</td>\n",
       "    </tr>\n",
       "    <tr>\n",
       "      <th>58614</th>\n",
       "      <td>0.172249</td>\n",
       "    </tr>\n",
       "    <tr>\n",
       "      <th>70478</th>\n",
       "      <td>0.218548</td>\n",
       "    </tr>\n",
       "    <tr>\n",
       "      <th>70496</th>\n",
       "      <td>0.213600</td>\n",
       "    </tr>\n",
       "    <tr>\n",
       "      <th>71167</th>\n",
       "      <td>0.152781</td>\n",
       "    </tr>\n",
       "    <tr>\n",
       "      <th>85568</th>\n",
       "      <td>0.427201</td>\n",
       "    </tr>\n",
       "    <tr>\n",
       "      <th>89324</th>\n",
       "      <td>0.152781</td>\n",
       "    </tr>\n",
       "    <tr>\n",
       "      <th>114833</th>\n",
       "      <td>0.058796</td>\n",
       "    </tr>\n",
       "    <tr>\n",
       "      <th>115706</th>\n",
       "      <td>0.224018</td>\n",
       "    </tr>\n",
       "    <tr>\n",
       "      <th>126010</th>\n",
       "      <td>0.153597</td>\n",
       "    </tr>\n",
       "    <tr>\n",
       "      <th>130018</th>\n",
       "      <td>0.150479</td>\n",
       "    </tr>\n",
       "    <tr>\n",
       "      <th>148421</th>\n",
       "      <td>0.256585</td>\n",
       "    </tr>\n",
       "    <tr>\n",
       "      <th>164594</th>\n",
       "      <td>0.127985</td>\n",
       "    </tr>\n",
       "    <tr>\n",
       "      <th>164632</th>\n",
       "      <td>0.224018</td>\n",
       "    </tr>\n",
       "    <tr>\n",
       "      <th>176264</th>\n",
       "      <td>0.102217</td>\n",
       "    </tr>\n",
       "    <tr>\n",
       "      <th>177499</th>\n",
       "      <td>0.106611</td>\n",
       "    </tr>\n",
       "    <tr>\n",
       "      <th>182501</th>\n",
       "      <td>0.145794</td>\n",
       "    </tr>\n",
       "    <tr>\n",
       "      <th>182523</th>\n",
       "      <td>0.191831</td>\n",
       "    </tr>\n",
       "    <tr>\n",
       "      <th>210357</th>\n",
       "      <td>0.391582</td>\n",
       "    </tr>\n",
       "    <tr>\n",
       "      <th>228684</th>\n",
       "      <td>0.114677</td>\n",
       "    </tr>\n",
       "    <tr>\n",
       "      <th>246039</th>\n",
       "      <td>0.117364</td>\n",
       "    </tr>\n",
       "  </tbody>\n",
       "</table>\n",
       "</div>"
      ],
      "text/plain": [
       "            coef\n",
       "26569   0.195791\n",
       "28616   0.156212\n",
       "40302   0.271575\n",
       "40381   0.118607\n",
       "58475   0.069224\n",
       "58614   0.172249\n",
       "70478   0.218548\n",
       "70496   0.213600\n",
       "71167   0.152781\n",
       "85568   0.427201\n",
       "89324   0.152781\n",
       "114833  0.058796\n",
       "115706  0.224018\n",
       "126010  0.153597\n",
       "130018  0.150479\n",
       "148421  0.256585\n",
       "164594  0.127985\n",
       "164632  0.224018\n",
       "176264  0.102217\n",
       "177499  0.106611\n",
       "182501  0.145794\n",
       "182523  0.191831\n",
       "210357  0.391582\n",
       "228684  0.114677\n",
       "246039  0.117364"
      ]
     },
     "execution_count": 10,
     "metadata": {},
     "output_type": "execute_result"
    }
   ],
   "source": [
    "test_text = df_vysledek_incorrect.iloc[[3]][\"text\"]\n",
    "test_text = vec.transform(test_text)\n",
    "test_text = test_text.toarray()\n",
    "test_text = pandas.DataFrame(test_text.T, columns=[\"coef\"])\n",
    "test_text = test_text[test_text[\"coef\"] != 0]\n",
    "test_text"
   ]
  },
  {
   "cell_type": "markdown",
   "metadata": {},
   "source": [
    "Indexy v obou tabulkách odpovídají stejným slovům nebo kombinacím slov, můžeme tedy obě tabulky propojit s využitím indexů.\n",
    "\n",
    "Sloupec `coef_x` označuje hodnotu koeficientu, který slovu nebo kombinaci slov dal algoritmus SVM. Kladná čísla jsou spíše ve prospěch hodnocení `pos` a záporná čísla ve prospěch hodnocení `neg`. Sloupec `coef_y` označuje koeficient, který slovu dal `TfidfVectorizer`."
   ]
  },
  {
   "cell_type": "code",
   "execution_count": 11,
   "metadata": {},
   "outputs": [
    {
     "data": {
      "text/html": [
       "<div>\n",
       "<style scoped>\n",
       "    .dataframe tbody tr th:only-of-type {\n",
       "        vertical-align: middle;\n",
       "    }\n",
       "\n",
       "    .dataframe tbody tr th {\n",
       "        vertical-align: top;\n",
       "    }\n",
       "\n",
       "    .dataframe thead th {\n",
       "        text-align: right;\n",
       "    }\n",
       "</style>\n",
       "<table border=\"1\" class=\"dataframe\">\n",
       "  <thead>\n",
       "    <tr style=\"text-align: right;\">\n",
       "      <th></th>\n",
       "      <th>coef_x</th>\n",
       "      <th>words</th>\n",
       "      <th>coef_y</th>\n",
       "    </tr>\n",
       "  </thead>\n",
       "  <tbody>\n",
       "    <tr>\n",
       "      <th>58475</th>\n",
       "      <td>-1.657176</td>\n",
       "      <td>did</td>\n",
       "      <td>0.069224</td>\n",
       "    </tr>\n",
       "    <tr>\n",
       "      <th>114833</th>\n",
       "      <td>-0.674810</td>\n",
       "      <td>just</td>\n",
       "      <td>0.058796</td>\n",
       "    </tr>\n",
       "    <tr>\n",
       "      <th>177499</th>\n",
       "      <td>-0.467464</td>\n",
       "      <td>reason</td>\n",
       "      <td>0.106611</td>\n",
       "    </tr>\n",
       "    <tr>\n",
       "      <th>246039</th>\n",
       "      <td>-0.404450</td>\n",
       "      <td>writing</td>\n",
       "      <td>0.117364</td>\n",
       "    </tr>\n",
       "    <tr>\n",
       "      <th>176264</th>\n",
       "      <td>-0.277814</td>\n",
       "      <td>reading</td>\n",
       "      <td>0.102217</td>\n",
       "    </tr>\n",
       "    <tr>\n",
       "      <th>71167</th>\n",
       "      <td>-0.273497</td>\n",
       "      <td>entirely</td>\n",
       "      <td>0.152781</td>\n",
       "    </tr>\n",
       "    <tr>\n",
       "      <th>126010</th>\n",
       "      <td>-0.133594</td>\n",
       "      <td>literature</td>\n",
       "      <td>0.153597</td>\n",
       "    </tr>\n",
       "    <tr>\n",
       "      <th>148421</th>\n",
       "      <td>-0.121172</td>\n",
       "      <td>novel</td>\n",
       "      <td>0.256585</td>\n",
       "    </tr>\n",
       "    <tr>\n",
       "      <th>26569</th>\n",
       "      <td>-0.103564</td>\n",
       "      <td>boredom</td>\n",
       "      <td>0.195791</td>\n",
       "    </tr>\n",
       "    <tr>\n",
       "      <th>164632</th>\n",
       "      <td>-0.052317</td>\n",
       "      <td>possible just</td>\n",
       "      <td>0.224018</td>\n",
       "    </tr>\n",
       "    <tr>\n",
       "      <th>58614</th>\n",
       "      <td>-0.014142</td>\n",
       "      <td>did enjoy</td>\n",
       "      <td>0.172249</td>\n",
       "    </tr>\n",
       "    <tr>\n",
       "      <th>115706</th>\n",
       "      <td>-0.012052</td>\n",
       "      <td>just understand</td>\n",
       "      <td>0.224018</td>\n",
       "    </tr>\n",
       "    <tr>\n",
       "      <th>70496</th>\n",
       "      <td>0.051970</td>\n",
       "      <td>enjoy classic</td>\n",
       "      <td>0.213600</td>\n",
       "    </tr>\n",
       "    <tr>\n",
       "      <th>85568</th>\n",
       "      <td>0.056517</td>\n",
       "      <td>forster</td>\n",
       "      <td>0.427201</td>\n",
       "    </tr>\n",
       "    <tr>\n",
       "      <th>210357</th>\n",
       "      <td>0.109557</td>\n",
       "      <td>struggled</td>\n",
       "      <td>0.391582</td>\n",
       "    </tr>\n",
       "    <tr>\n",
       "      <th>164594</th>\n",
       "      <td>0.156676</td>\n",
       "      <td>possible</td>\n",
       "      <td>0.127985</td>\n",
       "    </tr>\n",
       "    <tr>\n",
       "      <th>28616</th>\n",
       "      <td>0.186831</td>\n",
       "      <td>british</td>\n",
       "      <td>0.156212</td>\n",
       "    </tr>\n",
       "    <tr>\n",
       "      <th>182523</th>\n",
       "      <td>0.243662</td>\n",
       "      <td>required reading</td>\n",
       "      <td>0.191831</td>\n",
       "    </tr>\n",
       "    <tr>\n",
       "      <th>89324</th>\n",
       "      <td>0.259697</td>\n",
       "      <td>genius</td>\n",
       "      <td>0.152781</td>\n",
       "    </tr>\n",
       "    <tr>\n",
       "      <th>130018</th>\n",
       "      <td>0.351284</td>\n",
       "      <td>lover</td>\n",
       "      <td>0.150479</td>\n",
       "    </tr>\n",
       "    <tr>\n",
       "      <th>40302</th>\n",
       "      <td>0.376313</td>\n",
       "      <td>class</td>\n",
       "      <td>0.271575</td>\n",
       "    </tr>\n",
       "    <tr>\n",
       "      <th>228684</th>\n",
       "      <td>0.422028</td>\n",
       "      <td>understand</td>\n",
       "      <td>0.114677</td>\n",
       "    </tr>\n",
       "    <tr>\n",
       "      <th>182501</th>\n",
       "      <td>0.627747</td>\n",
       "      <td>required</td>\n",
       "      <td>0.145794</td>\n",
       "    </tr>\n",
       "    <tr>\n",
       "      <th>40381</th>\n",
       "      <td>0.979855</td>\n",
       "      <td>classic</td>\n",
       "      <td>0.118607</td>\n",
       "    </tr>\n",
       "    <tr>\n",
       "      <th>70478</th>\n",
       "      <td>1.382275</td>\n",
       "      <td>enjoy</td>\n",
       "      <td>0.218548</td>\n",
       "    </tr>\n",
       "  </tbody>\n",
       "</table>\n",
       "</div>"
      ],
      "text/plain": [
       "          coef_x             words    coef_y\n",
       "58475  -1.657176               did  0.069224\n",
       "114833 -0.674810              just  0.058796\n",
       "177499 -0.467464            reason  0.106611\n",
       "246039 -0.404450           writing  0.117364\n",
       "176264 -0.277814           reading  0.102217\n",
       "71167  -0.273497          entirely  0.152781\n",
       "126010 -0.133594        literature  0.153597\n",
       "148421 -0.121172             novel  0.256585\n",
       "26569  -0.103564           boredom  0.195791\n",
       "164632 -0.052317     possible just  0.224018\n",
       "58614  -0.014142         did enjoy  0.172249\n",
       "115706 -0.012052   just understand  0.224018\n",
       "70496   0.051970     enjoy classic  0.213600\n",
       "85568   0.056517           forster  0.427201\n",
       "210357  0.109557         struggled  0.391582\n",
       "164594  0.156676          possible  0.127985\n",
       "28616   0.186831           british  0.156212\n",
       "182523  0.243662  required reading  0.191831\n",
       "89324   0.259697            genius  0.152781\n",
       "130018  0.351284             lover  0.150479\n",
       "40302   0.376313             class  0.271575\n",
       "228684  0.422028        understand  0.114677\n",
       "182501  0.627747          required  0.145794\n",
       "40381   0.979855           classic  0.118607\n",
       "70478   1.382275             enjoy  0.218548"
      ]
     },
     "execution_count": 11,
     "metadata": {},
     "output_type": "execute_result"
    }
   ],
   "source": [
    "df_coef_merged = pandas.merge(df_coef, test_text, left_index=True, right_index=True)\n",
    "df_coef_merged = df_coef_merged.sort_values(by=[\"coef_x\"])\n",
    "df_coef_merged"
   ]
  },
  {
   "cell_type": "markdown",
   "metadata": {},
   "source": [
    "Dále si můžeme prověřit i nějaké konkrétní slovo nebo kombinaci slov. Kupříkladu kombinace \"required reading\" může být lehce podezřelá, protože povinná četba často nepatří mezi nejoblíbenější kratochvíle studující mládeže. Podíváme se, kolik textů toto sousloví obsahuje a jaké jsou jejich skutečné labels. Vycházet budeme nyní z trénovacích dat, protože na nich se SVM \"učil\" hodnoty koeficientů."
   ]
  },
  {
   "cell_type": "code",
   "execution_count": 12,
   "metadata": {},
   "outputs": [
    {
     "data": {
      "text/html": [
       "<div>\n",
       "<style scoped>\n",
       "    .dataframe tbody tr th:only-of-type {\n",
       "        vertical-align: middle;\n",
       "    }\n",
       "\n",
       "    .dataframe tbody tr th {\n",
       "        vertical-align: top;\n",
       "    }\n",
       "\n",
       "    .dataframe thead th {\n",
       "        text-align: right;\n",
       "    }\n",
       "</style>\n",
       "<table border=\"1\" class=\"dataframe\">\n",
       "  <thead>\n",
       "    <tr style=\"text-align: right;\">\n",
       "      <th></th>\n",
       "      <th>text</th>\n",
       "      <th>label</th>\n",
       "    </tr>\n",
       "  </thead>\n",
       "  <tbody>\n",
       "    <tr>\n",
       "      <th>391</th>\n",
       "      <td>this book was &amp; quot ; required reading&amp;quot ;...</td>\n",
       "      <td>pos</td>\n",
       "    </tr>\n",
       "    <tr>\n",
       "      <th>1987</th>\n",
       "      <td>in 1995 the poverty level for a family of four...</td>\n",
       "      <td>pos</td>\n",
       "    </tr>\n",
       "    <tr>\n",
       "      <th>4360</th>\n",
       "      <td>these books will one day be recorded as histor...</td>\n",
       "      <td>pos</td>\n",
       "    </tr>\n",
       "    <tr>\n",
       "      <th>4431</th>\n",
       "      <td>newt gingrich presents common sense solutions ...</td>\n",
       "      <td>neg</td>\n",
       "    </tr>\n",
       "  </tbody>\n",
       "</table>\n",
       "</div>"
      ],
      "text/plain": [
       "                                                   text label\n",
       "391   this book was & quot ; required reading&quot ;...   pos\n",
       "1987  in 1995 the poverty level for a family of four...   pos\n",
       "4360  these books will one day be recorded as histor...   pos\n",
       "4431  newt gingrich presents common sense solutions ...   neg"
      ]
     },
     "execution_count": 12,
     "metadata": {},
     "output_type": "execute_result"
    }
   ],
   "source": [
    "word = \"required reading\"\n",
    "df_selected_word = pandas.DataFrame({\"text\": X_train_text, \"label\": y_train})\n",
    "df_selected_word = df_selected_word.dropna()\n",
    "df_selected_word = df_selected_word[df_selected_word[\"text\"].str.contains(word)]\n",
    "df_selected_word.to_csv(\"df_selected_word.csv\", index=False)\n",
    "df_selected_word"
   ]
  },
  {
   "cell_type": "markdown",
   "metadata": {},
   "source": [
    "Vidíme, že 3 ze 4 recenzí jsou pozitivní, takže algoritmus pravděpodobně postupoval správně."
   ]
  },
  {
   "cell_type": "markdown",
   "metadata": {},
   "source": [
    "**Bonus 2:** Všimni si, že soubor obsahuje také sloupec `product`, který identifikuje kategorii produktu.\n",
    "\n",
    "1. Mohlo by být zajímavé se podívat, jestli je možné data do těchto kategorií shlukovat bez využití této informace. Data normalizuj (například pomocí `TfidfVectorizer`), a zkus spustit nějaký shlukovací algoritmus, například `KMeans`. Výsledky shlukování můžeš \"obarvit\" správnými kategoriemi. Povedlo se modelu predikovat kategorie? \n",
    "\n",
    "2. Vyzkoušej také klasifikaci do těchto kategorií. Které kategorie se těžko odlišují?"
   ]
  },
  {
   "cell_type": "markdown",
   "metadata": {},
   "source": [
    "Nejprve vyzkoušíme vytvořit shluky bez redukce dimenzionality. Vytvoření shluků bez redukce dimenzionality je možné, pouze jej nejde vizualizovat. Můžeme ale vytvořit graf metriky `inertia` pro různé počty shluků.\n",
    "\n",
    "Protože s dvojicemi slov by výpočty běžely opravdu dlouho, budeme uvažovat pouze jednotlivá slova."
   ]
  },
  {
   "cell_type": "code",
   "execution_count": 13,
   "metadata": {},
   "outputs": [
    {
     "data": {
      "text/plain": [
       "[<matplotlib.lines.Line2D at 0x1a4e7584410>]"
      ]
     },
     "execution_count": 13,
     "metadata": {},
     "output_type": "execute_result"
    },
    {
     "data": {
      "image/png": "[encoded data removed]",
      "text/plain": [
       "<Figure size 640x480 with 1 Axes>"
      ]
     },
     "metadata": {},
     "output_type": "display_data"
    }
   ],
   "source": [
    "X_1 = data[\"review\"]\n",
    "y = data[\"label\"]\n",
    "\n",
    "vec = TfidfVectorizer(stop_words=\"english\")\n",
    "X_1 = vec.fit_transform(X_1)\n",
    "distances = []\n",
    "cluster_counts = range(2, 15)\n",
    "\n",
    "for k in cluster_counts:\n",
    "    model = KMeans(n_clusters=k, n_init=\"auto\", random_state=42)\n",
    "    model.fit(X_1)\n",
    "    distances.append(model.inertia_)\n",
    "\n",
    "plt.plot(cluster_counts, distances,)"
   ]
  },
  {
   "cell_type": "markdown",
   "metadata": {},
   "source": [
    "Nyní vyzkoušíme redukovat data do dvou rozměrů, a to s využitím TSNE. Vidíme, že graf metriky `inertia` je \"hladší\" a neustále klesá.\n",
    "\n",
    "Je třeba uvést, že TSNE není doporučená metoda pro redukci dimenzionality dat s velmi vysokým počtem sloupců, což naše data určitě jsou. Proto poté vyzkoušíme ještě algoritmus PCA (např. z důvodu, že výpočet trvá příliš dlouho)."
   ]
  },
  {
   "cell_type": "code",
   "execution_count": 14,
   "metadata": {},
   "outputs": [
    {
     "data": {
      "text/plain": [
       "[<matplotlib.lines.Line2D at 0x1a4ea3fe550>]"
      ]
     },
     "execution_count": 14,
     "metadata": {},
     "output_type": "execute_result"
    },
    {
     "data": {
      "image/png": "[encoded data removed]",
      "text/plain": [
       "<Figure size 640x480 with 1 Axes>"
      ]
     },
     "metadata": {},
     "output_type": "display_data"
    }
   ],
   "source": [
    "X_2 = data[\"review\"]\n",
    "y = data[\"label\"]\n",
    "\n",
    "vec = TfidfVectorizer(stop_words=\"english\")\n",
    "X_2 = vec.fit_transform(X_2).toarray()\n",
    "\n",
    "tsne = TSNE(\n",
    "    n_components=2,\n",
    "    random_state=42,\n",
    ")\n",
    "X_2 = tsne.fit_transform(X_2)\n",
    "\n",
    "distances = []\n",
    "cluster_counts = range(2, 15)\n",
    "\n",
    "for k in cluster_counts:\n",
    "    model = KMeans(n_clusters=k, n_init=\"auto\", random_state=42)\n",
    "    model.fit(X_2)\n",
    "    distances.append(model.inertia_)\n",
    "\n",
    "plt.plot(cluster_counts, distances,)"
   ]
  },
  {
   "cell_type": "markdown",
   "metadata": {},
   "source": [
    "Výsledek můžeme vizualizovat s využitím dvourozměrného grafu. Vidíme, že z grafu bychom nepoznali, kolik shluků je."
   ]
  },
  {
   "cell_type": "code",
   "execution_count": 15,
   "metadata": {},
   "outputs": [
    {
     "data": {
      "text/plain": [
       "<matplotlib.collections.PathCollection at 0x1a4ea1a2b10>"
      ]
     },
     "execution_count": 15,
     "metadata": {},
     "output_type": "execute_result"
    },
    {
     "data": {
      "image/png": "[encoded data removed]",
      "text/plain": [
       "<Figure size 640x480 with 1 Axes>"
      ]
     },
     "metadata": {},
     "output_type": "display_data"
    }
   ],
   "source": [
    "plt.scatter(X_2[:, 0], X_2[:, 1], s=50)"
   ]
  },
  {
   "cell_type": "markdown",
   "metadata": {},
   "source": [
    "Přidáme do grafu jednotlivé shluky a centroidy."
   ]
  },
  {
   "cell_type": "code",
   "execution_count": 16,
   "metadata": {},
   "outputs": [
    {
     "data": {
      "text/plain": [
       "<matplotlib.collections.PathCollection at 0x1a4e80b6490>"
      ]
     },
     "execution_count": 16,
     "metadata": {},
     "output_type": "execute_result"
    },
    {
     "data": {
      "image/png": "[encoded data removed]",
      "text/plain": [
       "<Figure size 640x480 with 1 Axes>"
      ]
     },
     "metadata": {},
     "output_type": "display_data"
    }
   ],
   "source": [
    "model = KMeans(n_clusters=6, random_state=42, n_init=\"auto\")\n",
    "labels = model.fit_predict(X_2)\n",
    "centers = model.cluster_centers_\n",
    "plt.scatter(X_2[:, 0], X_2[:, 1], c=labels, s=50)\n",
    "plt.scatter(centers[:, 0], centers[:, 1], c=\"black\", s=200, alpha=0.5)"
   ]
  },
  {
   "cell_type": "markdown",
   "metadata": {},
   "source": [
    "Nakonec vyzkoušíme ještě jiný způsob, jak snížit dimenzionalitu. Tím je metoda PCA Principal Component Analysis (PCA), což je jiný algoritmus pro redukci dimenzionality. Opět redukujeme na 2 dimenze a vytvoříme si graf metriky `inertia`."
   ]
  },
  {
   "cell_type": "code",
   "execution_count": 17,
   "metadata": {},
   "outputs": [
    {
     "data": {
      "text/plain": [
       "[<matplotlib.lines.Line2D at 0x1a4e7906410>]"
      ]
     },
     "execution_count": 17,
     "metadata": {},
     "output_type": "execute_result"
    },
    {
     "data": {
      "image/png": "[encoded data removed]",
      "text/plain": [
       "<Figure size 640x480 with 1 Axes>"
      ]
     },
     "metadata": {},
     "output_type": "display_data"
    }
   ],
   "source": [
    "X_3 = data[\"review\"]\n",
    "y = data[\"label\"]\n",
    "\n",
    "vec = TfidfVectorizer(stop_words=\"english\")\n",
    "X_3 = vec.fit_transform(X_3).toarray()\n",
    "\n",
    "pca = PCA(\n",
    "    n_components=2,\n",
    "    random_state=42,\n",
    ")\n",
    "X_3 = pca.fit_transform(X_3)\n",
    "\n",
    "distances = []\n",
    "cluster_counts = range(2, 15)\n",
    "\n",
    "for k in cluster_counts:\n",
    "    model = KMeans(n_clusters=k, n_init=\"auto\", random_state=42)\n",
    "    model.fit(X_3)\n",
    "    distances.append(model.inertia_)\n",
    "\n",
    "plt.plot(cluster_counts, distances,)\n"
   ]
  },
  {
   "cell_type": "markdown",
   "metadata": {},
   "source": [
    "Nyní je samozřejmě otázka, kolik shluků bychom se rozhodli na základě grafu metriky vytvořit. Osobně bych volil 7, a to především na základě grafů s redukcí dimenzionality.\n",
    "\n",
    "Podívejme se nyní, kolik produktů ve skutečnosti je. Je jich 6."
   ]
  },
  {
   "cell_type": "code",
   "execution_count": 18,
   "metadata": {},
   "outputs": [
    {
     "data": {
      "text/plain": [
       "array(['music', 'dvd', 'health', 'camera', 'software', 'books'],\n",
       "      dtype=object)"
      ]
     },
     "execution_count": 18,
     "metadata": {},
     "output_type": "execute_result"
    }
   ],
   "source": [
    "data[\"product\"].unique()"
   ]
  },
  {
   "cell_type": "markdown",
   "metadata": {},
   "source": [
    "Vezměme tedy původní data a podívejme se, jestli se liší výskyty produktů v jednotlivých shlucích. Použijeme 6 shluků, tj. stejný počet shluků jako produktů. Porováme výsledky pro data v původní dimenzi a data s oběma postupy pro redukci dimenzionality."
   ]
  },
  {
   "cell_type": "code",
   "execution_count": 19,
   "metadata": {},
   "outputs": [],
   "source": [
    "model = KMeans(n_clusters=6, random_state=42, n_init=\"auto\")\n",
    "labels_1 = model.fit_predict(X_1)\n",
    "labels_2 = model.fit_predict(X_2)\n",
    "labels_3 = model.fit_predict(X_3)\n",
    "data[\"labels_1\"] = labels_1\n",
    "data[\"labels_2\"] = labels_2\n",
    "data[\"labels_3\"] = labels_3"
   ]
  },
  {
   "cell_type": "markdown",
   "metadata": {},
   "source": [
    "Porovnání provedeme pomocí pivot tabulky. Jako řádky zvolíme typy produktů a jako sloupce zvolíme clustery. Vidíme, že počty výskytů jednotlivých typů produktů se výrazně liší. Např. ve shluku 3 jsou téměř výhradně kamery, ve shluku 2 převažují knihy, ve shluku 4 DVD atd.\n",
    "\n",
    "Pokud bychom data četli po řádcích, vidíme například, že drtivá většina z hudebních produktů je ve shluku 1, tam je ale spousta dalších typů produktů."
   ]
  },
  {
   "cell_type": "code",
   "execution_count": 20,
   "metadata": {},
   "outputs": [
    {
     "data": {
      "text/html": [
       "<div>\n",
       "<style scoped>\n",
       "    .dataframe tbody tr th:only-of-type {\n",
       "        vertical-align: middle;\n",
       "    }\n",
       "\n",
       "    .dataframe tbody tr th {\n",
       "        vertical-align: top;\n",
       "    }\n",
       "\n",
       "    .dataframe thead th {\n",
       "        text-align: right;\n",
       "    }\n",
       "</style>\n",
       "<table border=\"1\" class=\"dataframe\">\n",
       "  <thead>\n",
       "    <tr style=\"text-align: right;\">\n",
       "      <th>labels_1</th>\n",
       "      <th>0</th>\n",
       "      <th>1</th>\n",
       "      <th>2</th>\n",
       "      <th>3</th>\n",
       "      <th>4</th>\n",
       "      <th>5</th>\n",
       "      <th>All</th>\n",
       "    </tr>\n",
       "    <tr>\n",
       "      <th>product</th>\n",
       "      <th></th>\n",
       "      <th></th>\n",
       "      <th></th>\n",
       "      <th></th>\n",
       "      <th></th>\n",
       "      <th></th>\n",
       "      <th></th>\n",
       "    </tr>\n",
       "  </thead>\n",
       "  <tbody>\n",
       "    <tr>\n",
       "      <th>books</th>\n",
       "      <td>16.0</td>\n",
       "      <td>288.0</td>\n",
       "      <td>682.0</td>\n",
       "      <td>NaN</td>\n",
       "      <td>7.0</td>\n",
       "      <td>NaN</td>\n",
       "      <td>993</td>\n",
       "    </tr>\n",
       "    <tr>\n",
       "      <th>camera</th>\n",
       "      <td>270.0</td>\n",
       "      <td>167.0</td>\n",
       "      <td>NaN</td>\n",
       "      <td>539.0</td>\n",
       "      <td>1.0</td>\n",
       "      <td>11.0</td>\n",
       "      <td>988</td>\n",
       "    </tr>\n",
       "    <tr>\n",
       "      <th>dvd</th>\n",
       "      <td>7.0</td>\n",
       "      <td>306.0</td>\n",
       "      <td>10.0</td>\n",
       "      <td>NaN</td>\n",
       "      <td>507.0</td>\n",
       "      <td>182.0</td>\n",
       "      <td>1012</td>\n",
       "    </tr>\n",
       "    <tr>\n",
       "      <th>health</th>\n",
       "      <td>656.0</td>\n",
       "      <td>322.0</td>\n",
       "      <td>5.0</td>\n",
       "      <td>NaN</td>\n",
       "      <td>NaN</td>\n",
       "      <td>3.0</td>\n",
       "      <td>986</td>\n",
       "    </tr>\n",
       "    <tr>\n",
       "      <th>music</th>\n",
       "      <td>5.0</td>\n",
       "      <td>987.0</td>\n",
       "      <td>NaN</td>\n",
       "      <td>NaN</td>\n",
       "      <td>26.0</td>\n",
       "      <td>9.0</td>\n",
       "      <td>1027</td>\n",
       "    </tr>\n",
       "    <tr>\n",
       "      <th>software</th>\n",
       "      <td>828.0</td>\n",
       "      <td>133.0</td>\n",
       "      <td>7.0</td>\n",
       "      <td>2.0</td>\n",
       "      <td>NaN</td>\n",
       "      <td>24.0</td>\n",
       "      <td>994</td>\n",
       "    </tr>\n",
       "    <tr>\n",
       "      <th>All</th>\n",
       "      <td>1782.0</td>\n",
       "      <td>2203.0</td>\n",
       "      <td>704.0</td>\n",
       "      <td>541.0</td>\n",
       "      <td>541.0</td>\n",
       "      <td>229.0</td>\n",
       "      <td>6000</td>\n",
       "    </tr>\n",
       "  </tbody>\n",
       "</table>\n",
       "</div>"
      ],
      "text/plain": [
       "labels_1       0       1      2      3      4      5   All\n",
       "product                                                   \n",
       "books       16.0   288.0  682.0    NaN    7.0    NaN   993\n",
       "camera     270.0   167.0    NaN  539.0    1.0   11.0   988\n",
       "dvd          7.0   306.0   10.0    NaN  507.0  182.0  1012\n",
       "health     656.0   322.0    5.0    NaN    NaN    3.0   986\n",
       "music        5.0   987.0    NaN    NaN   26.0    9.0  1027\n",
       "software   828.0   133.0    7.0    2.0    NaN   24.0   994\n",
       "All       1782.0  2203.0  704.0  541.0  541.0  229.0  6000"
      ]
     },
     "execution_count": 20,
     "metadata": {},
     "output_type": "execute_result"
    }
   ],
   "source": [
    "data.pivot_table(index=\"product\", columns=\"labels_1\", values=\"review\", aggfunc=len, margins=True)"
   ]
  },
  {
   "cell_type": "markdown",
   "metadata": {},
   "source": [
    "Níže jsou výsledky pro redukci dimenzionality s algoritmem TSNE. Oproti předchozímu modelu jsou ale všechny shluky přibližně stejně početné."
   ]
  },
  {
   "cell_type": "code",
   "execution_count": 21,
   "metadata": {},
   "outputs": [
    {
     "data": {
      "text/html": [
       "<div>\n",
       "<style scoped>\n",
       "    .dataframe tbody tr th:only-of-type {\n",
       "        vertical-align: middle;\n",
       "    }\n",
       "\n",
       "    .dataframe tbody tr th {\n",
       "        vertical-align: top;\n",
       "    }\n",
       "\n",
       "    .dataframe thead th {\n",
       "        text-align: right;\n",
       "    }\n",
       "</style>\n",
       "<table border=\"1\" class=\"dataframe\">\n",
       "  <thead>\n",
       "    <tr style=\"text-align: right;\">\n",
       "      <th>labels_2</th>\n",
       "      <th>0</th>\n",
       "      <th>1</th>\n",
       "      <th>2</th>\n",
       "      <th>3</th>\n",
       "      <th>4</th>\n",
       "      <th>5</th>\n",
       "      <th>All</th>\n",
       "    </tr>\n",
       "    <tr>\n",
       "      <th>product</th>\n",
       "      <th></th>\n",
       "      <th></th>\n",
       "      <th></th>\n",
       "      <th></th>\n",
       "      <th></th>\n",
       "      <th></th>\n",
       "      <th></th>\n",
       "    </tr>\n",
       "  </thead>\n",
       "  <tbody>\n",
       "    <tr>\n",
       "      <th>books</th>\n",
       "      <td>1</td>\n",
       "      <td>654</td>\n",
       "      <td>31</td>\n",
       "      <td>75</td>\n",
       "      <td>9</td>\n",
       "      <td>223</td>\n",
       "      <td>993</td>\n",
       "    </tr>\n",
       "    <tr>\n",
       "      <th>camera</th>\n",
       "      <td>266</td>\n",
       "      <td>6</td>\n",
       "      <td>6</td>\n",
       "      <td>73</td>\n",
       "      <td>630</td>\n",
       "      <td>7</td>\n",
       "      <td>988</td>\n",
       "    </tr>\n",
       "    <tr>\n",
       "      <th>dvd</th>\n",
       "      <td>9</td>\n",
       "      <td>66</td>\n",
       "      <td>112</td>\n",
       "      <td>175</td>\n",
       "      <td>6</td>\n",
       "      <td>644</td>\n",
       "      <td>1012</td>\n",
       "    </tr>\n",
       "    <tr>\n",
       "      <th>health</th>\n",
       "      <td>563</td>\n",
       "      <td>31</td>\n",
       "      <td>18</td>\n",
       "      <td>297</td>\n",
       "      <td>68</td>\n",
       "      <td>9</td>\n",
       "      <td>986</td>\n",
       "    </tr>\n",
       "    <tr>\n",
       "      <th>music</th>\n",
       "      <td>15</td>\n",
       "      <td>60</td>\n",
       "      <td>831</td>\n",
       "      <td>36</td>\n",
       "      <td>2</td>\n",
       "      <td>83</td>\n",
       "      <td>1027</td>\n",
       "    </tr>\n",
       "    <tr>\n",
       "      <th>software</th>\n",
       "      <td>14</td>\n",
       "      <td>263</td>\n",
       "      <td>30</td>\n",
       "      <td>160</td>\n",
       "      <td>471</td>\n",
       "      <td>56</td>\n",
       "      <td>994</td>\n",
       "    </tr>\n",
       "    <tr>\n",
       "      <th>All</th>\n",
       "      <td>868</td>\n",
       "      <td>1080</td>\n",
       "      <td>1028</td>\n",
       "      <td>816</td>\n",
       "      <td>1186</td>\n",
       "      <td>1022</td>\n",
       "      <td>6000</td>\n",
       "    </tr>\n",
       "  </tbody>\n",
       "</table>\n",
       "</div>"
      ],
      "text/plain": [
       "labels_2    0     1     2    3     4     5   All\n",
       "product                                         \n",
       "books       1   654    31   75     9   223   993\n",
       "camera    266     6     6   73   630     7   988\n",
       "dvd         9    66   112  175     6   644  1012\n",
       "health    563    31    18  297    68     9   986\n",
       "music      15    60   831   36     2    83  1027\n",
       "software   14   263    30  160   471    56   994\n",
       "All       868  1080  1028  816  1186  1022  6000"
      ]
     },
     "execution_count": 21,
     "metadata": {},
     "output_type": "execute_result"
    }
   ],
   "source": [
    "data.pivot_table(index=\"product\", columns=\"labels_2\", values=\"review\", aggfunc=len, margins=True)"
   ]
  },
  {
   "cell_type": "markdown",
   "metadata": {},
   "source": [
    "Nakonec máme výsledky při redukci dimenzionality s využitím algoritmu PCA."
   ]
  },
  {
   "cell_type": "code",
   "execution_count": 22,
   "metadata": {},
   "outputs": [
    {
     "data": {
      "text/html": [
       "<div>\n",
       "<style scoped>\n",
       "    .dataframe tbody tr th:only-of-type {\n",
       "        vertical-align: middle;\n",
       "    }\n",
       "\n",
       "    .dataframe tbody tr th {\n",
       "        vertical-align: top;\n",
       "    }\n",
       "\n",
       "    .dataframe thead th {\n",
       "        text-align: right;\n",
       "    }\n",
       "</style>\n",
       "<table border=\"1\" class=\"dataframe\">\n",
       "  <thead>\n",
       "    <tr style=\"text-align: right;\">\n",
       "      <th>labels_3</th>\n",
       "      <th>0</th>\n",
       "      <th>1</th>\n",
       "      <th>2</th>\n",
       "      <th>3</th>\n",
       "      <th>4</th>\n",
       "      <th>5</th>\n",
       "      <th>All</th>\n",
       "    </tr>\n",
       "    <tr>\n",
       "      <th>product</th>\n",
       "      <th></th>\n",
       "      <th></th>\n",
       "      <th></th>\n",
       "      <th></th>\n",
       "      <th></th>\n",
       "      <th></th>\n",
       "      <th></th>\n",
       "    </tr>\n",
       "  </thead>\n",
       "  <tbody>\n",
       "    <tr>\n",
       "      <th>books</th>\n",
       "      <td>18.0</td>\n",
       "      <td>NaN</td>\n",
       "      <td>593.0</td>\n",
       "      <td>3.0</td>\n",
       "      <td>NaN</td>\n",
       "      <td>379.0</td>\n",
       "      <td>993</td>\n",
       "    </tr>\n",
       "    <tr>\n",
       "      <th>camera</th>\n",
       "      <td>365.0</td>\n",
       "      <td>219.0</td>\n",
       "      <td>NaN</td>\n",
       "      <td>NaN</td>\n",
       "      <td>389.0</td>\n",
       "      <td>15.0</td>\n",
       "      <td>988</td>\n",
       "    </tr>\n",
       "    <tr>\n",
       "      <th>dvd</th>\n",
       "      <td>77.0</td>\n",
       "      <td>NaN</td>\n",
       "      <td>18.0</td>\n",
       "      <td>42.0</td>\n",
       "      <td>1.0</td>\n",
       "      <td>874.0</td>\n",
       "      <td>1012</td>\n",
       "    </tr>\n",
       "    <tr>\n",
       "      <th>health</th>\n",
       "      <td>769.0</td>\n",
       "      <td>NaN</td>\n",
       "      <td>4.0</td>\n",
       "      <td>NaN</td>\n",
       "      <td>4.0</td>\n",
       "      <td>209.0</td>\n",
       "      <td>986</td>\n",
       "    </tr>\n",
       "    <tr>\n",
       "      <th>music</th>\n",
       "      <td>20.0</td>\n",
       "      <td>NaN</td>\n",
       "      <td>NaN</td>\n",
       "      <td>735.0</td>\n",
       "      <td>NaN</td>\n",
       "      <td>272.0</td>\n",
       "      <td>1027</td>\n",
       "    </tr>\n",
       "    <tr>\n",
       "      <th>software</th>\n",
       "      <td>771.0</td>\n",
       "      <td>NaN</td>\n",
       "      <td>8.0</td>\n",
       "      <td>17.0</td>\n",
       "      <td>8.0</td>\n",
       "      <td>190.0</td>\n",
       "      <td>994</td>\n",
       "    </tr>\n",
       "    <tr>\n",
       "      <th>All</th>\n",
       "      <td>2020.0</td>\n",
       "      <td>219.0</td>\n",
       "      <td>623.0</td>\n",
       "      <td>797.0</td>\n",
       "      <td>402.0</td>\n",
       "      <td>1939.0</td>\n",
       "      <td>6000</td>\n",
       "    </tr>\n",
       "  </tbody>\n",
       "</table>\n",
       "</div>"
      ],
      "text/plain": [
       "labels_3       0      1      2      3      4       5   All\n",
       "product                                                   \n",
       "books       18.0    NaN  593.0    3.0    NaN   379.0   993\n",
       "camera     365.0  219.0    NaN    NaN  389.0    15.0   988\n",
       "dvd         77.0    NaN   18.0   42.0    1.0   874.0  1012\n",
       "health     769.0    NaN    4.0    NaN    4.0   209.0   986\n",
       "music       20.0    NaN    NaN  735.0    NaN   272.0  1027\n",
       "software   771.0    NaN    8.0   17.0    8.0   190.0   994\n",
       "All       2020.0  219.0  623.0  797.0  402.0  1939.0  6000"
      ]
     },
     "execution_count": 22,
     "metadata": {},
     "output_type": "execute_result"
    }
   ],
   "source": [
    "data.pivot_table(index=\"product\", columns=\"labels_3\", values=\"review\", aggfunc=len, margins=True)"
   ]
  }
 ],
 "metadata": {
  "kernelspec": {
   "display_name": "venv",
   "language": "python",
   "name": "python3"
  },
  "language_info": {
   "codemirror_mode": {
    "name": "ipython",
    "version": 3
   },
   "file_extension": ".py",
   "mimetype": "text/x-python",
   "name": "python",
   "nbconvert_exporter": "python",
   "pygments_lexer": "ipython3",
   "version": "3.11.2"
  },
  "orig_nbformat": 4
 },
 "nbformat": 4,
 "nbformat_minor": 2
}
