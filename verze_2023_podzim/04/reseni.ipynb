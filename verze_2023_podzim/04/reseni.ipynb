{
 "cells": [
  {
   "attachments": {},
   "cell_type": "markdown",
   "metadata": {},
   "source": [
    "# Řešení\n",
    "\n",
    "## Důvěra v EU a euro\n",
    "\n",
    "Hypotézy:\n",
    "- H0: Průměrná důvěra v EU se neliší ve státech v eurozónu a ve státech mimo eurozónu\n",
    "- H1: Průměrná důvěra v EU se liší ve státech v eurozónu a ve státech mimo eurozónu"
   ]
  },
  {
   "cell_type": "code",
   "execution_count": 8,
   "metadata": {},
   "outputs": [
    {
     "data": {
      "text/plain": [
       "Ttest_indResult(statistic=-0.33471431258258433, pvalue=0.7406326832748829)"
      ]
     },
     "execution_count": 8,
     "metadata": {},
     "output_type": "execute_result"
    }
   ],
   "source": [
    "import pandas as pd\n",
    "from scipy import stats\n",
    "import seaborn as sns\n",
    "\n",
    "data = pd.read_csv(\"duvera.csv\")\n",
    "data_euro = data[data[\"Euro\"] == 1]\n",
    "data_not_euro = data[data[\"Euro\"] == 0]\n",
    "stats.ttest_ind(data_euro[\"EU Trust\"], data_not_euro[\"EU Trust\"])"
   ]
  },
  {
   "cell_type": "markdown",
   "metadata": {},
   "source": [
    "Na hladině významnosti 5 % nezamítáme H0, tj. neprokázali jsme, že byl byl rozdíl v důvěře v EU."
   ]
  },
  {
   "attachments": {},
   "cell_type": "markdown",
   "metadata": {},
   "source": [
    "## Bonus: Inflace\n",
    "\n",
    "Hypotézy:\n",
    "- H0: Průměrné procento lidí, které považuje inflaci za jeden ze svých největších problémů, se nezměnilo.\n",
    "- H1: Průměrné procento lidí, které považuje inflaci za jeden ze svých největších problémů, se změnilo."
   ]
  },
  {
   "cell_type": "code",
   "execution_count": 5,
   "metadata": {},
   "outputs": [
    {
     "data": {
      "text/plain": [
       "TtestResult(statistic=3.4869444202944764, pvalue=0.0017533857526091583, df=26)"
      ]
     },
     "execution_count": 5,
     "metadata": {},
     "output_type": "execute_result"
    }
   ],
   "source": [
    "data = pd.read_csv(\"inflace.csv\")\n",
    "stats.ttest_rel(data[\"97\"], data[\"98\"])"
   ]
  },
  {
   "attachments": {},
   "cell_type": "markdown",
   "metadata": {},
   "source": [
    "p-hodnota je menší než 0.05. Zamítám nulovou hypotézu. Průměrné procento lidí, kteří považují inflaci za jeden ze svých hlavních problémů, se změnilo."
   ]
  }
 ],
 "metadata": {
  "kernelspec": {
   "display_name": "Python 3",
   "language": "python",
   "name": "python3"
  },
  "language_info": {
   "codemirror_mode": {
    "name": "ipython",
    "version": 3
   },
   "file_extension": ".py",
   "mimetype": "text/x-python",
   "name": "python",
   "nbconvert_exporter": "python",
   "pygments_lexer": "ipython3",
   "version": "3.11.2"
  },
  "orig_nbformat": 4
 },
 "nbformat": 4,
 "nbformat_minor": 2
}
