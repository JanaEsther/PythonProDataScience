{
 "cells": [
  {
   "cell_type": "code",
   "execution_count": 4,
   "metadata": {},
   "outputs": [],
   "source": [
    "import numpy as np\n",
    "import pandas as pd\n",
    "from sklearn.preprocessing import OneHotEncoder\n",
    "from sklearn.model_selection import train_test_split\n",
    "from sklearn.preprocessing import StandardScaler\n",
    "\n",
    "data = pd.read_csv(\"bodyPerformance.csv\")\n",
    "\n",
    "y = data[\"class\"]\n",
    "categorical_columns = [\"gender\"]\n",
    "numeric_columns = [\"age\", \"height_cm\", \"weight_kg\", \"body fat_%\", \"diastolic\", \"systolic\", \"gripForce\"]\n",
    "\n",
    "scaler = StandardScaler()\n",
    "numeric_data = scaler.fit_transform(data[numeric_columns])\n",
    "\n",
    "encoder = OneHotEncoder()\n",
    "encoded_columns = encoder.fit_transform(data[categorical_columns])\n",
    "encoded_columns = encoded_columns.toarray()\n",
    "\n",
    "X = np.concatenate([encoded_columns, numeric_data], axis=1)\n",
    "\n",
    "X_train, X_test, y_train, y_test = train_test_split(X, y, test_size=0.3, random_state=42)"
   ]
  }
 ],
 "metadata": {
  "kernelspec": {
   "display_name": "Python 3",
   "language": "python",
   "name": "python3"
  },
  "language_info": {
   "codemirror_mode": {
    "name": "ipython",
    "version": 3
   },
   "file_extension": ".py",
   "mimetype": "text/x-python",
   "name": "python",
   "nbconvert_exporter": "python",
   "pygments_lexer": "ipython3",
   "version": "3.11.2"
  }
 },
 "nbformat": 4,
 "nbformat_minor": 2
}
