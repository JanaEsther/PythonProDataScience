{
 "cells": [
  {
   "attachments": {},
   "cell_type": "markdown",
   "metadata": {},
   "source": [
    "# Lekce 3"
   ]
  },
  {
   "cell_type": "markdown",
   "metadata": {},
   "source": [
    "## Metoda `apply`\n",
    "\n",
    "Metoda `apply()` nám umožňuje používat vlastní funkce. Pokud tedy nějakou úpravu dat sám modul `pandas` neumí, případně pokud by bylo jejich použití příliš složité a nepřehledné, můžeme si vytvořit vlastní funkci.\n",
    "\n",
    "Vlastní funkci vytváříme pomocí klíčového slova `def`. Poté přidáme název funkce a parametry, které příjmá. U `pandas` máme možnost použít funkci dvěma způsoby:\n",
    "\n",
    "- pracovat s hodnotou v konkrétním sloupci,\n",
    "- pracovat se všemi hodnotami v řádku.\n",
    "\n",
    "Vyzkoušíme si použití pro celou tabulku. V tabulce [vysledky.csv](vysledky.csv) máme známky z maturitní zkoušky a naším úkolem je zjistit, zda člověk prospěl s vyznamenáním, prospěl (bez vyznamenání) či neprospěl. Pravidla jsou následující:\n",
    "\n",
    "- pokud má člověk průměr do 1.5 a nemá horší známku než 2, prospěl s vyznamenáním,\n",
    "- pokud dostal známku 5, pak neprospěl,\n",
    "- ve všech ostatních případech prospěl.\n",
    "\n",
    "Vytvoříme si funkci `evaluate_result()`, která bude mít jako jeden parametr `row` (řádek tabulky). Parametr `row()` je série, tj. můžeme vybírat konkrétní hodnoty (např. známku z vybraného předmětu), dále můžeme využívat agregační funkce jako průměr či maximum."
   ]
  },
  {
   "cell_type": "code",
   "execution_count": null,
   "metadata": {},
   "outputs": [],
   "source": [
    "import pandas\n",
    "\n",
    "def evaluate_result(row):\n",
    "    row = row.iloc[2:]\n",
    "    if row.mean() <= 1.5 and row.max() <= 2:\n",
    "        return \"Prospěl(a) s vyznamenáním\"\n",
    "    elif row.max() == 5:\n",
    "        return \"Neprospěl(a)\"\n",
    "    else:\n",
    "        return \"Prospěl(a)\"\n",
    "\n",
    "data = pandas.read_csv(\"vysledky.csv\")\n",
    "data[\"vysledek\"] = data.apply(evaluate_result, axis=1)\n",
    "data.head()"
   ]
  },
  {
   "cell_type": "markdown",
   "metadata": {},
   "source": [
    "Nyní si vyzkoušíme, jak funguje výběr jedné hodnoty nebo více hodnot. Uvažujme například, že nyní řešíme přijetí studentů/studentek na vysokou školu s matematickým zaměřením. Jako první zkontrolujeme, zda student zaplatil administrativní poplatek za podání přihlášky. Ve sloupci `Poplatek` vidíme datum (pokud je poplatek zaplacen) nebo prázdnou hodnotu (pokud zaplacen není). Na začátku tedy využijeme funkce `pandas.isnull()`, která vrátí `True`, pokud je pro daný řádek daný sloupec prázdný, a `False`, pokud pro daný řádek ve sloupci nějaká hodnota je. Dále řešíme, zda má být student přijet bez přijímací zkoušky. Škola umožňuje přijetí studentů bez přijímací zkoušky, pokud mají z maturity jedničku z matematiky a současně mají průměr všech známek menší nebo roven 2."
   ]
  },
  {
   "cell_type": "code",
   "execution_count": null,
   "metadata": {},
   "outputs": [],
   "source": [
    "def evaluate_application(row):\n",
    "    row = row.iloc[1:]\n",
    "    if pandas.isnull(row[\"Poplatek\"]):\n",
    "        return \"Vyřazen - nezaplatil\"\n",
    "    elif row[\"Matematika\"] == 1 and row[\"Český jazyk\":\"Matematika\"].mean() <= 2:\n",
    "        return \"Přijat bez PZ\"\n",
    "    else:\n",
    "        return \"Musí absolvovat PZ\"\n",
    "    \n",
    "data[\"prijimaci_zkouska\"] = data.apply(evaluate_application, axis=1)\n",
    "data.head()"
   ]
  },
  {
   "cell_type": "markdown",
   "metadata": {},
   "source": [
    "### Volání s parametry\n",
    "\n",
    "Metoda `apply()` umožňuje přidání vlastních hodnot při volání funkce. Pokud bychom například chtěli změnit hranici pro přijetí studenta (studentky) mezi roky, namísto úpravy vnitřku funkce můžeme přidat parametr `hranice_prumer`. Jeho konkrétní hodnotu pak zadáme jako parametr `args`. Protože obecně můžeme mít parametrů více, zapisujeme jejich hodnoty do seznamu."
   ]
  },
  {
   "cell_type": "code",
   "execution_count": null,
   "metadata": {},
   "outputs": [],
   "source": [
    "def evaluate_application(row, hranice_prumer):\n",
    "    row = row.iloc[1:]\n",
    "    if pandas.isnull(row[\"Poplatek\"]):\n",
    "        return \"Vyřazen - nezaplatil\"\n",
    "    elif row[\"Matematika\"] == 1 and row[\"Český jazyk\":\"Matematika\"].mean() <= hranice_prumer:\n",
    "        return \"Přijat bez PZ\"\n",
    "    else:\n",
    "        return \"Pozvat na PZ\"\n",
    "    \n",
    "data[\"prijimaci_zkouska\"] = data.apply(evaluate_application, axis=1, args=[1.5])\n",
    "data.head()"
   ]
  },
  {
   "attachments": {},
   "cell_type": "markdown",
   "metadata": {},
   "source": [
    "## Použití metody shift\n",
    "\n",
    "V některých případech se v datech potřebujeme podívat o řádek výše nebo níže, často to může být v souvislosti s datem a časem. Uvažujme například nějaký program, který zapisuje začátek a konec nějaké události. Událost a její typ vždy zapíše jako samostatný řádek. Abychom zjistili délku události, potřebujeme spočítat rozdíl mezi hodnotami data a času ve dvou řádích. K tomu slouží metoda `shift`.\n",
    "\n",
    "Uvažujme například zařízení, které monitoruje výpadky televizního signálu. Zařízení zapisuje záznamy o začátku a konci výpadku do logovacího souboru.\n"
   ]
  },
  {
   "cell_type": "code",
   "execution_count": 1,
   "metadata": {},
   "outputs": [
    {
     "data": {
      "text/html": [
       "<div>\n",
       "<style scoped>\n",
       "    .dataframe tbody tr th:only-of-type {\n",
       "        vertical-align: middle;\n",
       "    }\n",
       "\n",
       "    .dataframe tbody tr th {\n",
       "        vertical-align: top;\n",
       "    }\n",
       "\n",
       "    .dataframe thead th {\n",
       "        text-align: right;\n",
       "    }\n",
       "</style>\n",
       "<table border=\"1\" class=\"dataframe\">\n",
       "  <thead>\n",
       "    <tr style=\"text-align: right;\">\n",
       "      <th></th>\n",
       "      <th>event_type</th>\n",
       "      <th>event_date_time</th>\n",
       "    </tr>\n",
       "  </thead>\n",
       "  <tbody>\n",
       "    <tr>\n",
       "      <th>0</th>\n",
       "      <td>signal lost</td>\n",
       "      <td>2021-02-03 00:40:08</td>\n",
       "    </tr>\n",
       "    <tr>\n",
       "      <th>1</th>\n",
       "      <td>signal restored</td>\n",
       "      <td>2021-02-03 01:14:11</td>\n",
       "    </tr>\n",
       "    <tr>\n",
       "      <th>2</th>\n",
       "      <td>signal lost</td>\n",
       "      <td>2021-02-05 19:14:19</td>\n",
       "    </tr>\n",
       "    <tr>\n",
       "      <th>3</th>\n",
       "      <td>signal restored</td>\n",
       "      <td>2021-02-05 19:46:29</td>\n",
       "    </tr>\n",
       "    <tr>\n",
       "      <th>4</th>\n",
       "      <td>signal lost</td>\n",
       "      <td>2021-02-06 14:31:34</td>\n",
       "    </tr>\n",
       "  </tbody>\n",
       "</table>\n",
       "</div>"
      ],
      "text/plain": [
       "        event_type     event_date_time\n",
       "0      signal lost 2021-02-03 00:40:08\n",
       "1  signal restored 2021-02-03 01:14:11\n",
       "2      signal lost 2021-02-05 19:14:19\n",
       "3  signal restored 2021-02-05 19:46:29\n",
       "4      signal lost 2021-02-06 14:31:34"
      ]
     },
     "execution_count": 1,
     "metadata": {},
     "output_type": "execute_result"
    }
   ],
   "source": [
    "import pandas as pd\n",
    "\n",
    "signal_monitoring = pd.read_csv(\"signal_monitoring.csv\")\n",
    "signal_monitoring[\"event_date_time\"] = pd.to_datetime(signal_monitoring[\"event_date_time\"])\n",
    "signal_monitoring.head()"
   ]
  },
  {
   "attachments": {},
   "cell_type": "markdown",
   "metadata": {},
   "source": [
    "Nyní použijeme metodu `shift` na sloupec `event_date_time`. Pomocí metody pak přidáme k tabulce **nový sloupec**. Nejdůležitějším parametrem metody je parametr `periods`, který může mít kladnou nebo zápornou hodnotu.\n",
    "\n",
    "- Kladná hodnota parametru `periods` znamená, že hodnoty budou posunuty směrem dolů.\n",
    "- Záporná hodnota parametru `periods` znamená, že hodnoty budou posunuty směrem nahoru.\n",
    "\n",
    "Pro náš případ bude ideální, pokud posuneme hodnoty sloupce `event_date_time` o jeden řádek směrem nahoru. Tím zajistíme, že pokud má sloupec `event_type` hodnotu `signal lost`, uvidíme v jednom řádku začátek i konec výpadku. Tím padem bude stačit tyto hodnoty od sebe odečíst. Pro `event_type` `signal restored` nebude mít tato hodnota smysl, ale to nevadí, tyto řádky můžeme pomocí dotazu z tabulky odfiltrovat."
   ]
  },
  {
   "cell_type": "code",
   "execution_count": 14,
   "metadata": {},
   "outputs": [
    {
     "data": {
      "text/html": [
       "<div>\n",
       "<style scoped>\n",
       "    .dataframe tbody tr th:only-of-type {\n",
       "        vertical-align: middle;\n",
       "    }\n",
       "\n",
       "    .dataframe tbody tr th {\n",
       "        vertical-align: top;\n",
       "    }\n",
       "\n",
       "    .dataframe thead th {\n",
       "        text-align: right;\n",
       "    }\n",
       "</style>\n",
       "<table border=\"1\" class=\"dataframe\">\n",
       "  <thead>\n",
       "    <tr style=\"text-align: right;\">\n",
       "      <th></th>\n",
       "      <th>event_type</th>\n",
       "      <th>event_date_time</th>\n",
       "      <th>event_end_date_time</th>\n",
       "    </tr>\n",
       "  </thead>\n",
       "  <tbody>\n",
       "    <tr>\n",
       "      <th>0</th>\n",
       "      <td>signal lost</td>\n",
       "      <td>2021-02-03 00:40:08</td>\n",
       "      <td>2021-02-03 01:14:11</td>\n",
       "    </tr>\n",
       "    <tr>\n",
       "      <th>1</th>\n",
       "      <td>signal restored</td>\n",
       "      <td>2021-02-03 01:14:11</td>\n",
       "      <td>2021-02-05 19:14:19</td>\n",
       "    </tr>\n",
       "    <tr>\n",
       "      <th>2</th>\n",
       "      <td>signal lost</td>\n",
       "      <td>2021-02-05 19:14:19</td>\n",
       "      <td>2021-02-05 19:46:29</td>\n",
       "    </tr>\n",
       "    <tr>\n",
       "      <th>3</th>\n",
       "      <td>signal restored</td>\n",
       "      <td>2021-02-05 19:46:29</td>\n",
       "      <td>2021-02-06 14:31:34</td>\n",
       "    </tr>\n",
       "    <tr>\n",
       "      <th>4</th>\n",
       "      <td>signal lost</td>\n",
       "      <td>2021-02-06 14:31:34</td>\n",
       "      <td>2021-02-06 14:48:24</td>\n",
       "    </tr>\n",
       "  </tbody>\n",
       "</table>\n",
       "</div>"
      ],
      "text/plain": [
       "        event_type     event_date_time event_end_date_time\n",
       "0      signal lost 2021-02-03 00:40:08 2021-02-03 01:14:11\n",
       "1  signal restored 2021-02-03 01:14:11 2021-02-05 19:14:19\n",
       "2      signal lost 2021-02-05 19:14:19 2021-02-05 19:46:29\n",
       "3  signal restored 2021-02-05 19:46:29 2021-02-06 14:31:34\n",
       "4      signal lost 2021-02-06 14:31:34 2021-02-06 14:48:24"
      ]
     },
     "execution_count": 14,
     "metadata": {},
     "output_type": "execute_result"
    }
   ],
   "source": [
    "signal_monitoring[\"event_end_date_time\"] = signal_monitoring[\"event_date_time\"].shift(periods=-1)\n",
    "signal_monitoring.head()"
   ]
  },
  {
   "attachments": {},
   "cell_type": "markdown",
   "metadata": {},
   "source": [
    "Nyní odebereme přebytečné řádky."
   ]
  },
  {
   "cell_type": "code",
   "execution_count": 15,
   "metadata": {},
   "outputs": [
    {
     "data": {
      "text/html": [
       "<div>\n",
       "<style scoped>\n",
       "    .dataframe tbody tr th:only-of-type {\n",
       "        vertical-align: middle;\n",
       "    }\n",
       "\n",
       "    .dataframe tbody tr th {\n",
       "        vertical-align: top;\n",
       "    }\n",
       "\n",
       "    .dataframe thead th {\n",
       "        text-align: right;\n",
       "    }\n",
       "</style>\n",
       "<table border=\"1\" class=\"dataframe\">\n",
       "  <thead>\n",
       "    <tr style=\"text-align: right;\">\n",
       "      <th></th>\n",
       "      <th>event_type</th>\n",
       "      <th>event_date_time</th>\n",
       "      <th>event_end_date_time</th>\n",
       "    </tr>\n",
       "  </thead>\n",
       "  <tbody>\n",
       "    <tr>\n",
       "      <th>0</th>\n",
       "      <td>signal lost</td>\n",
       "      <td>2021-02-03 00:40:08</td>\n",
       "      <td>2021-02-03 01:14:11</td>\n",
       "    </tr>\n",
       "    <tr>\n",
       "      <th>2</th>\n",
       "      <td>signal lost</td>\n",
       "      <td>2021-02-05 19:14:19</td>\n",
       "      <td>2021-02-05 19:46:29</td>\n",
       "    </tr>\n",
       "    <tr>\n",
       "      <th>4</th>\n",
       "      <td>signal lost</td>\n",
       "      <td>2021-02-06 14:31:34</td>\n",
       "      <td>2021-02-06 14:48:24</td>\n",
       "    </tr>\n",
       "    <tr>\n",
       "      <th>6</th>\n",
       "      <td>signal lost</td>\n",
       "      <td>2021-02-08 04:59:20</td>\n",
       "      <td>2021-02-08 05:38:29</td>\n",
       "    </tr>\n",
       "    <tr>\n",
       "      <th>8</th>\n",
       "      <td>signal lost</td>\n",
       "      <td>2021-02-09 14:21:25</td>\n",
       "      <td>2021-02-09 14:42:22</td>\n",
       "    </tr>\n",
       "  </tbody>\n",
       "</table>\n",
       "</div>"
      ],
      "text/plain": [
       "    event_type     event_date_time event_end_date_time\n",
       "0  signal lost 2021-02-03 00:40:08 2021-02-03 01:14:11\n",
       "2  signal lost 2021-02-05 19:14:19 2021-02-05 19:46:29\n",
       "4  signal lost 2021-02-06 14:31:34 2021-02-06 14:48:24\n",
       "6  signal lost 2021-02-08 04:59:20 2021-02-08 05:38:29\n",
       "8  signal lost 2021-02-09 14:21:25 2021-02-09 14:42:22"
      ]
     },
     "execution_count": 15,
     "metadata": {},
     "output_type": "execute_result"
    }
   ],
   "source": [
    "signal_monitoring = signal_monitoring[signal_monitoring[\"event_type\"] == \"signal lost\"]\n",
    "signal_monitoring.head()"
   ]
  },
  {
   "attachments": {},
   "cell_type": "markdown",
   "metadata": {},
   "source": [
    "Nyní můžeme snadno přidat výpočet délky výpadku signálu."
   ]
  },
  {
   "cell_type": "code",
   "execution_count": 16,
   "metadata": {},
   "outputs": [
    {
     "data": {
      "text/html": [
       "<div>\n",
       "<style scoped>\n",
       "    .dataframe tbody tr th:only-of-type {\n",
       "        vertical-align: middle;\n",
       "    }\n",
       "\n",
       "    .dataframe tbody tr th {\n",
       "        vertical-align: top;\n",
       "    }\n",
       "\n",
       "    .dataframe thead th {\n",
       "        text-align: right;\n",
       "    }\n",
       "</style>\n",
       "<table border=\"1\" class=\"dataframe\">\n",
       "  <thead>\n",
       "    <tr style=\"text-align: right;\">\n",
       "      <th></th>\n",
       "      <th>event_type</th>\n",
       "      <th>event_date_time</th>\n",
       "      <th>event_end_date_time</th>\n",
       "      <th>outage_length</th>\n",
       "    </tr>\n",
       "  </thead>\n",
       "  <tbody>\n",
       "    <tr>\n",
       "      <th>0</th>\n",
       "      <td>signal lost</td>\n",
       "      <td>2021-02-03 00:40:08</td>\n",
       "      <td>2021-02-03 01:14:11</td>\n",
       "      <td>0 days 00:34:03</td>\n",
       "    </tr>\n",
       "    <tr>\n",
       "      <th>2</th>\n",
       "      <td>signal lost</td>\n",
       "      <td>2021-02-05 19:14:19</td>\n",
       "      <td>2021-02-05 19:46:29</td>\n",
       "      <td>0 days 00:32:10</td>\n",
       "    </tr>\n",
       "    <tr>\n",
       "      <th>4</th>\n",
       "      <td>signal lost</td>\n",
       "      <td>2021-02-06 14:31:34</td>\n",
       "      <td>2021-02-06 14:48:24</td>\n",
       "      <td>0 days 00:16:50</td>\n",
       "    </tr>\n",
       "    <tr>\n",
       "      <th>6</th>\n",
       "      <td>signal lost</td>\n",
       "      <td>2021-02-08 04:59:20</td>\n",
       "      <td>2021-02-08 05:38:29</td>\n",
       "      <td>0 days 00:39:09</td>\n",
       "    </tr>\n",
       "    <tr>\n",
       "      <th>8</th>\n",
       "      <td>signal lost</td>\n",
       "      <td>2021-02-09 14:21:25</td>\n",
       "      <td>2021-02-09 14:42:22</td>\n",
       "      <td>0 days 00:20:57</td>\n",
       "    </tr>\n",
       "  </tbody>\n",
       "</table>\n",
       "</div>"
      ],
      "text/plain": [
       "    event_type     event_date_time event_end_date_time   outage_length\n",
       "0  signal lost 2021-02-03 00:40:08 2021-02-03 01:14:11 0 days 00:34:03\n",
       "2  signal lost 2021-02-05 19:14:19 2021-02-05 19:46:29 0 days 00:32:10\n",
       "4  signal lost 2021-02-06 14:31:34 2021-02-06 14:48:24 0 days 00:16:50\n",
       "6  signal lost 2021-02-08 04:59:20 2021-02-08 05:38:29 0 days 00:39:09\n",
       "8  signal lost 2021-02-09 14:21:25 2021-02-09 14:42:22 0 days 00:20:57"
      ]
     },
     "execution_count": 16,
     "metadata": {},
     "output_type": "execute_result"
    }
   ],
   "source": [
    "signal_monitoring[\"outage_length\"] = signal_monitoring[\"event_end_date_time\"] - signal_monitoring[\"event_date_time\"]\n",
    "signal_monitoring.head()"
   ]
  },
  {
   "attachments": {},
   "cell_type": "markdown",
   "metadata": {},
   "source": [
    "Nyní můžeme například vypočítat celkovou délku výpadků signálu v jednotlivých dnech."
   ]
  },
  {
   "cell_type": "code",
   "execution_count": 17,
   "metadata": {},
   "outputs": [
    {
     "data": {
      "text/plain": [
       "event_date_time\n",
       "2021-02-03   0 days 00:34:03\n",
       "2021-02-05   0 days 00:32:10\n",
       "2021-02-06   0 days 00:16:50\n",
       "2021-02-08   0 days 00:39:09\n",
       "2021-02-09   0 days 00:44:38\n",
       "Name: outage_length, dtype: timedelta64[ns]"
      ]
     },
     "execution_count": 17,
     "metadata": {},
     "output_type": "execute_result"
    }
   ],
   "source": [
    "signal_monitoring_grouped = signal_monitoring.groupby(signal_monitoring[\"event_date_time\"].dt.date)[\"outage_length\"].sum()\n",
    "signal_monitoring_grouped.head()"
   ]
  },
  {
   "attachments": {},
   "cell_type": "markdown",
   "metadata": {},
   "source": [
    "Jako poslední krok si ukážeme, jak prezentovat výsledky našeho výpočtu pomocí grafu. Abychom mohli použít sloupcový graf, musíme převést typ `timedelta` na číselnou hodnotu. To zařídíme pomocí vlastnosti `dt.total_seconds`."
   ]
  },
  {
   "cell_type": "code",
   "execution_count": 18,
   "metadata": {},
   "outputs": [
    {
     "data": {
      "text/plain": [
       "<Axes: xlabel='event_date_time'>"
      ]
     },
     "execution_count": 18,
     "metadata": {},
     "output_type": "execute_result"
    },
    {
     "data": {
      "image/png": "[encoded data removed]",
      "text/plain": [
       "<Figure size 640x480 with 1 Axes>"
      ]
     },
     "metadata": {},
     "output_type": "display_data"
    }
   ],
   "source": [
    "signal_monitoring_grouped_seconds = signal_monitoring_grouped.dt.total_seconds()\n",
    "signal_monitoring_grouped_seconds.plot(kind=\"bar\")"
   ]
  },
  {
   "attachments": {},
   "cell_type": "markdown",
   "metadata": {},
   "source": [
    "# Čtení na doma\n",
    "\n",
    "## Odstraňování duplicit\n",
    "\n",
    "Duplicitami obecně myslíme opakující se hodnoty v datech. Duplicity mohou vzniknou v důsledku chyby, například:\n",
    "\n",
    "- program zapíše do databáze nebo do logu stejný údaj dvakrát,\n",
    "- vzniknou při propojení (`merge`) tabulek.\n",
    "\n",
    "V některých případech je duplicitní pouze část sloupc. Uvažujme data o registraci uživatelů ze souboru [user_registration.json](user_registration.json). V některých případech uživatel vyplnil registrační formulář do aplikace, ale nepotvrdil e-mailovou adresu (např. mu e-mail padl do spamu) a tak se uživatel po nějaké době zaregistroval znovu.\n"
   ]
  },
  {
   "cell_type": "code",
   "execution_count": 19,
   "metadata": {},
   "outputs": [
    {
     "data": {
      "text/html": [
       "<div>\n",
       "<style scoped>\n",
       "    .dataframe tbody tr th:only-of-type {\n",
       "        vertical-align: middle;\n",
       "    }\n",
       "\n",
       "    .dataframe tbody tr th {\n",
       "        vertical-align: top;\n",
       "    }\n",
       "\n",
       "    .dataframe thead th {\n",
       "        text-align: right;\n",
       "    }\n",
       "</style>\n",
       "<table border=\"1\" class=\"dataframe\">\n",
       "  <thead>\n",
       "    <tr style=\"text-align: right;\">\n",
       "      <th></th>\n",
       "      <th>date_time</th>\n",
       "      <th>email</th>\n",
       "      <th>ip_address</th>\n",
       "      <th>age_group</th>\n",
       "      <th>marketing_channel</th>\n",
       "    </tr>\n",
       "  </thead>\n",
       "  <tbody>\n",
       "    <tr>\n",
       "      <th>0</th>\n",
       "      <td>2021-03-01 00:02:13.920</td>\n",
       "      <td>qbichler@kabsi.at</td>\n",
       "      <td>168.155.75.206</td>\n",
       "      <td>30-44</td>\n",
       "      <td>Social network</td>\n",
       "    </tr>\n",
       "    <tr>\n",
       "      <th>1</th>\n",
       "      <td>2021-03-01 00:04:27.840</td>\n",
       "      <td>robinkolar@chello.cz</td>\n",
       "      <td>105.132.109.66</td>\n",
       "      <td>18-29</td>\n",
       "      <td>Social network</td>\n",
       "    </tr>\n",
       "    <tr>\n",
       "      <th>2</th>\n",
       "      <td>2021-03-01 00:06:41.760</td>\n",
       "      <td>zvesela@chello.cz</td>\n",
       "      <td>105.46.12.139</td>\n",
       "      <td>60+</td>\n",
       "      <td>Newspapers or magazine</td>\n",
       "    </tr>\n",
       "    <tr>\n",
       "      <th>3</th>\n",
       "      <td>2021-03-01 00:08:55.680</td>\n",
       "      <td>gmaresova@email.cz</td>\n",
       "      <td>141.22.41.210</td>\n",
       "      <td>60+</td>\n",
       "      <td>Newspapers or magazine</td>\n",
       "    </tr>\n",
       "    <tr>\n",
       "      <th>4</th>\n",
       "      <td>2021-03-01 00:11:09.600</td>\n",
       "      <td>qkralova@seznam.cz</td>\n",
       "      <td>196.95.130.168</td>\n",
       "      <td>18-29</td>\n",
       "      <td>Friend's recommendation</td>\n",
       "    </tr>\n",
       "  </tbody>\n",
       "</table>\n",
       "</div>"
      ],
      "text/plain": [
       "                date_time                 email      ip_address age_group   \n",
       "0 2021-03-01 00:02:13.920     qbichler@kabsi.at  168.155.75.206     30-44  \\\n",
       "1 2021-03-01 00:04:27.840  robinkolar@chello.cz  105.132.109.66     18-29   \n",
       "2 2021-03-01 00:06:41.760     zvesela@chello.cz   105.46.12.139       60+   \n",
       "3 2021-03-01 00:08:55.680    gmaresova@email.cz   141.22.41.210       60+   \n",
       "4 2021-03-01 00:11:09.600    qkralova@seznam.cz  196.95.130.168     18-29   \n",
       "\n",
       "         marketing_channel  \n",
       "0           Social network  \n",
       "1           Social network  \n",
       "2   Newspapers or magazine  \n",
       "3   Newspapers or magazine  \n",
       "4  Friend's recommendation  "
      ]
     },
     "execution_count": 19,
     "metadata": {},
     "output_type": "execute_result"
    }
   ],
   "source": [
    "import pandas\n",
    "data = pandas.read_json(\"user_registration.json\")\n",
    "data.head()"
   ]
  },
  {
   "attachments": {},
   "cell_type": "markdown",
   "metadata": {},
   "source": [
    "Zjistíme nyní počet záznamů v souboru."
   ]
  },
  {
   "cell_type": "code",
   "execution_count": 20,
   "metadata": {},
   "outputs": [
    {
     "data": {
      "text/plain": [
       "34398"
      ]
     },
     "execution_count": 20,
     "metadata": {},
     "output_type": "execute_result"
    }
   ],
   "source": [
    "data[\"email\"].unique().shape[0]"
   ]
  },
  {
   "attachments": {},
   "cell_type": "markdown",
   "metadata": {},
   "source": [
    "Pokud budeme chtít seznam unikátních e-mailových adres, můžeme na sérii `email` aplikovat metodu `unique()`."
   ]
  },
  {
   "attachments": {},
   "cell_type": "markdown",
   "metadata": {},
   "source": [
    "Pokud budeme chtít odstranit duplicitní registrace z celé tabulky, můžeme využít metodu `drop_duplicates()`. Ta odebere řádky na základě sloupců definovaých jako parametr `subset`. Pokud parametr nevyplníme, jsou použity všechny sloupce. Dále vybíráme, které řádky chceme ponechat. K tomu slouží parametr `last`. Máme tři možnosti:\n",
    "\n",
    "- ponechat poslední řádek (`last`),\n",
    "- ponechat první řádek (`first`),\n",
    "- neponechat ani jeden z duplicitních řádků (`False`).\n",
    "\n",
    "V našem případě ponecháme poslední řádek. Počet řádků v souboru nyní odpovídá počtu unikátních e-mailových adres, které jsme získali metodou `unique()`."
   ]
  },
  {
   "cell_type": "code",
   "execution_count": 21,
   "metadata": {},
   "outputs": [
    {
     "data": {
      "text/plain": [
       "(34398, 5)"
      ]
     },
     "execution_count": 21,
     "metadata": {},
     "output_type": "execute_result"
    }
   ],
   "source": [
    "data_cleaned = data.drop_duplicates(subset=\"email\", keep=\"last\")\n",
    "data_cleaned.shape"
   ]
  },
  {
   "cell_type": "markdown",
   "metadata": {},
   "source": [
    "### Metoda rank\n",
    "\n",
    "Metoda `rank` \"očísluje\" řádky podle zvoleného sloupce. To se hodí třeba v případě, že chceme zjistit a porovnat pořadí záznamů podle nějakého kritéria. Níže máme načtený dataset Indexu ekonomické svobody\n",
    "(Index of Economic Freedom) z [oficiálního webu](https://www.heritage.org/index/). Index na základě vybraných kritérií vyhodnocuje, nakolik je země ekonomicky svobodná."
   ]
  },
  {
   "cell_type": "code",
   "execution_count": null,
   "metadata": {},
   "outputs": [],
   "source": [
    "import pandas\n",
    "\n",
    "ioef = pandas.read_csv(\"ioef.csv\")\n",
    "ioef.head()"
   ]
  },
  {
   "cell_type": "markdown",
   "metadata": {},
   "source": [
    "Data zobrazují hodnoty od roku 1995 do roku 2021. Začněme tím, že si určíme pořadí země podle celkvého indexu (sloupec `Overall Score`). K tomu využijeme metodu `rank`. Protože ale potřebujeme určit pořadí vždy pro konkrétní rok, přidáme metodu `groupby` podle sloupce `Index Year`. Tím zajistíme, že číslování pro každý rok začne od 1.\n",
    "\n",
    "Musíme též nastavit, aby bylo pořadí udělování sestupně, protože čím vyšší je dosažené skóre, tím výše se země na žebříčku ekonomických svobod nachází. To zařídí parametr `ascending`.\n",
    "\n",
    "Kromě nastavení sloupce má metoda `rank` důležitý parametr `method`. Ta vyřeší případ, že skupina řádků má stejnou hodnotu. Využijeme parametr `dense`, který celé skupině přiřadí hodnotu o 1 vyšší než předchozí skupině. Pro kontrolu si do zvláštní tabulky dáme hodnoty z roku 2023."
   ]
  },
  {
   "cell_type": "code",
   "execution_count": null,
   "metadata": {},
   "outputs": [],
   "source": [
    "ioef[\"Rank\"] = ioef.groupby([\"Index Year\"])[\"Overall Score\"].rank(method=\"min\", ascending=False)\n",
    "ioef_2023 = ioef[ioef[\"Index Year\"] == 2023]\n",
    "ioef_2023.head()"
   ]
  },
  {
   "cell_type": "markdown",
   "metadata": {},
   "source": [
    "Podíváme se nyní na pět států s nejnižším pořadím."
   ]
  },
  {
   "cell_type": "code",
   "execution_count": null,
   "metadata": {},
   "outputs": [],
   "source": [
    "ioef_2023.sort_values([\"Rank\"]).head()"
   ]
  },
  {
   "cell_type": "markdown",
   "metadata": {},
   "source": [
    "Nyní porovnáme, jak se vyvíjelo pořadí České republiky. K tomu využijeme metodu `shift()`, abychom do každého řádku přidali pořadí v předcházejícím roce."
   ]
  },
  {
   "cell_type": "code",
   "execution_count": null,
   "metadata": {},
   "outputs": [],
   "source": [
    "ioef_sorted = ioef.sort_values([\"Name\", \"Index Year\"])\n",
    "ioef_sorted[\"Rank Previous Year\"] = ioef_sorted.groupby([\"Name\"])[\"Rank\"].shift()\n",
    "ioef_sorted.head()"
   ]
  },
  {
   "cell_type": "markdown",
   "metadata": {},
   "source": [
    "Vidíme například, že k největšímu zlepšení došlo v roce 2023 (o 6 příček)"
   ]
  },
  {
   "cell_type": "code",
   "execution_count": null,
   "metadata": {},
   "outputs": [],
   "source": [
    "ioef_sorted[\"Rank Change\"] = ioef_sorted[\"Rank\"] - ioef_sorted[\"Rank Previous Year\"]\n",
    "ioef_sorted_czech = ioef_sorted[ioef_sorted[\"Name\"] == \"Czech Republic\"]\n",
    "ioef_sorted_czech.tail()"
   ]
  },
  {
   "attachments": {},
   "cell_type": "markdown",
   "metadata": {},
   "source": [
    "# Cvičení\n",
    "\n",
    "## Závod\n",
    "\n",
    "Uvažuj časy závodníků za ročníky půlmaratonu 2019 a 2020, které jsou uloženy v souboru [half_marathon.csv](half_marathon.csv). V souboru jsou uloženy pouze časy závodníků, které se zúčastnili obou závodů. V souboru je uloženo jméno závodníka, jeho čas a rok závodu, ke kterému se čas vztahuje. Tvým úkolem je spočítat, o kolik se změnil průměrný čas závodníků a zda se v průměru zlepšili či zhoršili (například protože kvůli lockdownům méně či více trénovali).\n",
    "\n",
    "Můžeš využít následující postup:\n",
    "\n",
    "- Seřaď si data (je třeba seřadit data dle jména závodníka i dle roku závodu).\n",
    "- Převeď sloupec s časem závodníka na typ `datetime`. Můžeš využít stejný postup, jaký jsme si ukázali v lekci. Protože jde pouze o časový údaj, pandas k němu připojí dnešní datum, aby byly ve sloupci datum i čas. Toho si ale nevšímej, u obou sloupců je datum stejný, takže na porovnání údajů to nebude mít vliv.\n",
    "- Pomocí metody `shift()` si dej na jeden řádek výsledky obou závodů. Je nutné ji použít v kombinaci s metodou `groupby()`, jak je vidět níže. Je třeba nahradit `X` vhodně zvoleným číslem.\n",
    "\n",
    "```py\n",
    "df_joined[\"Cas zavodnika 2020\"] = df_joined.groupby(\"Jmeno\")[\"Cas zavodnika\"].shift(X)\n",
    "```\n",
    "\n",
    "- Vyřaď z tabulky neúplné řádky pomocí metody `dropna()`.\n",
    "- Vypočítej rozdíl mezi časy závodníka a převeď ho na sekundy (postup jsme si ukazovali v lekci). Dále spočítej průměrnou změnu. Vyšlo i kladné nebo záporné číslo? A co to znamená.\n",
    "\n",
    "Řešení příkladu je [zde](reseni.ipynb)."
   ]
  },
  {
   "attachments": {},
   "cell_type": "markdown",
   "metadata": {},
   "source": [
    "## Nápověda\n",
    "Po převodu na typ na `datetime` a použití metody `shift()` se dostaneš k výsledku níže. Tento výsledek byl získaný s parametrem -1, tj. hodnoty byly posunuty směrem nahoru. V řádku, kde byl původně čas z roku 2019, uvidíš nyní nově čas z roku 2020, který se posunul nahoru."
   ]
  },
  {
   "cell_type": "code",
   "execution_count": 4,
   "metadata": {},
   "outputs": [
    {
     "data": {
      "text/html": [
       "<div>\n",
       "<style scoped>\n",
       "    .dataframe tbody tr th:only-of-type {\n",
       "        vertical-align: middle;\n",
       "    }\n",
       "\n",
       "    .dataframe tbody tr th {\n",
       "        vertical-align: top;\n",
       "    }\n",
       "\n",
       "    .dataframe thead th {\n",
       "        text-align: right;\n",
       "    }\n",
       "</style>\n",
       "<table border=\"1\" class=\"dataframe\">\n",
       "  <thead>\n",
       "    <tr style=\"text-align: right;\">\n",
       "      <th></th>\n",
       "      <th>Jmeno</th>\n",
       "      <th>Cas zavodnika</th>\n",
       "      <th>Rok zavodu</th>\n",
       "      <th>Cas zavodnika 2020</th>\n",
       "    </tr>\n",
       "  </thead>\n",
       "  <tbody>\n",
       "    <tr>\n",
       "      <th>0</th>\n",
       "      <td>Adamcová Helena</td>\n",
       "      <td>2023-04-20 01:46:07</td>\n",
       "      <td>2019</td>\n",
       "      <td>NaN</td>\n",
       "    </tr>\n",
       "    <tr>\n",
       "      <th>1</th>\n",
       "      <td>Aster Vladimír</td>\n",
       "      <td>2023-04-20 01:53:25</td>\n",
       "      <td>2019</td>\n",
       "      <td>2023-04-20 02:00:19</td>\n",
       "    </tr>\n",
       "    <tr>\n",
       "      <th>2</th>\n",
       "      <td>Aster Vladimír</td>\n",
       "      <td>2023-04-20 02:00:19</td>\n",
       "      <td>2020</td>\n",
       "      <td>NaN</td>\n",
       "    </tr>\n",
       "    <tr>\n",
       "      <th>3</th>\n",
       "      <td>Asterová Jana</td>\n",
       "      <td>2023-04-20 02:16:59</td>\n",
       "      <td>2019</td>\n",
       "      <td>2023-04-20 02:30:01</td>\n",
       "    </tr>\n",
       "    <tr>\n",
       "      <th>4</th>\n",
       "      <td>Asterová Jana</td>\n",
       "      <td>2023-04-20 02:30:01</td>\n",
       "      <td>2020</td>\n",
       "      <td>NaN</td>\n",
       "    </tr>\n",
       "  </tbody>\n",
       "</table>\n",
       "</div>"
      ],
      "text/plain": [
       "             Jmeno        Cas zavodnika  Rok zavodu   Cas zavodnika 2020\n",
       "0  Adamcová Helena  2023-04-20 01:46:07        2019                  NaN\n",
       "1   Aster Vladimír  2023-04-20 01:53:25        2019  2023-04-20 02:00:19\n",
       "2   Aster Vladimír  2023-04-20 02:00:19        2020                  NaN\n",
       "3    Asterová Jana  2023-04-20 02:16:59        2019  2023-04-20 02:30:01\n",
       "4    Asterová Jana  2023-04-20 02:30:01        2020                  NaN"
      ]
     },
     "execution_count": 4,
     "metadata": {},
     "output_type": "execute_result"
    }
   ],
   "source": [
    "import pandas\n",
    "df = pandas.read_csv(\"half_marathon_hint_1.csv\")\n",
    "df.head()"
   ]
  },
  {
   "attachments": {},
   "cell_type": "markdown",
   "metadata": {},
   "source": [
    "Po vypočtení rozdílu by se měl objevit nový sloupec. Znaménko se může lišit, záleží na tom, v jakém pořadí byly sloupce zadány při výpočtu rozdílu."
   ]
  },
  {
   "cell_type": "code",
   "execution_count": 6,
   "metadata": {},
   "outputs": [
    {
     "data": {
      "text/html": [
       "<div>\n",
       "<style scoped>\n",
       "    .dataframe tbody tr th:only-of-type {\n",
       "        vertical-align: middle;\n",
       "    }\n",
       "\n",
       "    .dataframe tbody tr th {\n",
       "        vertical-align: top;\n",
       "    }\n",
       "\n",
       "    .dataframe thead th {\n",
       "        text-align: right;\n",
       "    }\n",
       "</style>\n",
       "<table border=\"1\" class=\"dataframe\">\n",
       "  <thead>\n",
       "    <tr style=\"text-align: right;\">\n",
       "      <th></th>\n",
       "      <th>Jmeno</th>\n",
       "      <th>Cas zavodnika</th>\n",
       "      <th>Rok zavodu</th>\n",
       "      <th>Cas zavodnika 2020</th>\n",
       "      <th>Zmena</th>\n",
       "    </tr>\n",
       "  </thead>\n",
       "  <tbody>\n",
       "    <tr>\n",
       "      <th>0</th>\n",
       "      <td>Aster Vladimír</td>\n",
       "      <td>2023-04-20 01:53:25</td>\n",
       "      <td>2019</td>\n",
       "      <td>2023-04-20 02:00:19</td>\n",
       "      <td>0 days 00:06:54</td>\n",
       "    </tr>\n",
       "    <tr>\n",
       "      <th>1</th>\n",
       "      <td>Asterová Jana</td>\n",
       "      <td>2023-04-20 02:16:59</td>\n",
       "      <td>2019</td>\n",
       "      <td>2023-04-20 02:30:01</td>\n",
       "      <td>0 days 00:13:02</td>\n",
       "    </tr>\n",
       "    <tr>\n",
       "      <th>2</th>\n",
       "      <td>Baborová Anna</td>\n",
       "      <td>2023-04-20 01:58:20</td>\n",
       "      <td>2019</td>\n",
       "      <td>2023-04-20 01:52:25</td>\n",
       "      <td>-1 days +23:54:05</td>\n",
       "    </tr>\n",
       "    <tr>\n",
       "      <th>3</th>\n",
       "      <td>Bambas Jan</td>\n",
       "      <td>2023-04-20 02:02:59</td>\n",
       "      <td>2019</td>\n",
       "      <td>2023-04-20 02:35:39</td>\n",
       "      <td>0 days 00:32:40</td>\n",
       "    </tr>\n",
       "    <tr>\n",
       "      <th>4</th>\n",
       "      <td>Barochovská Andrea</td>\n",
       "      <td>2023-04-20 03:01:25</td>\n",
       "      <td>2019</td>\n",
       "      <td>2023-04-20 02:50:05</td>\n",
       "      <td>-1 days +23:48:40</td>\n",
       "    </tr>\n",
       "  </tbody>\n",
       "</table>\n",
       "</div>"
      ],
      "text/plain": [
       "                Jmeno        Cas zavodnika  Rok zavodu   Cas zavodnika 2020   \n",
       "0      Aster Vladimír  2023-04-20 01:53:25        2019  2023-04-20 02:00:19  \\\n",
       "1       Asterová Jana  2023-04-20 02:16:59        2019  2023-04-20 02:30:01   \n",
       "2       Baborová Anna  2023-04-20 01:58:20        2019  2023-04-20 01:52:25   \n",
       "3          Bambas Jan  2023-04-20 02:02:59        2019  2023-04-20 02:35:39   \n",
       "4  Barochovská Andrea  2023-04-20 03:01:25        2019  2023-04-20 02:50:05   \n",
       "\n",
       "               Zmena  \n",
       "0    0 days 00:06:54  \n",
       "1    0 days 00:13:02  \n",
       "2  -1 days +23:54:05  \n",
       "3    0 days 00:32:40  \n",
       "4  -1 days +23:48:40  "
      ]
     },
     "execution_count": 6,
     "metadata": {},
     "output_type": "execute_result"
    }
   ],
   "source": [
    "df = pandas.read_csv(\"half_marathon_hint_2.csv\")\n",
    "df.head()"
   ]
  },
  {
   "attachments": {},
   "cell_type": "markdown",
   "metadata": {},
   "source": [
    "A po převodu na sekundy by se měly objevit podobné hodnoty jako níže. Pořád platí, že znaménko se může změnit. Doporučuji se vždy podívat na sloupce s časy v obou letech, kde je lépe vidět, jestli se člověk zlepšil nebo zhoršil. Poté je snazší si uvědomit, jestli kladné číslo znamené zlepšení či zhoršení. Zde znamená zhoršení."
   ]
  },
  {
   "cell_type": "code",
   "execution_count": 7,
   "metadata": {},
   "outputs": [
    {
     "data": {
      "text/html": [
       "<div>\n",
       "<style scoped>\n",
       "    .dataframe tbody tr th:only-of-type {\n",
       "        vertical-align: middle;\n",
       "    }\n",
       "\n",
       "    .dataframe tbody tr th {\n",
       "        vertical-align: top;\n",
       "    }\n",
       "\n",
       "    .dataframe thead th {\n",
       "        text-align: right;\n",
       "    }\n",
       "</style>\n",
       "<table border=\"1\" class=\"dataframe\">\n",
       "  <thead>\n",
       "    <tr style=\"text-align: right;\">\n",
       "      <th></th>\n",
       "      <th>Jmeno</th>\n",
       "      <th>Cas zavodnika</th>\n",
       "      <th>Rok zavodu</th>\n",
       "      <th>Cas zavodnika 2020</th>\n",
       "      <th>Zmena</th>\n",
       "    </tr>\n",
       "  </thead>\n",
       "  <tbody>\n",
       "    <tr>\n",
       "      <th>0</th>\n",
       "      <td>Aster Vladimír</td>\n",
       "      <td>2023-04-20 01:53:25</td>\n",
       "      <td>2019</td>\n",
       "      <td>2023-04-20 02:00:19</td>\n",
       "      <td>414.0</td>\n",
       "    </tr>\n",
       "    <tr>\n",
       "      <th>1</th>\n",
       "      <td>Asterová Jana</td>\n",
       "      <td>2023-04-20 02:16:59</td>\n",
       "      <td>2019</td>\n",
       "      <td>2023-04-20 02:30:01</td>\n",
       "      <td>782.0</td>\n",
       "    </tr>\n",
       "    <tr>\n",
       "      <th>2</th>\n",
       "      <td>Baborová Anna</td>\n",
       "      <td>2023-04-20 01:58:20</td>\n",
       "      <td>2019</td>\n",
       "      <td>2023-04-20 01:52:25</td>\n",
       "      <td>-355.0</td>\n",
       "    </tr>\n",
       "    <tr>\n",
       "      <th>3</th>\n",
       "      <td>Bambas Jan</td>\n",
       "      <td>2023-04-20 02:02:59</td>\n",
       "      <td>2019</td>\n",
       "      <td>2023-04-20 02:35:39</td>\n",
       "      <td>1960.0</td>\n",
       "    </tr>\n",
       "    <tr>\n",
       "      <th>4</th>\n",
       "      <td>Barochovská Andrea</td>\n",
       "      <td>2023-04-20 03:01:25</td>\n",
       "      <td>2019</td>\n",
       "      <td>2023-04-20 02:50:05</td>\n",
       "      <td>-680.0</td>\n",
       "    </tr>\n",
       "  </tbody>\n",
       "</table>\n",
       "</div>"
      ],
      "text/plain": [
       "                Jmeno        Cas zavodnika  Rok zavodu   Cas zavodnika 2020   \n",
       "0      Aster Vladimír  2023-04-20 01:53:25        2019  2023-04-20 02:00:19  \\\n",
       "1       Asterová Jana  2023-04-20 02:16:59        2019  2023-04-20 02:30:01   \n",
       "2       Baborová Anna  2023-04-20 01:58:20        2019  2023-04-20 01:52:25   \n",
       "3          Bambas Jan  2023-04-20 02:02:59        2019  2023-04-20 02:35:39   \n",
       "4  Barochovská Andrea  2023-04-20 03:01:25        2019  2023-04-20 02:50:05   \n",
       "\n",
       "    Zmena  \n",
       "0   414.0  \n",
       "1   782.0  \n",
       "2  -355.0  \n",
       "3  1960.0  \n",
       "4  -680.0  "
      ]
     },
     "execution_count": 7,
     "metadata": {},
     "output_type": "execute_result"
    }
   ],
   "source": [
    "df = pandas.read_csv(\"half_marathon_hint_3.csv\")\n",
    "df.head()"
   ]
  },
  {
   "attachments": {},
   "cell_type": "markdown",
   "metadata": {},
   "source": [
    "### Výsledek\n",
    "\n",
    "Mělo by ti vyjít, že průměrná změna je asi 584 sekund. To, jestli je číslo kladné nebo záporné záleží na výpočtu rozdílu. Při výpočtu `df[\"Cas zavodnika 2020\"] - df[\"Cas zavodnika\"]` by číslo mělo být kladné a znamená zhoršení (v roce 2020 závodníci běželi déle, čili se zhoršili). Při výpočtu `df[\"Cas zavodnika\"] - df[\"Cas zavodnika 2020\"]` pak vyjde rozdíl záporný (v roce 2019 běželi závodníci kratší čas, proto došlo ke zhoršení).\n",
    "\n",
    "### Bonus\n",
    "\n",
    "- Rozděl pomocí funkce `cut()` závodníky na ty, kteří se zlepšili a ty, kteří se zhoršili. Jako hranice můžeš využít \"mínus nekonečno\" (`float(\"-inf\")`) a \"plus nekonečno\" (`float(\"inf\")`). Dále pomocí agregace zjisti počty závodníků, kteří se zlepšili a kteří se naopak zhoršili"
   ]
  }
 ],
 "metadata": {
  "kernelspec": {
   "display_name": "venv",
   "language": "python",
   "name": "python3"
  },
  "language_info": {
   "codemirror_mode": {
    "name": "ipython",
    "version": 3
   },
   "file_extension": ".py",
   "mimetype": "text/x-python",
   "name": "python",
   "nbconvert_exporter": "python",
   "pygments_lexer": "ipython3",
   "version": "3.11.2"
  },
  "orig_nbformat": 4
 },
 "nbformat": 4,
 "nbformat_minor": 2
}
