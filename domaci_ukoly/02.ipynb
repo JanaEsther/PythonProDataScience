{
 "cells": [
  {
   "attachments": {},
   "cell_type": "markdown",
   "metadata": {},
   "source": [
    "# Úkol 2\n",
    "\n",
    "\n",
    "**Hypotézy a odpovědi na otázky, které jsou součástí zadání, prosím piš jako text v Jupyter notebooku nebo jako komentář ke zdrojovému kódu. Komentáře stačí stručné, nechceme článek, ale jde jen o to, abychom věděli, že je látka jasná.**"
   ]
  },
  {
   "attachments": {},
   "cell_type": "markdown",
   "metadata": {},
   "source": [
    "## Nápovědy\n",
    "\n",
    "Nápovědy obsahují pouze čísla, chybí formulace hypotéz a interpretace výsledků.\n",
    "\n",
    "### Inflace\n",
    "\n",
    "Nejprve si ukážeme výsledky pro všechny státy v průzkumu (tj. i státy mimo EU).\n",
    "\n",
    "Výsledky testů normality jsou:\n",
    "\n",
    "```py\n",
    "ShapiroResult(statistic=0.9803104996681213, pvalue=0.687289297580719)\n",
    "ShapiroResult(statistic=0.9694532752037048, pvalue=0.33090925216674805)\n",
    "```\n",
    "\n",
    "Čísla nemusíš mít úplně stejná, můžou tam být drobné rozdíly.\n",
    "\n",
    "Výsledek testu, který porovnává závažnost inflace v daných obdobích, je:\n",
    "\n",
    "```py\n",
    "(statistic=3.868878598419143, pvalue=0.0003938172257904746, df=40)\n",
    "```\n",
    "\n",
    "V závislosti na výsledků testů normality můžeš použít testy na porovnání průměrů a testy na porovnání statistického rozdělení. Název testu jsem schoval, na ten musíš přijít sám/sama. Pozor na to, že v části `statistics` můžeš mít výsledek **s opačným znaménkem**. Záleží na tom, v jakém pořadím vložíš sloupce do funkce. p-hodnota ale bude stejná, tj. na pořadí nezáleží.\n",
    "\n",
    "Níže jsou pak výsledky, pokud uvažujeme pouze státy EU (opět je schován název testu):\n",
    "\n",
    "```py\n",
    "ShapiroResult(statistic=0.9399222135543823, pvalue=0.12131019681692123)\n",
    "ShapiroResult(statistic=0.952153205871582, pvalue=0.24169494211673737)\n",
    "(statistic=3.4869444202944764, pvalue=0.0017533857526091583, df=26)\n",
    "```\n",
    "\n",
    "## Důvěra ve stát a v EU\n",
    "\n",
    "V této části už je jen jedna varianta - uvažujeme pouze státy EU. Výsledky testu normality jsou níže:\n",
    "\n",
    "```py\n",
    "ShapiroResult(statistic=0.9438267350196838, pvalue=0.15140558779239655)\n",
    "ShapiroResult(statistic=0.9735807180404663, pvalue=0.6981646418571472)\n",
    "```\n",
    "\n",
    "Níže je pak výsledek testu korelace. Název testu je opět schován.\n",
    "\n",
    "```py\n",
    "(statistic=0.6097186340024556, pvalue=0.0007345896228823406)\n",
    "```\n",
    "\n",
    "## Důvěra v EU a euro\n",
    "\n",
    "Test normality nyní neděláme a testujeme rovnou hypotézu rozdílné pohledy na EU v obou skupinách zemí.\n",
    "\n",
    "```py\n",
    "(statistic=-0.33471431258258433, pvalue=0.7406326832748829)\n",
    "```\n",
    "\n",
    "V závislosti na výsledků testů normality můžeš použít testy na porovnání průměrů a testy na porovnání statistického rozdělení. Pozor na to, že v části `statistics` můžeš mít výsledek **s opačným znaménkem**. Záleží na tom, v jakém pořadím vložíš sloupce do funkce. p-hodnota ale bude stejná, tj. na pořadí nezáleží."
   ]
  }
 ],
 "metadata": {
  "language_info": {
   "name": "python"
  },
  "orig_nbformat": 4
 },
 "nbformat": 4,
 "nbformat_minor": 2
}
