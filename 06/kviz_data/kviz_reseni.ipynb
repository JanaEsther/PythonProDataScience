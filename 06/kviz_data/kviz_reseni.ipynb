{
 "cells": [
  {
   "cell_type": "code",
   "execution_count": 5,
   "metadata": {},
   "outputs": [],
   "source": [
    "import numpy as np\n",
    "import pandas as pd\n",
    "from sklearn.preprocessing import OneHotEncoder\n",
    "from sklearn.model_selection import train_test_split\n",
    "from sklearn.preprocessing import StandardScaler\n",
    "from sklearn.metrics import ConfusionMatrixDisplay\n",
    "\n",
    "data = pd.read_csv(\"bodyPerformance.csv\")\n",
    "\n",
    "y = data[\"class\"]\n",
    "categorical_columns = [\"gender\"]\n",
    "numeric_columns = [\"age\", \"height_cm\", \"weight_kg\", \"body fat_%\", \"diastolic\", \"systolic\", \"gripForce\"]\n",
    "\n",
    "scaler = StandardScaler()\n",
    "numeric_data = scaler.fit_transform(data[numeric_columns])\n",
    "\n",
    "encoder = OneHotEncoder()\n",
    "encoded_columns = encoder.fit_transform(data[categorical_columns])\n",
    "encoded_columns = encoded_columns.toarray()\n",
    "\n",
    "X = np.concatenate([encoded_columns, numeric_data], axis=1)\n",
    "\n",
    "X_train, X_test, y_train, y_test = train_test_split(X, y, test_size=0.3, random_state=42)"
   ]
  },
  {
   "cell_type": "markdown",
   "metadata": {},
   "source": [
    "# Řešení kvízu z osmé lekce\n",
    "\n",
    "## Část 1\n",
    "\n",
    "### Otázka 1\n",
    "\n",
    "Pomocí několika vět stručně popiš, jak funguje algoritmus Support Vector Machine.\n",
    "\n",
    "*Pomocí algoritmu můžeme rozdělit hodnoty vstupních proměnných do pozitivní a negativní nadroviny. Algoritmus je založený na vzdálenosti v nějakém prostoru.*\n",
    "\n",
    "### Otázka 2\n",
    "\n",
    "V rámci lekce jsme si říkali o dvou typech v závislosti na tom, jestli jsou v každé části rozděleného prostoru hodnoty pouze z jedné skupiny. Napiš, jak se označuje typ marginu na obrázku níže.\n",
    "\n",
    "![picture_1.png](picture_1.png)\n",
    "\n",
    "*soft margin*\n",
    "\n",
    "## Část 2\n",
    "\n",
    "Pro druhou část si stáhni data ze souboru o fyzické kondici, která byla změřená jihokorejskou organizací Korea Sports Promotion Foundation. Data obsahují různé vstupní hodnoty a výstupní hodnotu, kterou je zařazení jedince do jedné ze čtyř výkonnostních tříd.\n",
    "\n",
    "- age = věk (20 až 64 let),\n",
    "- gender = pohlaví (F, M),\n",
    "- height_cm = výška v cm,\n",
    "- weight_kg = hmotnost v kg,\n",
    "- body_fat_% = tělesný tuk v procentech,\n",
    "- distolic = diastolický krevní tlak (min),\n",
    "- systolic = systolický krevní tlak (min),\n",
    "- gripForce = síla stisku,\n",
    "- sit and bend forward_cm = sed a předklon v cm,\n",
    "- sit-ups counts = počty sedů-lehů,\n",
    "- broad jump_cm = skok do dálky v cm,\n",
    "- class  = třída fyzické výkonnosti (4 třídy, A je nejlepší a D nejhorší).\n",
    "\n",
    "Dále si otevři Jupyter notebook kviz.ipynb a překopíruj si kód k sobě.\n",
    "\n",
    "### Otázka 3\n",
    "\n",
    "Chceme data klasifikovat do čtyř různých skupin. Které z následujících tvrzení je pravdivé?\n",
    "\n",
    "*Algoritmus K Nearest Neighbors bude řešit takovou úlohu přímo, tj. stejným způsobem, jako by řešil rozdělení do dvou skupin.*\n",
    "\n",
    "### Otázka 4\n",
    "\n",
    "Chceme data klasifikovat do čtyř různých skupin. Které z následujících tvrzení je pravdivé?\n",
    "\n",
    "*Algoritmus Support Vector Machine  bude řešit takovou úlohu nepřímo, tj. převede si úlohu na řešení několika úloh s binární klasifikací*\n",
    "\n",
    "### Otázka 5\n",
    "\n",
    "Pokud nějaký algoritmus neřeší klasifikační úlohu přímo, může využít jednu ze dvou strategií, které jsme si ukazovali v lekci. Strategie One-to-One vytvoří klasifikátor pro každou dvojici tříd, pro které klasifikaci provádíme. Jak se nazývá druhá strategie, kterou jsme si popisovali?\n",
    "\n",
    "*one-to-rest*\n",
    "\n",
    "### Otázka 6\n",
    "\n",
    "Napiš kód, který bude klasifikovat člověka na základě vstupních hodnot do jedné ze čtyř tříd fyzické výkonnosti. Využij algoritmus SVM a strategii One-to-One."
   ]
  },
  {
   "cell_type": "code",
   "execution_count": 6,
   "metadata": {},
   "outputs": [],
   "source": [
    "from sklearn.svm import LinearSVC, SVC\n",
    "clf = SVC(kernel = \"linear\", decision_function_shape=\"ovo\", random_state=42)\n",
    "clf.fit(X_train, y_train)\n",
    "y_pred = clf.predict(X_test)"
   ]
  },
  {
   "cell_type": "markdown",
   "metadata": {},
   "source": [
    "### Otázka 7\n",
    "\n",
    "Vytvoř si matici záměn a zjisti z ní, kolik lidí, kteří ve skutečnosti patří do skupiny A, bylo zařazeno do skupiny B."
   ]
  },
  {
   "cell_type": "code",
   "execution_count": 7,
   "metadata": {},
   "outputs": [
    {
     "data": {
      "text/plain": [
       "<sklearn.metrics._plot.confusion_matrix.ConfusionMatrixDisplay at 0x14c16e5b0>"
      ]
     },
     "execution_count": 7,
     "metadata": {},
     "output_type": "execute_result"
    },
    {
     "data": {
      "image/png": "[encoded data removed]",
      "text/plain": [
       "<Figure size 640x480 with 2 Axes>"
      ]
     },
     "metadata": {},
     "output_type": "display_data"
    }
   ],
   "source": [
    "ConfusionMatrixDisplay.from_estimator(clf,X_test, y_test)"
   ]
  },
  {
   "cell_type": "markdown",
   "metadata": {},
   "source": [
    "*187*"
   ]
  },
  {
   "cell_type": "markdown",
   "metadata": {},
   "source": [
    "### Otázka 8\n",
    "\n",
    "Nyní napiš kód, který bude využívat algoritmus KNN pro klasifikaci dat. Pomocí GridSearchCV najdi ideální hodnotu počtu uvažovaných \"sousedů\". Pro optimalizaci využij metriku Accuracy. Uvažuj všechny hodnoty mezi 1 a 30 (tj. nikoli pouze sudé hodnoty)."
   ]
  },
  {
   "cell_type": "code",
   "execution_count": 8,
   "metadata": {},
   "outputs": [
    {
     "data": {
      "text/html": [
       "<style>#sk-container-id-1 {color: black;}#sk-container-id-1 pre{padding: 0;}#sk-container-id-1 div.sk-toggleable {background-color: white;}#sk-container-id-1 label.sk-toggleable__label {cursor: pointer;display: block;width: 100%;margin-bottom: 0;padding: 0.3em;box-sizing: border-box;text-align: center;}#sk-container-id-1 label.sk-toggleable__label-arrow:before {content: \"▸\";float: left;margin-right: 0.25em;color: #696969;}#sk-container-id-1 label.sk-toggleable__label-arrow:hover:before {color: black;}#sk-container-id-1 div.sk-estimator:hover label.sk-toggleable__label-arrow:before {color: black;}#sk-container-id-1 div.sk-toggleable__content {max-height: 0;max-width: 0;overflow: hidden;text-align: left;background-color: #f0f8ff;}#sk-container-id-1 div.sk-toggleable__content pre {margin: 0.2em;color: black;border-radius: 0.25em;background-color: #f0f8ff;}#sk-container-id-1 input.sk-toggleable__control:checked~div.sk-toggleable__content {max-height: 200px;max-width: 100%;overflow: auto;}#sk-container-id-1 input.sk-toggleable__control:checked~label.sk-toggleable__label-arrow:before {content: \"▾\";}#sk-container-id-1 div.sk-estimator input.sk-toggleable__control:checked~label.sk-toggleable__label {background-color: #d4ebff;}#sk-container-id-1 div.sk-label input.sk-toggleable__control:checked~label.sk-toggleable__label {background-color: #d4ebff;}#sk-container-id-1 input.sk-hidden--visually {border: 0;clip: rect(1px 1px 1px 1px);clip: rect(1px, 1px, 1px, 1px);height: 1px;margin: -1px;overflow: hidden;padding: 0;position: absolute;width: 1px;}#sk-container-id-1 div.sk-estimator {font-family: monospace;background-color: #f0f8ff;border: 1px dotted black;border-radius: 0.25em;box-sizing: border-box;margin-bottom: 0.5em;}#sk-container-id-1 div.sk-estimator:hover {background-color: #d4ebff;}#sk-container-id-1 div.sk-parallel-item::after {content: \"\";width: 100%;border-bottom: 1px solid gray;flex-grow: 1;}#sk-container-id-1 div.sk-label:hover label.sk-toggleable__label {background-color: #d4ebff;}#sk-container-id-1 div.sk-serial::before {content: \"\";position: absolute;border-left: 1px solid gray;box-sizing: border-box;top: 0;bottom: 0;left: 50%;z-index: 0;}#sk-container-id-1 div.sk-serial {display: flex;flex-direction: column;align-items: center;background-color: white;padding-right: 0.2em;padding-left: 0.2em;position: relative;}#sk-container-id-1 div.sk-item {position: relative;z-index: 1;}#sk-container-id-1 div.sk-parallel {display: flex;align-items: stretch;justify-content: center;background-color: white;position: relative;}#sk-container-id-1 div.sk-item::before, #sk-container-id-1 div.sk-parallel-item::before {content: \"\";position: absolute;border-left: 1px solid gray;box-sizing: border-box;top: 0;bottom: 0;left: 50%;z-index: -1;}#sk-container-id-1 div.sk-parallel-item {display: flex;flex-direction: column;z-index: 1;position: relative;background-color: white;}#sk-container-id-1 div.sk-parallel-item:first-child::after {align-self: flex-end;width: 50%;}#sk-container-id-1 div.sk-parallel-item:last-child::after {align-self: flex-start;width: 50%;}#sk-container-id-1 div.sk-parallel-item:only-child::after {width: 0;}#sk-container-id-1 div.sk-dashed-wrapped {border: 1px dashed gray;margin: 0 0.4em 0.5em 0.4em;box-sizing: border-box;padding-bottom: 0.4em;background-color: white;}#sk-container-id-1 div.sk-label label {font-family: monospace;font-weight: bold;display: inline-block;line-height: 1.2em;}#sk-container-id-1 div.sk-label-container {text-align: center;}#sk-container-id-1 div.sk-container {/* jupyter's `normalize.less` sets `[hidden] { display: none; }` but bootstrap.min.css set `[hidden] { display: none !important; }` so we also need the `!important` here to be able to override the default hidden behavior on the sphinx rendered scikit-learn.org. See: https://github.com/scikit-learn/scikit-learn/issues/21755 */display: inline-block !important;position: relative;}#sk-container-id-1 div.sk-text-repr-fallback {display: none;}</style><div id=\"sk-container-id-1\" class=\"sk-top-container\"><div class=\"sk-text-repr-fallback\"><pre>GridSearchCV(estimator=KNeighborsClassifier(),\n",
       "             param_grid={&#x27;n_neighbors&#x27;: range(1, 30)}, scoring=&#x27;accuracy&#x27;)</pre><b>In a Jupyter environment, please rerun this cell to show the HTML representation or trust the notebook. <br />On GitHub, the HTML representation is unable to render, please try loading this page with nbviewer.org.</b></div><div class=\"sk-container\" hidden><div class=\"sk-item sk-dashed-wrapped\"><div class=\"sk-label-container\"><div class=\"sk-label sk-toggleable\"><input class=\"sk-toggleable__control sk-hidden--visually\" id=\"sk-estimator-id-1\" type=\"checkbox\" ><label for=\"sk-estimator-id-1\" class=\"sk-toggleable__label sk-toggleable__label-arrow\">GridSearchCV</label><div class=\"sk-toggleable__content\"><pre>GridSearchCV(estimator=KNeighborsClassifier(),\n",
       "             param_grid={&#x27;n_neighbors&#x27;: range(1, 30)}, scoring=&#x27;accuracy&#x27;)</pre></div></div></div><div class=\"sk-parallel\"><div class=\"sk-parallel-item\"><div class=\"sk-item\"><div class=\"sk-label-container\"><div class=\"sk-label sk-toggleable\"><input class=\"sk-toggleable__control sk-hidden--visually\" id=\"sk-estimator-id-2\" type=\"checkbox\" ><label for=\"sk-estimator-id-2\" class=\"sk-toggleable__label sk-toggleable__label-arrow\">estimator: KNeighborsClassifier</label><div class=\"sk-toggleable__content\"><pre>KNeighborsClassifier()</pre></div></div></div><div class=\"sk-serial\"><div class=\"sk-item\"><div class=\"sk-estimator sk-toggleable\"><input class=\"sk-toggleable__control sk-hidden--visually\" id=\"sk-estimator-id-3\" type=\"checkbox\" ><label for=\"sk-estimator-id-3\" class=\"sk-toggleable__label sk-toggleable__label-arrow\">KNeighborsClassifier</label><div class=\"sk-toggleable__content\"><pre>KNeighborsClassifier()</pre></div></div></div></div></div></div></div></div></div></div>"
      ],
      "text/plain": [
       "GridSearchCV(estimator=KNeighborsClassifier(),\n",
       "             param_grid={'n_neighbors': range(1, 30)}, scoring='accuracy')"
      ]
     },
     "execution_count": 8,
     "metadata": {},
     "output_type": "execute_result"
    }
   ],
   "source": [
    "from sklearn.neighbors import KNeighborsClassifier    \n",
    "from sklearn.model_selection import GridSearchCV    \n",
    "model=KNeighborsClassifier()\n",
    "params={\"n_neighbors\": range(1,30)}    \n",
    "scaler=StandardScaler()\n",
    "X_fit=scaler.fit_transform(X)\n",
    "clf=GridSearchCV(model,params,scoring=\"accuracy\")\n",
    "clf.fit(X_fit, y)"
   ]
  },
  {
   "cell_type": "markdown",
   "metadata": {},
   "source": [
    "### Otázka 9\n",
    "\n",
    "Jakou hodnotu metriky Accuracy našel GridSearchCV?"
   ]
  },
  {
   "cell_type": "code",
   "execution_count": 9,
   "metadata": {},
   "outputs": [
    {
     "data": {
      "text/plain": [
       "0.4498612420170602"
      ]
     },
     "execution_count": 9,
     "metadata": {},
     "output_type": "execute_result"
    }
   ],
   "source": [
    "clf.best_score_"
   ]
  },
  {
   "cell_type": "markdown",
   "metadata": {},
   "source": [
    "### Otázka 10\n",
    "\n",
    "Jaký počet sousedů je podle GridSearchCV ideální pro hodnotu metriky Accuracy?"
   ]
  },
  {
   "cell_type": "code",
   "execution_count": 10,
   "metadata": {},
   "outputs": [
    {
     "data": {
      "text/plain": [
       "{'n_neighbors': 29}"
      ]
     },
     "execution_count": 10,
     "metadata": {},
     "output_type": "execute_result"
    }
   ],
   "source": [
    "clf.best_params_"
   ]
  },
  {
   "cell_type": "markdown",
   "metadata": {},
   "source": [
    "## Část 3\n",
    "\n",
    "### Otázka 11\n",
    "\n",
    "Podívej se na obrázek níže, který obsahuje červený margin, který odděluje dvě skupiny trénovacích dat. Který margin podle tebe ilustruje problém označovaný jako overtiffting?\n",
    "\n",
    "Po si nejsi jistý/jistá, podívej se do článku, ze kterého obrázek pochází.\n",
    "\n",
    "![overfitting.png](overfitting.png)\n",
    "\n",
    "*vpravo*\n",
    "\n",
    "### Otázka 12\n",
    "\n",
    "Čím podle tebe pomáhá GridSearchCV omezit problém s overfitting?\n",
    "\n",
    "*Provádí více rozdělení na testovací a trénovací data, takže optimální hodnota parametru není závislá na jednom rozdělení dat na trénovací a testovací.*"
   ]
  }
 ],
 "metadata": {
  "kernelspec": {
   "display_name": "env",
   "language": "python",
   "name": "python3"
  },
  "language_info": {
   "codemirror_mode": {
    "name": "ipython",
    "version": 3
   },
   "file_extension": ".py",
   "mimetype": "text/x-python",
   "name": "python",
   "nbconvert_exporter": "python",
   "pygments_lexer": "ipython3",
   "version": "3.9.6"
  }
 },
 "nbformat": 4,
 "nbformat_minor": 2
}
