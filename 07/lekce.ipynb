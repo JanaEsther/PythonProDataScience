{
 "cells": [
  {
   "attachments": {},
   "cell_type": "markdown",
   "metadata": {},
   "source": []
  },
  {
   "attachments": {},
   "cell_type": "markdown",
   "metadata": {},
   "source": [
    "Jak ale program na tyto koeficienty přišel?\n",
    "\n",
    "Přidejme si do tabulky `data` dva sloupce:\n",
    "\n",
    "- `fittedvalues` (vyrovnané hodnoty) jsou hodnoty odhadované modelem, tj. cena domu, kterou by predikoval náš model na základě jeho velikosti,\n",
    "- `resid` (rezidua) je rozdíl mezi skutečnou cenou domu a predikovanou cenou.\n",
    "\n",
    "Regrese funguje na principu minimalizace druhé mocniny součtu reziduí. Tj. vypočtené koeficienti minimalizují druhou mocninu součtu reziduí."
   ]
  },
  {
   "cell_type": "code",
   "execution_count": 233,
   "metadata": {},
   "outputs": [
    {
     "data": {
      "text/html": [
       "<div>\n",
       "<style scoped>\n",
       "    .dataframe tbody tr th:only-of-type {\n",
       "        vertical-align: middle;\n",
       "    }\n",
       "\n",
       "    .dataframe tbody tr th {\n",
       "        vertical-align: top;\n",
       "    }\n",
       "\n",
       "    .dataframe thead th {\n",
       "        text-align: right;\n",
       "    }\n",
       "</style>\n",
       "<table border=\"1\" class=\"dataframe\">\n",
       "  <thead>\n",
       "    <tr style=\"text-align: right;\">\n",
       "      <th></th>\n",
       "      <th>GrLivArea</th>\n",
       "      <th>SalePrice</th>\n",
       "      <th>predictions</th>\n",
       "      <th>residuals</th>\n",
       "    </tr>\n",
       "  </thead>\n",
       "  <tbody>\n",
       "    <tr>\n",
       "      <th>0</th>\n",
       "      <td>1710</td>\n",
       "      <td>208500</td>\n",
       "      <td>197305.936099</td>\n",
       "      <td>11194.063901</td>\n",
       "    </tr>\n",
       "    <tr>\n",
       "      <th>1</th>\n",
       "      <td>1262</td>\n",
       "      <td>181500</td>\n",
       "      <td>153240.661054</td>\n",
       "      <td>28259.338946</td>\n",
       "    </tr>\n",
       "    <tr>\n",
       "      <th>2</th>\n",
       "      <td>1786</td>\n",
       "      <td>223500</td>\n",
       "      <td>204781.295259</td>\n",
       "      <td>18718.704741</td>\n",
       "    </tr>\n",
       "    <tr>\n",
       "      <th>3</th>\n",
       "      <td>1717</td>\n",
       "      <td>140000</td>\n",
       "      <td>197994.456022</td>\n",
       "      <td>-57994.456022</td>\n",
       "    </tr>\n",
       "    <tr>\n",
       "      <th>4</th>\n",
       "      <td>2198</td>\n",
       "      <td>250000</td>\n",
       "      <td>245305.610702</td>\n",
       "      <td>4694.389298</td>\n",
       "    </tr>\n",
       "    <tr>\n",
       "      <th>...</th>\n",
       "      <td>...</td>\n",
       "      <td>...</td>\n",
       "      <td>...</td>\n",
       "      <td>...</td>\n",
       "    </tr>\n",
       "    <tr>\n",
       "      <th>1451</th>\n",
       "      <td>1647</td>\n",
       "      <td>175000</td>\n",
       "      <td>191109.256796</td>\n",
       "      <td>-16109.256796</td>\n",
       "    </tr>\n",
       "    <tr>\n",
       "      <th>1452</th>\n",
       "      <td>2073</td>\n",
       "      <td>210000</td>\n",
       "      <td>233010.612085</td>\n",
       "      <td>-23010.612085</td>\n",
       "    </tr>\n",
       "    <tr>\n",
       "      <th>1453</th>\n",
       "      <td>2340</td>\n",
       "      <td>266500</td>\n",
       "      <td>259272.729132</td>\n",
       "      <td>7227.270868</td>\n",
       "    </tr>\n",
       "    <tr>\n",
       "      <th>1454</th>\n",
       "      <td>1078</td>\n",
       "      <td>142125</td>\n",
       "      <td>135142.423089</td>\n",
       "      <td>6982.576911</td>\n",
       "    </tr>\n",
       "    <tr>\n",
       "      <th>1455</th>\n",
       "      <td>1256</td>\n",
       "      <td>147500</td>\n",
       "      <td>152650.501121</td>\n",
       "      <td>-5150.501121</td>\n",
       "    </tr>\n",
       "  </tbody>\n",
       "</table>\n",
       "<p>1434 rows × 4 columns</p>\n",
       "</div>"
      ],
      "text/plain": [
       "      GrLivArea  SalePrice    predictions     residuals\n",
       "0          1710     208500  197305.936099  11194.063901\n",
       "1          1262     181500  153240.661054  28259.338946\n",
       "2          1786     223500  204781.295259  18718.704741\n",
       "3          1717     140000  197994.456022 -57994.456022\n",
       "4          2198     250000  245305.610702   4694.389298\n",
       "...         ...        ...            ...           ...\n",
       "1451       1647     175000  191109.256796 -16109.256796\n",
       "1452       2073     210000  233010.612085 -23010.612085\n",
       "1453       2340     266500  259272.729132   7227.270868\n",
       "1454       1078     142125  135142.423089   6982.576911\n",
       "1455       1256     147500  152650.501121  -5150.501121\n",
       "\n",
       "[1434 rows x 4 columns]"
      ]
     },
     "execution_count": 233,
     "metadata": {},
     "output_type": "execute_result"
    }
   ],
   "source": [
    "data[\"residuals\"] = res.resid\n",
    "data[\"predictions\"] = res.fittedvalues\n",
    "data[[\"GrLivArea\", \"SalePrice\", \"predictions\", \"residuals\"]]"
   ]
  },
  {
   "attachments": {},
   "cell_type": "markdown",
   "metadata": {},
   "source": [
    "Pro regresi je dále důležité, aby rezidua měla normální rozdělení. Pro testování normality je možné využít standardní testy, modul `statsmodels` nám nabízí výsledky dvou testů: Omnibus testu a Jarque-Bera testu. Oba fungují na základě tvaru distribuční funice - šikmosti (jak moc je hustota symetrická) a špičatosti (jak rychle hustota od středu klesá). Poskytnuté p-hodnoty (ty jsou vždy označené jako `Prob.`) jsou v obou případech menší než 0.05, zamítáme tedy hypotézu normality reziduí."
   ]
  },
  {
   "cell_type": "code",
   "execution_count": 234,
   "metadata": {},
   "outputs": [
    {
     "data": {
      "text/plain": [
       "<Axes: ylabel='Density'>"
      ]
     },
     "execution_count": 234,
     "metadata": {},
     "output_type": "execute_result"
    },
    {
     "data": {
      "image/png": "[encoded data removed]",
      "text/plain": [
       "<Figure size 640x480 with 1 Axes>"
      ]
     },
     "metadata": {},
     "output_type": "display_data"
    }
   ],
   "source": [
    "data[\"residuals\"].plot.kde()"
   ]
  },
  {
   "cell_type": "code",
   "execution_count": 235,
   "metadata": {},
   "outputs": [
    {
     "data": {
      "text/plain": [
       "<Axes: ylabel='Count'>"
      ]
     },
     "execution_count": 235,
     "metadata": {},
     "output_type": "execute_result"
    },
    {
     "data": {
      "image/png": "[encoded data removed]",
      "text/plain": [
       "<Figure size 640x480 with 1 Axes>"
      ]
     },
     "metadata": {},
     "output_type": "display_data"
    }
   ],
   "source": [
    "import seaborn\n",
    "seaborn.histplot(res.resid, kde=True)"
   ]
  },
  {
   "attachments": {},
   "cell_type": "markdown",
   "metadata": {},
   "source": [
    "Pokud rezidua nejsou normální, můžeme zkusit provést úpravu vysvětlované proměnné. Takovou úpravu nazýváme transformací. Existuje řada transformací, můžeme vyzkoušet například logaritmickou transformaci. V takovém případě nahradíme původní ceny logaritmy cen.\n",
    "\n",
    "Více o logaritmické transformaci se dozvíš ve videu [zde](https://youtu.be/1DON1XgYM4A)."
   ]
  },
  {
   "cell_type": "code",
   "execution_count": 236,
   "metadata": {},
   "outputs": [
    {
     "data": {
      "text/html": [
       "<div>\n",
       "<style scoped>\n",
       "    .dataframe tbody tr th:only-of-type {\n",
       "        vertical-align: middle;\n",
       "    }\n",
       "\n",
       "    .dataframe tbody tr th {\n",
       "        vertical-align: top;\n",
       "    }\n",
       "\n",
       "    .dataframe thead th {\n",
       "        text-align: right;\n",
       "    }\n",
       "</style>\n",
       "<table border=\"1\" class=\"dataframe\">\n",
       "  <thead>\n",
       "    <tr style=\"text-align: right;\">\n",
       "      <th></th>\n",
       "      <th>SalePrice</th>\n",
       "      <th>lnSalePrice</th>\n",
       "    </tr>\n",
       "  </thead>\n",
       "  <tbody>\n",
       "    <tr>\n",
       "      <th>0</th>\n",
       "      <td>208500</td>\n",
       "      <td>12.247694</td>\n",
       "    </tr>\n",
       "    <tr>\n",
       "      <th>1</th>\n",
       "      <td>181500</td>\n",
       "      <td>12.109011</td>\n",
       "    </tr>\n",
       "    <tr>\n",
       "      <th>2</th>\n",
       "      <td>223500</td>\n",
       "      <td>12.317167</td>\n",
       "    </tr>\n",
       "    <tr>\n",
       "      <th>3</th>\n",
       "      <td>140000</td>\n",
       "      <td>11.849398</td>\n",
       "    </tr>\n",
       "    <tr>\n",
       "      <th>4</th>\n",
       "      <td>250000</td>\n",
       "      <td>12.429216</td>\n",
       "    </tr>\n",
       "    <tr>\n",
       "      <th>...</th>\n",
       "      <td>...</td>\n",
       "      <td>...</td>\n",
       "    </tr>\n",
       "    <tr>\n",
       "      <th>1451</th>\n",
       "      <td>175000</td>\n",
       "      <td>12.072541</td>\n",
       "    </tr>\n",
       "    <tr>\n",
       "      <th>1452</th>\n",
       "      <td>210000</td>\n",
       "      <td>12.254863</td>\n",
       "    </tr>\n",
       "    <tr>\n",
       "      <th>1453</th>\n",
       "      <td>266500</td>\n",
       "      <td>12.493130</td>\n",
       "    </tr>\n",
       "    <tr>\n",
       "      <th>1454</th>\n",
       "      <td>142125</td>\n",
       "      <td>11.864462</td>\n",
       "    </tr>\n",
       "    <tr>\n",
       "      <th>1455</th>\n",
       "      <td>147500</td>\n",
       "      <td>11.901583</td>\n",
       "    </tr>\n",
       "  </tbody>\n",
       "</table>\n",
       "<p>1456 rows × 2 columns</p>\n",
       "</div>"
      ],
      "text/plain": [
       "      SalePrice  lnSalePrice\n",
       "0        208500    12.247694\n",
       "1        181500    12.109011\n",
       "2        223500    12.317167\n",
       "3        140000    11.849398\n",
       "4        250000    12.429216\n",
       "...         ...          ...\n",
       "1451     175000    12.072541\n",
       "1452     210000    12.254863\n",
       "1453     266500    12.493130\n",
       "1454     142125    11.864462\n",
       "1455     147500    11.901583\n",
       "\n",
       "[1456 rows x 2 columns]"
      ]
     },
     "execution_count": 236,
     "metadata": {},
     "output_type": "execute_result"
    }
   ],
   "source": [
    "import numpy\n",
    "\n",
    "data = pandas.read_csv(\"house_prices.csv\")\n",
    "\n",
    "data[\"lnSalePrice\"] = numpy.log(data[\"SalePrice\"])\n",
    "data[[\"SalePrice\", \"lnSalePrice\"]]"
   ]
  },
  {
   "attachments": {},
   "cell_type": "markdown",
   "metadata": {},
   "source": [
    "Spočítáme nyní model znovu."
   ]
  },
  {
   "cell_type": "code",
   "execution_count": 237,
   "metadata": {},
   "outputs": [
    {
     "data": {
      "text/html": [
       "<table class=\"simpletable\">\n",
       "<caption>OLS Regression Results</caption>\n",
       "<tr>\n",
       "  <th>Dep. Variable:</th>       <td>lnSalePrice</td>   <th>  R-squared:         </th> <td>   0.517</td> \n",
       "</tr>\n",
       "<tr>\n",
       "  <th>Model:</th>                   <td>OLS</td>       <th>  Adj. R-squared:    </th> <td>   0.516</td> \n",
       "</tr>\n",
       "<tr>\n",
       "  <th>Method:</th>             <td>Least Squares</td>  <th>  F-statistic:       </th> <td>   1555.</td> \n",
       "</tr>\n",
       "<tr>\n",
       "  <th>Date:</th>             <td>Sun, 14 May 2023</td> <th>  Prob (F-statistic):</th> <td>7.33e-232</td>\n",
       "</tr>\n",
       "<tr>\n",
       "  <th>Time:</th>                 <td>17:36:51</td>     <th>  Log-Likelihood:    </th> <td> -187.62</td> \n",
       "</tr>\n",
       "<tr>\n",
       "  <th>No. Observations:</th>      <td>  1456</td>      <th>  AIC:               </th> <td>   379.2</td> \n",
       "</tr>\n",
       "<tr>\n",
       "  <th>Df Residuals:</th>          <td>  1454</td>      <th>  BIC:               </th> <td>   389.8</td> \n",
       "</tr>\n",
       "<tr>\n",
       "  <th>Df Model:</th>              <td>     1</td>      <th>                     </th>     <td> </td>    \n",
       "</tr>\n",
       "<tr>\n",
       "  <th>Covariance Type:</th>      <td>nonrobust</td>    <th>                     </th>     <td> </td>    \n",
       "</tr>\n",
       "</table>\n",
       "<table class=\"simpletable\">\n",
       "<tr>\n",
       "      <td></td>         <th>coef</th>     <th>std err</th>      <th>t</th>      <th>P>|t|</th>  <th>[0.025</th>    <th>0.975]</th>  \n",
       "</tr>\n",
       "<tr>\n",
       "  <th>Intercept</th> <td>   11.1586</td> <td>    0.023</td> <td>  483.993</td> <td> 0.000</td> <td>   11.113</td> <td>   11.204</td>\n",
       "</tr>\n",
       "<tr>\n",
       "  <th>GrLivArea</th> <td>    0.0006</td> <td> 1.45e-05</td> <td>   39.430</td> <td> 0.000</td> <td>    0.001</td> <td>    0.001</td>\n",
       "</tr>\n",
       "</table>\n",
       "<table class=\"simpletable\">\n",
       "<tr>\n",
       "  <th>Omnibus:</th>       <td>108.360</td> <th>  Durbin-Watson:     </th> <td>   2.009</td>\n",
       "</tr>\n",
       "<tr>\n",
       "  <th>Prob(Omnibus):</th> <td> 0.000</td>  <th>  Jarque-Bera (JB):  </th> <td> 179.482</td>\n",
       "</tr>\n",
       "<tr>\n",
       "  <th>Skew:</th>          <td>-0.550</td>  <th>  Prob(JB):          </th> <td>1.06e-39</td>\n",
       "</tr>\n",
       "<tr>\n",
       "  <th>Kurtosis:</th>      <td> 4.322</td>  <th>  Cond. No.          </th> <td>5.07e+03</td>\n",
       "</tr>\n",
       "</table><br/><br/>Notes:<br/>[1] Standard Errors assume that the covariance matrix of the errors is correctly specified.<br/>[2] The condition number is large, 5.07e+03. This might indicate that there are<br/>strong multicollinearity or other numerical problems."
      ],
      "text/latex": [
       "\\begin{center}\n",
       "\\begin{tabular}{lclc}\n",
       "\\toprule\n",
       "\\textbf{Dep. Variable:}    &   lnSalePrice    & \\textbf{  R-squared:         } &     0.517   \\\\\n",
       "\\textbf{Model:}            &       OLS        & \\textbf{  Adj. R-squared:    } &     0.516   \\\\\n",
       "\\textbf{Method:}           &  Least Squares   & \\textbf{  F-statistic:       } &     1555.   \\\\\n",
       "\\textbf{Date:}             & Sun, 14 May 2023 & \\textbf{  Prob (F-statistic):} & 7.33e-232   \\\\\n",
       "\\textbf{Time:}             &     17:36:51     & \\textbf{  Log-Likelihood:    } &   -187.62   \\\\\n",
       "\\textbf{No. Observations:} &        1456      & \\textbf{  AIC:               } &     379.2   \\\\\n",
       "\\textbf{Df Residuals:}     &        1454      & \\textbf{  BIC:               } &     389.8   \\\\\n",
       "\\textbf{Df Model:}         &           1      & \\textbf{                     } &             \\\\\n",
       "\\textbf{Covariance Type:}  &    nonrobust     & \\textbf{                     } &             \\\\\n",
       "\\bottomrule\n",
       "\\end{tabular}\n",
       "\\begin{tabular}{lcccccc}\n",
       "                   & \\textbf{coef} & \\textbf{std err} & \\textbf{t} & \\textbf{P$> |$t$|$} & \\textbf{[0.025} & \\textbf{0.975]}  \\\\\n",
       "\\midrule\n",
       "\\textbf{Intercept} &      11.1586  &        0.023     &   483.993  &         0.000        &       11.113    &       11.204     \\\\\n",
       "\\textbf{GrLivArea} &       0.0006  &     1.45e-05     &    39.430  &         0.000        &        0.001    &        0.001     \\\\\n",
       "\\bottomrule\n",
       "\\end{tabular}\n",
       "\\begin{tabular}{lclc}\n",
       "\\textbf{Omnibus:}       & 108.360 & \\textbf{  Durbin-Watson:     } &    2.009  \\\\\n",
       "\\textbf{Prob(Omnibus):} &   0.000 & \\textbf{  Jarque-Bera (JB):  } &  179.482  \\\\\n",
       "\\textbf{Skew:}          &  -0.550 & \\textbf{  Prob(JB):          } & 1.06e-39  \\\\\n",
       "\\textbf{Kurtosis:}      &   4.322 & \\textbf{  Cond. No.          } & 5.07e+03  \\\\\n",
       "\\bottomrule\n",
       "\\end{tabular}\n",
       "%\\caption{OLS Regression Results}\n",
       "\\end{center}\n",
       "\n",
       "Notes: \\newline\n",
       " [1] Standard Errors assume that the covariance matrix of the errors is correctly specified. \\newline\n",
       " [2] The condition number is large, 5.07e+03. This might indicate that there are \\newline\n",
       " strong multicollinearity or other numerical problems."
      ],
      "text/plain": [
       "<class 'statsmodels.iolib.summary.Summary'>\n",
       "\"\"\"\n",
       "                            OLS Regression Results                            \n",
       "==============================================================================\n",
       "Dep. Variable:            lnSalePrice   R-squared:                       0.517\n",
       "Model:                            OLS   Adj. R-squared:                  0.516\n",
       "Method:                 Least Squares   F-statistic:                     1555.\n",
       "Date:                Sun, 14 May 2023   Prob (F-statistic):          7.33e-232\n",
       "Time:                        17:36:51   Log-Likelihood:                -187.62\n",
       "No. Observations:                1456   AIC:                             379.2\n",
       "Df Residuals:                    1454   BIC:                             389.8\n",
       "Df Model:                           1                                         \n",
       "Covariance Type:            nonrobust                                         \n",
       "==============================================================================\n",
       "                 coef    std err          t      P>|t|      [0.025      0.975]\n",
       "------------------------------------------------------------------------------\n",
       "Intercept     11.1586      0.023    483.993      0.000      11.113      11.204\n",
       "GrLivArea      0.0006   1.45e-05     39.430      0.000       0.001       0.001\n",
       "==============================================================================\n",
       "Omnibus:                      108.360   Durbin-Watson:                   2.009\n",
       "Prob(Omnibus):                  0.000   Jarque-Bera (JB):              179.482\n",
       "Skew:                          -0.550   Prob(JB):                     1.06e-39\n",
       "Kurtosis:                       4.322   Cond. No.                     5.07e+03\n",
       "==============================================================================\n",
       "\n",
       "Notes:\n",
       "[1] Standard Errors assume that the covariance matrix of the errors is correctly specified.\n",
       "[2] The condition number is large, 5.07e+03. This might indicate that there are\n",
       "strong multicollinearity or other numerical problems.\n",
       "\"\"\""
      ]
     },
     "execution_count": 237,
     "metadata": {},
     "output_type": "execute_result"
    }
   ],
   "source": [
    "formula = \"lnSalePrice ~ GrLivArea\"\n",
    "mod = smf.ols(formula=formula, data=data)\n",
    "res = mod.fit()\n",
    "res.summary()"
   ]
  },
  {
   "attachments": {},
   "cell_type": "markdown",
   "metadata": {},
   "source": [
    "Ani v tomto případě nejsou rezidua normální.\n",
    "\n",
    "Normalita reziudí nám brání v použití řady údajů, které nám modul vypočítal. Pokud by rezidua byla normální, mohli bychom interpretovat následující údaje:\n",
    "\n",
    "- `F-statistic` - testuje hypotézu, zda je model statisticky významný jako celek. To oceníme hlavně v případě modelu s více proměnnými. Pokud by byla p-hodnota více než 0.05, je model statisticky nevýznamný (tj. nic nám neříká).\n",
    "- `P>|t|` - testuje hypotézu, zda je statisticky významný konkrétní koeficient. Test se tedy počítá pro každý koeficient zvlášť. Pokud by byla p-hodnota více než 0.05, je koeficient statisticky nevýznamný.\n",
    "\n",
    "Použít ale můžeme základní měřítko kvality modelu, což je koeficient determinace `R-squared`. Ten nám říká, kolik procet rozptylu vysvětlované proměnné jsme naším modelem vysvětlili.\n",
    "\n",
    "Více informací najdete například v [tomto článku](https://medium.com/swlh/interpreting-linear-regression-through-statsmodels-summary-4796d359035a)."
   ]
  },
  {
   "attachments": {},
   "cell_type": "markdown",
   "metadata": {},
   "source": [
    "### Robustní regrese\n",
    "\n",
    "V případě odlehlých pozorování a porušení normality je možné využít i robustní regresi. Ta přiřazuje odlehlejším pozorováním nižší váhu, tj. odlehlá pozorování nám tolik nevychýlí regresní funkci.\n",
    "\n",
    "Přehled různých metod, jak snížit váhu koeficientů, jsou [zde](https://www.statsmodels.org/dev/examples/notebooks/generated/robust_models_1.html)."
   ]
  },
  {
   "cell_type": "code",
   "execution_count": 238,
   "metadata": {},
   "outputs": [
    {
     "data": {
      "text/html": [
       "<table class=\"simpletable\">\n",
       "<caption>Robust linear Model Regression Results</caption>\n",
       "<tr>\n",
       "  <th>Dep. Variable:</th>      <td>SalePrice</td>    <th>  No. Observations:  </th> <td>  1456</td>\n",
       "</tr>\n",
       "<tr>\n",
       "  <th>Model:</th>                 <td>RLM</td>       <th>  Df Residuals:      </th> <td>  1454</td>\n",
       "</tr>\n",
       "<tr>\n",
       "  <th>Method:</th>               <td>IRLS</td>       <th>  Df Model:          </th> <td>     1</td>\n",
       "</tr>\n",
       "<tr>\n",
       "  <th>Norm:</th>                <td>HuberT</td>      <th>                     </th>    <td> </td>  \n",
       "</tr>\n",
       "<tr>\n",
       "  <th>Scale Est.:</th>            <td>mad</td>       <th>                     </th>    <td> </td>  \n",
       "</tr>\n",
       "<tr>\n",
       "  <th>Cov Type:</th>              <td>H1</td>        <th>                     </th>    <td> </td>  \n",
       "</tr>\n",
       "<tr>\n",
       "  <th>Date:</th>           <td>Sun, 14 May 2023</td> <th>                     </th>    <td> </td>  \n",
       "</tr>\n",
       "<tr>\n",
       "  <th>Time:</th>               <td>17:36:51</td>     <th>                     </th>    <td> </td>  \n",
       "</tr>\n",
       "<tr>\n",
       "  <th>No. Iterations:</th>         <td>3</td>        <th>                     </th>    <td> </td>  \n",
       "</tr>\n",
       "</table>\n",
       "<table class=\"simpletable\">\n",
       "<tr>\n",
       "      <td></td>         <th>coef</th>     <th>std err</th>      <th>z</th>      <th>P>|z|</th>  <th>[0.025</th>    <th>0.975]</th>  \n",
       "</tr>\n",
       "<tr>\n",
       "  <th>const</th>     <td> 1.815e+04</td> <td> 3541.705</td> <td>    5.124</td> <td> 0.000</td> <td> 1.12e+04</td> <td> 2.51e+04</td>\n",
       "</tr>\n",
       "<tr>\n",
       "  <th>GrLivArea</th> <td>  105.7028</td> <td>    2.233</td> <td>   47.342</td> <td> 0.000</td> <td>  101.327</td> <td>  110.079</td>\n",
       "</tr>\n",
       "</table><br/><br/>If the model instance has been used for another fit with different fit parameters, then the fit options might not be the correct ones anymore ."
      ],
      "text/latex": [
       "\\begin{center}\n",
       "\\begin{tabular}{lclc}\n",
       "\\toprule\n",
       "\\textbf{Dep. Variable:}  &    SalePrice     & \\textbf{  No. Observations:  } &     1456    \\\\\n",
       "\\textbf{Model:}          &       RLM        & \\textbf{  Df Residuals:      } &     1454    \\\\\n",
       "\\textbf{Method:}         &       IRLS       & \\textbf{  Df Model:          } &        1    \\\\\n",
       "\\textbf{Norm:}           &      HuberT      & \\textbf{                     } &             \\\\\n",
       "\\textbf{Scale Est.:}     &       mad        & \\textbf{                     } &             \\\\\n",
       "\\textbf{Cov Type:}       &        H1        & \\textbf{                     } &             \\\\\n",
       "\\textbf{Date:}           & Sun, 14 May 2023 & \\textbf{                     } &             \\\\\n",
       "\\textbf{Time:}           &     17:36:51     & \\textbf{                     } &             \\\\\n",
       "\\textbf{No. Iterations:} &        3         & \\textbf{                     } &             \\\\\n",
       "\\bottomrule\n",
       "\\end{tabular}\n",
       "\\begin{tabular}{lcccccc}\n",
       "                   & \\textbf{coef} & \\textbf{std err} & \\textbf{z} & \\textbf{P$> |$z$|$} & \\textbf{[0.025} & \\textbf{0.975]}  \\\\\n",
       "\\midrule\n",
       "\\textbf{const}     &    1.815e+04  &     3541.705     &     5.124  &         0.000        &     1.12e+04    &     2.51e+04     \\\\\n",
       "\\textbf{GrLivArea} &     105.7028  &        2.233     &    47.342  &         0.000        &      101.327    &      110.079     \\\\\n",
       "\\bottomrule\n",
       "\\end{tabular}\n",
       "%\\caption{Robust linear Model Regression Results}\n",
       "\\end{center}\n",
       "\n",
       "If the model instance has been used for another fit with different fit parameters, then the fit options might not be the correct ones anymore ."
      ],
      "text/plain": [
       "<class 'statsmodels.iolib.summary.Summary'>\n",
       "\"\"\"\n",
       "                    Robust linear Model Regression Results                    \n",
       "==============================================================================\n",
       "Dep. Variable:              SalePrice   No. Observations:                 1456\n",
       "Model:                            RLM   Df Residuals:                     1454\n",
       "Method:                          IRLS   Df Model:                            1\n",
       "Norm:                          HuberT                                         \n",
       "Scale Est.:                       mad                                         \n",
       "Cov Type:                          H1                                         \n",
       "Date:                Sun, 14 May 2023                                         \n",
       "Time:                        17:36:51                                         \n",
       "No. Iterations:                     3                                         \n",
       "==============================================================================\n",
       "                 coef    std err          z      P>|z|      [0.025      0.975]\n",
       "------------------------------------------------------------------------------\n",
       "const       1.815e+04   3541.705      5.124      0.000    1.12e+04    2.51e+04\n",
       "GrLivArea    105.7028      2.233     47.342      0.000     101.327     110.079\n",
       "==============================================================================\n",
       "\n",
       "If the model instance has been used for another fit with different fit parameters, then the fit options might not be the correct ones anymore .\n",
       "\"\"\""
      ]
     },
     "execution_count": 238,
     "metadata": {},
     "output_type": "execute_result"
    }
   ],
   "source": [
    "data = pandas.read_csv(\"house_prices.csv\")\n",
    "\n",
    "data_x = data[\"GrLivArea\"].to_frame()\n",
    "data_x = sm.add_constant(data_x)\n",
    "\n",
    "rlm_model = sm.RLM(data[\"SalePrice\"], data_x)\n",
    "rlm_results = rlm_model.fit()\n",
    "rlm_results.summary()"
   ]
  },
  {
   "cell_type": "code",
   "execution_count": 239,
   "metadata": {},
   "outputs": [
    {
     "data": {
      "text/plain": [
       "53571953.881708235"
      ]
     },
     "execution_count": 239,
     "metadata": {},
     "output_type": "execute_result"
    }
   ],
   "source": [
    "sum(numpy.abs(rlm_results.resid))"
   ]
  },
  {
   "cell_type": "code",
   "execution_count": 240,
   "metadata": {},
   "outputs": [
    {
     "data": {
      "text/html": [
       "<table class=\"simpletable\">\n",
       "<caption>Robust linear Model Regression Results</caption>\n",
       "<tr>\n",
       "  <th>Dep. Variable:</th>      <td>SalePrice</td>    <th>  No. Observations:  </th> <td>  1456</td>\n",
       "</tr>\n",
       "<tr>\n",
       "  <th>Model:</th>                 <td>RLM</td>       <th>  Df Residuals:      </th> <td>  1453</td>\n",
       "</tr>\n",
       "<tr>\n",
       "  <th>Method:</th>               <td>IRLS</td>       <th>  Df Model:          </th> <td>     2</td>\n",
       "</tr>\n",
       "<tr>\n",
       "  <th>Norm:</th>                <td>HuberT</td>      <th>                     </th>    <td> </td>  \n",
       "</tr>\n",
       "<tr>\n",
       "  <th>Scale Est.:</th>            <td>mad</td>       <th>                     </th>    <td> </td>  \n",
       "</tr>\n",
       "<tr>\n",
       "  <th>Cov Type:</th>              <td>H1</td>        <th>                     </th>    <td> </td>  \n",
       "</tr>\n",
       "<tr>\n",
       "  <th>Date:</th>           <td>Sun, 14 May 2023</td> <th>                     </th>    <td> </td>  \n",
       "</tr>\n",
       "<tr>\n",
       "  <th>Time:</th>               <td>17:36:51</td>     <th>                     </th>    <td> </td>  \n",
       "</tr>\n",
       "<tr>\n",
       "  <th>No. Iterations:</th>         <td>5</td>        <th>                     </th>    <td> </td>  \n",
       "</tr>\n",
       "</table>\n",
       "<table class=\"simpletable\">\n",
       "<tr>\n",
       "       <td></td>         <th>coef</th>     <th>std err</th>      <th>z</th>      <th>P>|z|</th>  <th>[0.025</th>    <th>0.975]</th>  \n",
       "</tr>\n",
       "<tr>\n",
       "  <th>const</th>      <td>-2247.0002</td> <td> 3125.948</td> <td>   -0.719</td> <td> 0.472</td> <td>-8373.747</td> <td> 3879.746</td>\n",
       "</tr>\n",
       "<tr>\n",
       "  <th>GrLivArea</th>  <td>   79.1223</td> <td>    2.120</td> <td>   37.313</td> <td> 0.000</td> <td>   74.966</td> <td>   83.278</td>\n",
       "</tr>\n",
       "<tr>\n",
       "  <th>GarageArea</th> <td>  130.0671</td> <td>    4.970</td> <td>   26.173</td> <td> 0.000</td> <td>  120.327</td> <td>  139.807</td>\n",
       "</tr>\n",
       "</table><br/><br/>If the model instance has been used for another fit with different fit parameters, then the fit options might not be the correct ones anymore ."
      ],
      "text/latex": [
       "\\begin{center}\n",
       "\\begin{tabular}{lclc}\n",
       "\\toprule\n",
       "\\textbf{Dep. Variable:}  &    SalePrice     & \\textbf{  No. Observations:  } &     1456    \\\\\n",
       "\\textbf{Model:}          &       RLM        & \\textbf{  Df Residuals:      } &     1453    \\\\\n",
       "\\textbf{Method:}         &       IRLS       & \\textbf{  Df Model:          } &        2    \\\\\n",
       "\\textbf{Norm:}           &      HuberT      & \\textbf{                     } &             \\\\\n",
       "\\textbf{Scale Est.:}     &       mad        & \\textbf{                     } &             \\\\\n",
       "\\textbf{Cov Type:}       &        H1        & \\textbf{                     } &             \\\\\n",
       "\\textbf{Date:}           & Sun, 14 May 2023 & \\textbf{                     } &             \\\\\n",
       "\\textbf{Time:}           &     17:36:51     & \\textbf{                     } &             \\\\\n",
       "\\textbf{No. Iterations:} &        5         & \\textbf{                     } &             \\\\\n",
       "\\bottomrule\n",
       "\\end{tabular}\n",
       "\\begin{tabular}{lcccccc}\n",
       "                    & \\textbf{coef} & \\textbf{std err} & \\textbf{z} & \\textbf{P$> |$z$|$} & \\textbf{[0.025} & \\textbf{0.975]}  \\\\\n",
       "\\midrule\n",
       "\\textbf{const}      &   -2247.0002  &     3125.948     &    -0.719  &         0.472        &    -8373.747    &     3879.746     \\\\\n",
       "\\textbf{GrLivArea}  &      79.1223  &        2.120     &    37.313  &         0.000        &       74.966    &       83.278     \\\\\n",
       "\\textbf{GarageArea} &     130.0671  &        4.970     &    26.173  &         0.000        &      120.327    &      139.807     \\\\\n",
       "\\bottomrule\n",
       "\\end{tabular}\n",
       "%\\caption{Robust linear Model Regression Results}\n",
       "\\end{center}\n",
       "\n",
       "If the model instance has been used for another fit with different fit parameters, then the fit options might not be the correct ones anymore ."
      ],
      "text/plain": [
       "<class 'statsmodels.iolib.summary.Summary'>\n",
       "\"\"\"\n",
       "                    Robust linear Model Regression Results                    \n",
       "==============================================================================\n",
       "Dep. Variable:              SalePrice   No. Observations:                 1456\n",
       "Model:                            RLM   Df Residuals:                     1453\n",
       "Method:                          IRLS   Df Model:                            2\n",
       "Norm:                          HuberT                                         \n",
       "Scale Est.:                       mad                                         \n",
       "Cov Type:                          H1                                         \n",
       "Date:                Sun, 14 May 2023                                         \n",
       "Time:                        17:36:51                                         \n",
       "No. Iterations:                     5                                         \n",
       "==============================================================================\n",
       "                 coef    std err          z      P>|z|      [0.025      0.975]\n",
       "------------------------------------------------------------------------------\n",
       "const      -2247.0002   3125.948     -0.719      0.472   -8373.747    3879.746\n",
       "GrLivArea     79.1223      2.120     37.313      0.000      74.966      83.278\n",
       "GarageArea   130.0671      4.970     26.173      0.000     120.327     139.807\n",
       "==============================================================================\n",
       "\n",
       "If the model instance has been used for another fit with different fit parameters, then the fit options might not be the correct ones anymore .\n",
       "\"\"\""
      ]
     },
     "execution_count": 240,
     "metadata": {},
     "output_type": "execute_result"
    }
   ],
   "source": [
    "data_x = data[[\"GrLivArea\", \"GarageArea\"]]\n",
    "data_x = sm.add_constant(data_x)\n",
    "\n",
    "rlm_model = sm.RLM(data[\"SalePrice\"], data_x)\n",
    "rlm_results = rlm_model.fit()\n",
    "rlm_results.summary()"
   ]
  },
  {
   "cell_type": "code",
   "execution_count": 241,
   "metadata": {},
   "outputs": [
    {
     "data": {
      "text/plain": [
       "45903817.07842432"
      ]
     },
     "execution_count": 241,
     "metadata": {},
     "output_type": "execute_result"
    }
   ],
   "source": [
    "sum(numpy.abs(rlm_results.resid))"
   ]
  },
  {
   "attachments": {},
   "cell_type": "markdown",
   "metadata": {},
   "source": [
    "# Cvičení\n",
    "\n",
    "## Kvalita betonu\n",
    "\n",
    "V souboru [Concrete_Data_Yeh.csv](Concrete_Data_Yeh.csv) najdeš informace o kvalitě betonu. Sloupce 1-7 udávají množství jednotlivých složek v kg, které byly přimíchány do krychlového metru betonu (např. cement, voda, kamenivo, písek atd.). Ve sloupci 8 je stáří betonu a ve sloupci 9 kompresní síla betonu v megapascalech. Vytvoř regresní model, který bude predikovat kompresní sílu betonu na základě všech množství jednotlivých složek a jeho stáří. Zhodnoť kvalitu modelu.\n",
    "\n",
    "Která ze složek betonu ovlivňuje sílu betonu negativně (tj. má záporný regresní koeficient)?\n",
    "\n",
    "```py\n",
    "formula = \"csMPa ~ slag + flyash\"\n",
    "```\n",
    "\n",
    "Řešení příkladu je [zde](reseni.ipynb). Video s řešením příkladu je [zde](https://youtu.be/iGXlEpf0yb4).\n",
    "\n",
    "## Bonus: Pojišťovna\n",
    "\n",
    "V souboru [expenses.csv](expenses.csv) najdeš informace o platbách za pojištěnce jedné pojišťovny: věk, pohlaví, BMI (index počítaný jako hmotnost dělená výškou), počet dětí, kuřák/nekuřák, region a platby za pojištěnce. \n",
    "\n",
    "Vytvoř regresní model, který odhadne platby za pojištěnce na základě jeho věku a indexu BMI.\n",
    "\n",
    "V regresi se často využívá metoda označovaná jako One Hot Encoding, která slouží ke zpracování nečíselných (kategoriálních) dat. Metodu aplikuješ tak, že vytvoříme sloupec pro každou hodnotu, které kategoriálních hodnota může nabýt. Pro každý řádek je pak hodnota příslušného sloupce 1 a ostatních sloupců 0. Vytvoř tedy sloupec `smoker_number` (takovému sloupci se říká *dummy* proměnná), který bude obsahovat hodnotu 1, pokud je ve sloupci `smoker` hodnota `yes`, a v opačném případě 0. Můžeš využít metodu `apply()` nebo funkci `numpy.where()`. Dále přidej nově vytvořený sloupec do regresního modelu. O kolik se zvýšil koeficient determinace?\n",
    "\n",
    "Takový postup vytváření je poměrně pracný, hlavně v případě, že proměnná nabývá více různých hodnot. `pandas` k tomu nabízí funkci `get_dummies()`. Vyzkoušej si funkci použitím příkazu níže.\n",
    "\n",
    "```py\n",
    "smoker = pandas.get_dummies(data[\"smoker\"])\n",
    "smoker\n",
    "```\n",
    "\n",
    "Dále připoj data do původní tabulky. Připojení je nutné provést s využitím indexů, protože tabulky nemají společný sloupec. Proto využij funkci `merge()` s parametry `left_index=True` a `right_index=True`.\n",
    "\n",
    "```py\n",
    "data = pandas.merge(data, smoker, left_index=True, right_index=True)\n",
    "data\n",
    "```\n",
    "\n",
    "Nyní využij tento sloupec ve svém regresním modelu.\n",
    "\n",
    "Řešení bonusu je [zde](reseni.ipynb). Video s řešením příkladu je [zde](https://youtu.be/oJPz7Ui4ZkE)."
   ]
  }
 ],
 "metadata": {
  "kernelspec": {
   "display_name": "venv",
   "language": "python",
   "name": "python3"
  },
  "language_info": {
   "codemirror_mode": {
    "name": "ipython",
    "version": 3
   },
   "file_extension": ".py",
   "mimetype": "text/x-python",
   "name": "python",
   "nbconvert_exporter": "python",
   "pygments_lexer": "ipython3",
   "version": "3.11.2"
  },
  "orig_nbformat": 4
 },
 "nbformat": 4,
 "nbformat_minor": 2
}
