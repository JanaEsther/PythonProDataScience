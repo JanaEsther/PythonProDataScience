{
 "cells": [
  {
   "attachments": {},
   "cell_type": "markdown",
   "metadata": {},
   "source": [
    "## Plocha garáže\n",
    "\n",
    "Na minulé lekci jsme řešili korelaci mezi plochou garáže (`GarageArea`) a cenou domu. Ověř nyní, zda je tato korelace statisticky významná.\n",
    "\n",
    "Použij Kendallovo tau pro ověření statistické významnosti lineární závislosti. Jaká je p-hodnota testu? Zamítáme nulovou hypotézu?\n",
    "\n",
    "- Nulová hypotéza: Plocha garáže a cena domu jsou lineárně nezávislé (tj. korelační koeficient = 0).\n",
    "- Alternativní hypotéza: Plocha garáže a cena domu jsou lineárně závislé (tj. korelační koeficient nerovná se 0)."
   ]
  },
  {
   "cell_type": "code",
   "execution_count": 1,
   "metadata": {},
   "outputs": [
    {
     "name": "stdout",
     "output_type": "stream",
     "text": [
      "SignificanceResult(statistic=0.4780320142820046, pvalue=1.9398423480396507e-162)\n"
     ]
    }
   ],
   "source": [
    "import pandas\n",
    "from scipy import stats\n",
    "\n",
    "data = pandas.read_csv(\"house_prices.csv\")\n",
    "res = stats.kendalltau(data[\"SalePrice\"], data[\"GarageArea\"])\n",
    "print(res)"
   ]
  },
  {
   "attachments": {},
   "cell_type": "markdown",
   "metadata": {},
   "source": [
    "Zamítáme nulovou hypotézu, tj. existuje korelace mezi plochou garáže a cenou domu."
   ]
  },
  {
   "attachments": {},
   "cell_type": "markdown",
   "metadata": {},
   "source": [
    "## Plocha garáže 2\n",
    "\n",
    "Ač cena domu nemá normální rozdělení, možná by ho mohla mít plocha garáže. Ověř hypotézu normality pro plochu garáže. Formuluj hypotézy, následně použij Shapiro-Wilk test. Jaká je p-hodnota testu? A co to znamená?\n",
    "\n",
    "- Nulová hypotéza: Plochy garáže v našem souboru mají normální rozdělení.\n",
    "- Alternativní hypotéza: Plochy garáže v našem souboru nemají normální rozdělení."
   ]
  },
  {
   "cell_type": "code",
   "execution_count": 2,
   "metadata": {},
   "outputs": [
    {
     "name": "stdout",
     "output_type": "stream",
     "text": [
      "ShapiroResult(statistic=0.9767375588417053, pvalue=1.3495225377187052e-14)\n"
     ]
    }
   ],
   "source": [
    "res = stats.shapiro(data[\"GarageArea\"])\n",
    "print(res)"
   ]
  },
  {
   "attachments": {},
   "cell_type": "markdown",
   "metadata": {},
   "source": [
    "Zamítáme nulovou hypotézu, tj. plocha garáže nemá normální rozdělení."
   ]
  }
 ],
 "metadata": {
  "kernelspec": {
   "display_name": "venv",
   "language": "python",
   "name": "python3"
  },
  "language_info": {
   "codemirror_mode": {
    "name": "ipython",
    "version": 3
   },
   "file_extension": ".py",
   "mimetype": "text/x-python",
   "name": "python",
   "nbconvert_exporter": "python",
   "pygments_lexer": "ipython3",
   "version": "3.11.2"
  },
  "orig_nbformat": 4
 },
 "nbformat": 4,
 "nbformat_minor": 2
}
