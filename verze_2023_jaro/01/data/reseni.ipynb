{
 "cells": [
  {
   "cell_type": "code",
   "execution_count": 1,
   "metadata": {},
   "outputs": [
    {
     "name": "stdout",
     "output_type": "stream",
     "text": [
      "product_code\n",
      "A35-AC    43\n",
      "DBR-56    56\n",
      "dtype: int64\n",
      "product_code\n",
      "A35-AC    -4.281106\n",
      "DBR-56   -19.323529\n",
      "DTC-23    -9.946154\n",
      "Name: quantity, dtype: float64\n"
     ]
    }
   ],
   "source": [
    "import pandas\n",
    "\n",
    "# Načtení dat\n",
    "df = pandas.read_csv(\"inventory.csv\")\n",
    "# Řazení - pozor na pořadí sloupců\n",
    "df = df.sort_values([\"product_code\", \"date\"])\n",
    "# Tento řádek můžeme pro první část úkolu přidat, pro druhou část se nám moc nehodí\n",
    "# df = df.groupby([\"product_code\", \"date\"]).sum(numeric_only=True)\n",
    "df[\"quantity_cumsum\"] = df.groupby(\"product_code\")[\"quantity\"].cumsum()\n",
    "# Vyberene řádky, kde je vyprodáno, a vložíme je do nové tabulky\n",
    "df_sold = df[df[\"quantity_cumsum\"] == 0]\n",
    "# Podíváme se na počty řádků podle produktu\n",
    "df_sold = df_sold.groupby(\"product_code\").size()\n",
    "print(df_sold)\n",
    "\n",
    "# Nyní vybírám řádky, kde je quantity méně nebo rovno 0 - odebírám doplňování zboží\n",
    "df_avg = df[df[\"quantity\"] <= 0]\n",
    "# Nyní odebírám řádky, kdy není zboží vyprodáno\n",
    "df_avg = df_avg[df_avg[\"quantity_cumsum\"] != 0]\n",
    "# Spočítáme průměrný počet prodaných kusů\n",
    "df_avg = df_avg.groupby(\"product_code\")[\"quantity\"].mean()\n",
    "print(df_avg)\n"
   ]
  }
 ],
 "metadata": {
  "kernelspec": {
   "display_name": "Python 3",
   "language": "python",
   "name": "python3"
  },
  "language_info": {
   "codemirror_mode": {
    "name": "ipython",
    "version": 3
   },
   "file_extension": ".py",
   "mimetype": "text/x-python",
   "name": "python",
   "nbconvert_exporter": "python",
   "pygments_lexer": "ipython3",
   "version": "3.11.2"
  },
  "orig_nbformat": 4,
  "vscode": {
   "interpreter": {
    "hash": "df8beb7ca8a5b8ad5e694b8800de7778499f4f3966a29c79c483b6984243ce19"
   }
  }
 },
 "nbformat": 4,
 "nbformat_minor": 2
}
